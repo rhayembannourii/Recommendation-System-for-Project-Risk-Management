{
 "cells": [
  {
   "cell_type": "markdown",
   "id": "d11ed17f",
   "metadata": {},
   "source": [
    "### <h1><center>Projet 'IA et cognition</center></h1>\n",
    "<h3>Équipe 3 Classe 5D1 <h3>\n",
    "<ul>\n",
    "  <li>Eya Loukil</li>\n",
    "  <li>Hane Bhar</li>\n",
    "  <li>Nour Soffelgil</li>\n",
    "  <li>Omar Dahmen</li>\n",
    "  <li>Yassine Ayadi</li>\n",
    "  <li>Rawia Khchini</li>\n",
    "</ul>"
   ]
  },
  {
   "cell_type": "code",
   "execution_count": 1,
   "id": "a8bebbfa",
   "metadata": {},
   "outputs": [],
   "source": [
    "import PyPDF2\n",
    "import string\n",
    "import nltk\n",
    "from nltk.stem import PorterStemmer, WordNetLemmatizer\n",
    "from nltk.corpus import stopwords\n",
    "from nltk.corpus import wordnet\n",
    "from nltk import pos_tag , word_tokenize , sent_tokenize\n",
    "import pandas as pd\n",
    "import spacy\n",
    "import re\n",
    "from autocorrect import Speller\n",
    "from spacy.matcher import Matcher\n",
    "import itertools\n",
    "from gensim.corpora import Dictionary\n",
    "from gensim.models import TfidfModel\n",
    "import numpy as np\n",
    "import matplotlib.pyplot as plt\n",
    "\n",
    "\n",
    "# Chargez le petit modèle linguistique pour l'anglais et attribuez-le à la variable 'nlp'.\n",
    "nlp = spacy.load('en_core_web_sm')\n",
    "\n",
    "#nltk.download('punkt')\n",
    "#nltk.download('wordnet')\n",
    "#nltk.download('averaged_perceptron_tagger')\n",
    "#nltk.download('stopwords')"
   ]
  },
  {
   "cell_type": "markdown",
   "id": "c58ab107",
   "metadata": {},
   "source": [
    "# Phase 1 Preprocessing"
   ]
  },
  {
   "cell_type": "code",
   "execution_count": 2,
   "id": "656a82de",
   "metadata": {},
   "outputs": [],
   "source": [
    "# objet lecteur pdf\n",
    "pdfFileObj = open('PMBOK 5th.pdf', 'rb')\n",
    "pdfReader = PyPDF2.PdfFileReader(pdfFileObj)"
   ]
  },
  {
   "cell_type": "code",
   "execution_count": 3,
   "id": "e13c9cdb",
   "metadata": {},
   "outputs": [
    {
     "name": "stdout",
     "output_type": "stream",
     "text": [
      "616\n"
     ]
    }
   ],
   "source": [
    "# nombre de pages en pdf\n",
    "print(pdfReader.numPages)"
   ]
  },
  {
   "cell_type": "code",
   "execution_count": 4,
   "id": "c3fabad9",
   "metadata": {},
   "outputs": [],
   "source": [
    "#Extraction de texte à partir de pdf\n",
    "#(41 pages [de 309 à 354 page] du PMBOK).\n",
    "writer = PyPDF2.PdfFileWriter()\n",
    "for i in range(334,380):\n",
    "    my_page = pdfReader.getPage(i)\n",
    "    writer.addPage(my_page)\n",
    "output_filename = 'PROJECT_RISK_MANAGEMENT.pdf'\n",
    "with open(output_filename, 'wb') as output:\n",
    "    writer.write(output)"
   ]
  },
  {
   "cell_type": "code",
   "execution_count": 5,
   "id": "0bfa88c4",
   "metadata": {},
   "outputs": [],
   "source": [
    "pdfFileObj = open('PROJECT_RISK_MANAGEMENT.pdf', 'rb')"
   ]
  },
  {
   "cell_type": "code",
   "execution_count": 6,
   "id": "c0b91fe3",
   "metadata": {
    "scrolled": true
   },
   "outputs": [
    {
     "name": "stdout",
     "output_type": "stream",
     "text": [
      "46\n"
     ]
    }
   ],
   "source": [
    "PROJECT_RISK_MANAGEMENT = PyPDF2.PdfFileReader(pdfFileObj)\n",
    "print(PROJECT_RISK_MANAGEMENT.numPages)"
   ]
  },
  {
   "cell_type": "markdown",
   "id": "27dcb47b",
   "metadata": {},
   "source": [
    "## PROJECT_RISK_MANAGEMENT"
   ]
  },
  {
   "cell_type": "code",
   "execution_count": 7,
   "id": "4b3f62d2",
   "metadata": {},
   "outputs": [],
   "source": [
    "text=\"\"\n",
    "for i in range(0,PROJECT_RISK_MANAGEMENT.numPages):\n",
    "    page=PROJECT_RISK_MANAGEMENT.getPage(i)\n",
    "    text=text+page.extractText()\n",
    "text=text.replace(\"\\n\",\"\")"
   ]
  },
  {
   "cell_type": "markdown",
   "id": "84d3665e",
   "metadata": {},
   "source": [
    "# Extraction de Chaque processus"
   ]
  },
  {
   "cell_type": "markdown",
   "id": "d12af5de",
   "metadata": {},
   "source": [
    "### PlanRiskManagement"
   ]
  },
  {
   "cell_type": "code",
   "execution_count": 8,
   "id": "15b36a6e",
   "metadata": {},
   "outputs": [],
   "source": [
    "PlanRiskManagement=\"\"\n",
    "for i in range(0,10):\n",
    "    page=PROJECT_RISK_MANAGEMENT.getPage(i)\n",
    "    PlanRiskManagement=PlanRiskManagement+page.extractText()\n",
    "PlanRiskManagement=PlanRiskManagement.replace(\"\\n\",\"\")"
   ]
  },
  {
   "cell_type": "markdown",
   "id": "32bff30e",
   "metadata": {},
   "source": [
    "### IdentifyRisks"
   ]
  },
  {
   "cell_type": "code",
   "execution_count": 9,
   "id": "45dc7e75",
   "metadata": {},
   "outputs": [],
   "source": [
    "IdentifyRisks=\"\"\n",
    "for i in range(10,19):\n",
    "    page=PROJECT_RISK_MANAGEMENT.getPage(i)\n",
    "    IdentifyRisks=IdentifyRisks+page.extractText()\n",
    "IdentifyRisks=IdentifyRisks.replace(\"\\n\",\"\")"
   ]
  },
  {
   "cell_type": "markdown",
   "id": "1d0bd5cb",
   "metadata": {},
   "source": [
    "### PerformQualitativeRiskAnalysis"
   ]
  },
  {
   "cell_type": "code",
   "execution_count": 10,
   "id": "a0e9aa32",
   "metadata": {},
   "outputs": [],
   "source": [
    "PerformQualitativeRiskAnalysis=\"\"\n",
    "for i in range(19,25):\n",
    "    page=PROJECT_RISK_MANAGEMENT.getPage(i)\n",
    "    PerformQualitativeRiskAnalysis=PerformQualitativeRiskAnalysis+page.extractText()\n",
    "PerformQualitativeRiskAnalysis=PerformQualitativeRiskAnalysis.replace(\"\\n\",\"\")"
   ]
  },
  {
   "cell_type": "markdown",
   "id": "5908ef91",
   "metadata": {},
   "source": [
    "### PerformQuantitativeRisk"
   ]
  },
  {
   "cell_type": "code",
   "execution_count": 11,
   "id": "ee9ea681",
   "metadata": {},
   "outputs": [],
   "source": [
    "PerformQuantitativeRisk=\"\"\n",
    "for i in range(24,33):\n",
    "    page=PROJECT_RISK_MANAGEMENT.getPage(i)\n",
    "    PerformQuantitativeRisk=PerformQuantitativeRisk+page.extractText()\n",
    "PerformQuantitativeRisk=PerformQuantitativeRisk.replace(\"\\n\",\"\")"
   ]
  },
  {
   "cell_type": "markdown",
   "id": "91ab62b4",
   "metadata": {},
   "source": [
    "### PlanRiskResponses"
   ]
  },
  {
   "cell_type": "code",
   "execution_count": 12,
   "id": "bb4201cb",
   "metadata": {},
   "outputs": [],
   "source": [
    "PlanRiskResponses=\"\"\n",
    "for i in range(33,40):\n",
    "    page=PROJECT_RISK_MANAGEMENT.getPage(i)\n",
    "    PlanRiskResponses=PlanRiskResponses+page.extractText()\n",
    "PlanRiskResponses=PlanRiskResponses.replace(\"\\n\",\"\")\n",
    "\n"
   ]
  },
  {
   "cell_type": "markdown",
   "id": "82bebc52",
   "metadata": {},
   "source": [
    "### ControlRisks"
   ]
  },
  {
   "cell_type": "code",
   "execution_count": 13,
   "id": "d3bee2e7",
   "metadata": {},
   "outputs": [],
   "source": [
    "ControlRisks=\"\"\n",
    "for i in range(40,46):\n",
    "    page=PROJECT_RISK_MANAGEMENT.getPage(i)\n",
    "    ControlRisks=ControlRisks+page.extractText()\n",
    "ControlRisks=ControlRisks.replace(\"\\n\",\"\")\n"
   ]
  },
  {
   "cell_type": "code",
   "execution_count": 14,
   "id": "725dfe33",
   "metadata": {},
   "outputs": [],
   "source": [
    "#dataframe pour tout les processus\n",
    "df_processes=pd.DataFrame([PlanRiskManagement,IdentifyRisks,PerformQualitativeRiskAnalysis,PerformQuantitativeRisk,PlanRiskResponses,ControlRisks],columns=[\"processes\"])\n",
    "df_processes[\"nom_processes\"]=[\"PlanRiskManagement\",\"IdentifyRisks\",\"PerformQualitativeRiskAnalysis\",\"PerformQuantitativeRisk\",\"PlanRiskResponses\",\"ControlRisks\"]"
   ]
  },
  {
   "cell_type": "code",
   "execution_count": 15,
   "id": "7b873279",
   "metadata": {},
   "outputs": [],
   "source": [
    "df_processes=df_processes[[\"nom_processes\",\"processes\"]]"
   ]
  },
  {
   "cell_type": "code",
   "execution_count": 16,
   "id": "e560c30b",
   "metadata": {
    "scrolled": true
   },
   "outputs": [
    {
     "data": {
      "text/html": [
       "<div>\n",
       "<style scoped>\n",
       "    .dataframe tbody tr th:only-of-type {\n",
       "        vertical-align: middle;\n",
       "    }\n",
       "\n",
       "    .dataframe tbody tr th {\n",
       "        vertical-align: top;\n",
       "    }\n",
       "\n",
       "    .dataframe thead th {\n",
       "        text-align: right;\n",
       "    }\n",
       "</style>\n",
       "<table border=\"1\" class=\"dataframe\">\n",
       "  <thead>\n",
       "    <tr style=\"text-align: right;\">\n",
       "      <th></th>\n",
       "      <th>nom_processes</th>\n",
       "      <th>processes</th>\n",
       "    </tr>\n",
       "  </thead>\n",
       "  <tbody>\n",
       "    <tr>\n",
       "      <th>0</th>\n",
       "      <td>PlanRiskManagement</td>\n",
       "      <td>309©2013 Project Management Institute. A Guide...</td>\n",
       "    </tr>\n",
       "    <tr>\n",
       "      <th>1</th>\n",
       "      <td>IdentifyRisks</td>\n",
       "      <td>319©2013 Project Management Institute. A Guide...</td>\n",
       "    </tr>\n",
       "    <tr>\n",
       "      <th>2</th>\n",
       "      <td>PerformQualitativeRiskAnalysis</td>\n",
       "      <td>328©2013 Project Management Institute. A Guide...</td>\n",
       "    </tr>\n",
       "    <tr>\n",
       "      <th>3</th>\n",
       "      <td>PerformQuantitativeRisk</td>\n",
       "      <td>333©2013 Project Management Institute. A Guide...</td>\n",
       "    </tr>\n",
       "    <tr>\n",
       "      <th>4</th>\n",
       "      <td>PlanRiskResponses</td>\n",
       "      <td>342©2013 Project Management Institute. A Guide...</td>\n",
       "    </tr>\n",
       "    <tr>\n",
       "      <th>5</th>\n",
       "      <td>ControlRisks</td>\n",
       "      <td>349©2013 Project Management Institute. A Guide...</td>\n",
       "    </tr>\n",
       "  </tbody>\n",
       "</table>\n",
       "</div>"
      ],
      "text/plain": [
       "                    nom_processes  \\\n",
       "0              PlanRiskManagement   \n",
       "1                   IdentifyRisks   \n",
       "2  PerformQualitativeRiskAnalysis   \n",
       "3         PerformQuantitativeRisk   \n",
       "4               PlanRiskResponses   \n",
       "5                    ControlRisks   \n",
       "\n",
       "                                           processes  \n",
       "0  309©2013 Project Management Institute. A Guide...  \n",
       "1  319©2013 Project Management Institute. A Guide...  \n",
       "2  328©2013 Project Management Institute. A Guide...  \n",
       "3  333©2013 Project Management Institute. A Guide...  \n",
       "4  342©2013 Project Management Institute. A Guide...  \n",
       "5  349©2013 Project Management Institute. A Guide...  "
      ]
     },
     "execution_count": 16,
     "metadata": {},
     "output_type": "execute_result"
    }
   ],
   "source": [
    "df_processes"
   ]
  },
  {
   "cell_type": "code",
   "execution_count": 17,
   "id": "8dc3e373",
   "metadata": {},
   "outputs": [],
   "source": [
    "def clean(text):\n",
    "    \n",
    "    # Suppression des numéros de paragraphe\n",
    "    text = re.sub('[0-9]+.[0-9]+.[0-9]+.[0-9]+\\t',' ',str(text))\n",
    "    text = re.sub('[0-9]+.[0-9]+.[0-9]+\\t',' ',str(text))\n",
    "    text = re.sub('[0-9]+.[0-9]+\\t',' ',str(text))\n",
    "    text = re.sub('[[0-9]+.]+\\t',' ',str(text))\n",
    "    text = re.sub('[0-9]+.[0-9]+.[0-9]+.[0-9]+ ',' ',str(text))\n",
    "    text = re.sub('[0-9]+.[0-9]+.[0-9]+ ',' ',str(text))\n",
    "    text = re.sub('[0-9]+.[0-9]+ ',' ',str(text))\n",
    "    text = re.sub('[[0-9]+.]+ ',' ',str(text))\n",
    "    text = re.sub('[.[0-9]+]+\\t',' ',str(text))\n",
    "    text = re.sub('[.[0-9]+.]+ ',' ',str(text))\n",
    "    # Suppression des numéros de page\n",
    "    text = re.sub('[0-9]+©2013 ',' ',str(text))\n",
    "    # Suppression de l'en-tête et du pied de page\n",
    "    text = re.sub('Project Management Institute.',' ',str(text))\n",
    "    text = re.sub('Licensed To: Jorge Diego Fuentes Sanchez PMI MemberID: 2399412This copy is a PMI Member benefit, not for distribution, sale, or reproduction.','',str(text))\n",
    "    # suppression des caractères de la nouvelle ligne\n",
    "    text = re.sub('\\n ',' ',str(text))\n",
    "    text = re.sub('\\n',' ',str(text))\n",
    "    text = re.sub(':',' conceptualise ',str(text))\n",
    "    text = re.sub('†','',str(text))\n",
    "    # supprimer les apostrophes\n",
    "    text = re.sub(\"™\",\"'\",text)\n",
    "    text = re.sub(\"¥\",\"'\",text)\n",
    "    text = re.sub(\"'s\",\"'\",str(text))\n",
    "    # suppression des traits d'union\n",
    "    text = re.sub(\"-\",' ',str(text))\n",
    "    text = re.sub(\"— \",'',str(text))\n",
    "    # suppression des guillemets\n",
    "    text = re.sub('\\\"',' ',str(text))\n",
    "    text = re.sub('“',' ',str(text))\n",
    "    # suppression de toute référence\n",
    "    text = re.sub(\"[\\(\\[].*?[\\)\\]]\", \" \", str(text))\n",
    "    text = re.sub(\"[ ]+\",\" \",str(text))\n",
    "    # correction de texte\n",
    "    text = re.sub(\"˜\",\"fi\",text)\n",
    "    text = re.sub(\"˚\",\"kn\",text)\n",
    "    text = re.sub(\"Š\",\" \",text)\n",
    "    text = re.sub(\",\",\" \",text)\n",
    "    text = re.sub(\"PMBOK®\",\"PMBOK\",text)\n",
    "    text = re.sub(\"INTRODUCTIONINTRODUCTIONA\",\"A\",text)\n",
    "    text = re.sub(\"PROJECT RISK MANAGEMENTPROJECT RISK MANAGEMENT\",\" \",text)\n",
    "    text = re.sub('A Guide to the Project Management Body of Knowledge Œ Fifth Edition 11 A Guide to the Project Management Body of Knowledge Œ Fifth Edition ','A Guide to the Project Management Body of Knowledge Œ Fifth Edition ',str(text))\n",
    "    text = re.sub('A Guide to the Project Management Body of Knowledge Œ Fifth Edition ',' ',str(text))\n",
    "    text = re.sub(\"PROJECT RISK MANAGEMENT\",\" \",text)\n",
    "    text = re.sub(\"Identify RisksIdentify Risks\",\" \",text)\n",
    "    text = re.sub(\"Perform Qualitative Risk AnalysisPerform Qualitative Risk Analysis\",\" \",text)\n",
    "    text = re.sub(\"Perform Quantitative Risk AnalysisPerform Quantitative Risk Analysis\",\" \",text)\n",
    "    text = re.sub(\"Plan Risk ResponsesPlan Risk Responses\",\" \",text)\n",
    "    text = re.sub(\"Control RisksControl Risks\",\" \",text)\n",
    "    text = re.sub(\"Plan Risk ManagementPlan Risk Management\",\" \",text)\n",
    "    text = re.sub('Œ','',text)\n",
    "    text = re.sub('[0-9]+','',str(text))\n",
    "    # supprimer les répétitions d'espace\n",
    "    text = re.sub(\"[ ]+\",\" \",str(text))\n",
    "    \n",
    "    return text"
   ]
  },
  {
   "cell_type": "code",
   "execution_count": 18,
   "id": "20b1c1e9",
   "metadata": {},
   "outputs": [],
   "source": [
    "#Fonction pour éliminer les ponctuations\n",
    "def remove_punctuation(text_original):\n",
    "    text_no_punctuation = text_original.translate(str.maketrans('', '', string.punctuation))\n",
    "    return(text_no_punctuation)"
   ]
  },
  {
   "cell_type": "code",
   "execution_count": 19,
   "id": "a19ddc9e",
   "metadata": {},
   "outputs": [],
   "source": [
    "#Fonction pour supprimer les caractères spéciaux\n",
    "def remove_special(text_original):\n",
    "    text_no_punctuation = text_original.translate(str.maketrans('', '', '™ŒŠ˚˜©®œ'))\n",
    "    return(text_no_punctuation)"
   ]
  },
  {
   "cell_type": "code",
   "execution_count": 20,
   "id": "dc723fa6",
   "metadata": {},
   "outputs": [],
   "source": [
    "spell = Speller(lang='en')"
   ]
  },
  {
   "cell_type": "code",
   "execution_count": 21,
   "id": "3dae11a4",
   "metadata": {},
   "outputs": [],
   "source": [
    "df_processes[\"processes\"]=df_processes[\"processes\"].apply(lambda s : clean(s))\n",
    "df_processes[\"processes\"]=df_processes[\"processes\"].apply(lambda s : remove_special(s))\n",
    "# Suppression des \"stop words\"(THE)\n",
    "df_processes[\"processes\"]=df_processes[\"processes\"].apply(lambda s : \" \".join([word for word in s.split() if word != \"the\" ]))"
   ]
  },
  {
   "cell_type": "code",
   "execution_count": 22,
   "id": "5a52b2cd",
   "metadata": {},
   "outputs": [
    {
     "data": {
      "text/html": [
       "<div>\n",
       "<style scoped>\n",
       "    .dataframe tbody tr th:only-of-type {\n",
       "        vertical-align: middle;\n",
       "    }\n",
       "\n",
       "    .dataframe tbody tr th {\n",
       "        vertical-align: top;\n",
       "    }\n",
       "\n",
       "    .dataframe thead th {\n",
       "        text-align: right;\n",
       "    }\n",
       "</style>\n",
       "<table border=\"1\" class=\"dataframe\">\n",
       "  <thead>\n",
       "    <tr style=\"text-align: right;\">\n",
       "      <th></th>\n",
       "      <th>nom_processes</th>\n",
       "      <th>processes</th>\n",
       "    </tr>\n",
       "  </thead>\n",
       "  <tbody>\n",
       "    <tr>\n",
       "      <th>0</th>\n",
       "      <td>PlanRiskManagement</td>\n",
       "      <td>Project Risk Management includes processes of ...</td>\n",
       "    </tr>\n",
       "    <tr>\n",
       "      <th>1</th>\n",
       "      <td>IdentifyRisks</td>\n",
       "      <td>is process of determining which risks may affe...</td>\n",
       "    </tr>\n",
       "    <tr>\n",
       "      <th>2</th>\n",
       "      <td>PerformQualitativeRiskAnalysis</td>\n",
       "      <td>is process of prioritizing risks for further a...</td>\n",
       "    </tr>\n",
       "    <tr>\n",
       "      <th>3</th>\n",
       "      <td>PerformQuantitativeRisk</td>\n",
       "      <td>Risk Urgency AssessmentRisks requiring near te...</td>\n",
       "    </tr>\n",
       "    <tr>\n",
       "      <th>4</th>\n",
       "      <td>PlanRiskResponses</td>\n",
       "      <td>is process of developing options and actions t...</td>\n",
       "    </tr>\n",
       "    <tr>\n",
       "      <th>5</th>\n",
       "      <td>ControlRisks</td>\n",
       "      <td>is process of implementing risk response plans...</td>\n",
       "    </tr>\n",
       "  </tbody>\n",
       "</table>\n",
       "</div>"
      ],
      "text/plain": [
       "                    nom_processes  \\\n",
       "0              PlanRiskManagement   \n",
       "1                   IdentifyRisks   \n",
       "2  PerformQualitativeRiskAnalysis   \n",
       "3         PerformQuantitativeRisk   \n",
       "4               PlanRiskResponses   \n",
       "5                    ControlRisks   \n",
       "\n",
       "                                           processes  \n",
       "0  Project Risk Management includes processes of ...  \n",
       "1  is process of determining which risks may affe...  \n",
       "2  is process of prioritizing risks for further a...  \n",
       "3  Risk Urgency AssessmentRisks requiring near te...  \n",
       "4  is process of developing options and actions t...  \n",
       "5  is process of implementing risk response plans...  "
      ]
     },
     "execution_count": 22,
     "metadata": {},
     "output_type": "execute_result"
    }
   ],
   "source": [
    "df_processes"
   ]
  },
  {
   "cell_type": "markdown",
   "id": "413f3bfe",
   "metadata": {},
   "source": [
    "#  Sentence Tokenization"
   ]
  },
  {
   "cell_type": "code",
   "execution_count": 23,
   "id": "cf18eedc",
   "metadata": {},
   "outputs": [],
   "source": [
    "#ségementation des phrases par processus\n",
    "sentences_p0=sent_tokenize( df_processes[\"processes\"][0] )\n",
    "sentences_p1=sent_tokenize( df_processes[\"processes\"][1] )\n",
    "sentences_p2=sent_tokenize( df_processes[\"processes\"][2] )\n",
    "sentences_p3=sent_tokenize( df_processes[\"processes\"][3] )\n",
    "sentences_p4=sent_tokenize( df_processes[\"processes\"][4] )\n",
    "sentences_p5=sent_tokenize( df_processes[\"processes\"][5] )\n",
    "df_0=pd.DataFrame(sentences_p0,columns=[\"sentence\"])\n",
    "df_1=pd.DataFrame(sentences_p1,columns=[\"sentence\"])\n",
    "df_2=pd.DataFrame(sentences_p2,columns=[\"sentence\"])\n",
    "df_3=pd.DataFrame(sentences_p3,columns=[\"sentence\"])\n",
    "df_4=pd.DataFrame(sentences_p4,columns=[\"sentence\"])\n",
    "df_5=pd.DataFrame(sentences_p5,columns=[\"sentence\"])\n",
    "df_0[\"nom_process\"]=\"PlanRiskManagement\"\n",
    "df_1[\"nom_process\"]=\"IdentifyRisks\"\n",
    "df_2[\"nom_process\"]=\"PerformQualitativeRiskAnalysis\t\"\n",
    "df_3[\"nom_process\"]=\"PerformQuantitativeRisk\"\n",
    "df_4[\"nom_process\"]=\"PlanRiskResponses\"\n",
    "df_5[\"nom_process\"]=\"ControlRisks\"\n"
   ]
  },
  {
   "cell_type": "code",
   "execution_count": 24,
   "id": "2f500538",
   "metadata": {},
   "outputs": [],
   "source": [
    "#dataframe pour tout les phrases de chaque processus\n",
    "df=df_0.append(df_1).append(df_2).append(df_3).append(df_4).append(df_5)"
   ]
  },
  {
   "cell_type": "code",
   "execution_count": 25,
   "id": "fffa9ed3",
   "metadata": {},
   "outputs": [],
   "source": [
    "df=df[[\"nom_process\",\"sentence\"]]"
   ]
  },
  {
   "cell_type": "code",
   "execution_count": 26,
   "id": "1763ef1d",
   "metadata": {
    "scrolled": false
   },
   "outputs": [
    {
     "data": {
      "text/html": [
       "<div>\n",
       "<style scoped>\n",
       "    .dataframe tbody tr th:only-of-type {\n",
       "        vertical-align: middle;\n",
       "    }\n",
       "\n",
       "    .dataframe tbody tr th {\n",
       "        vertical-align: top;\n",
       "    }\n",
       "\n",
       "    .dataframe thead th {\n",
       "        text-align: right;\n",
       "    }\n",
       "</style>\n",
       "<table border=\"1\" class=\"dataframe\">\n",
       "  <thead>\n",
       "    <tr style=\"text-align: right;\">\n",
       "      <th></th>\n",
       "      <th>nom_process</th>\n",
       "      <th>sentence</th>\n",
       "    </tr>\n",
       "  </thead>\n",
       "  <tbody>\n",
       "    <tr>\n",
       "      <th>69</th>\n",
       "      <td>ControlRisks</td>\n",
       "      <td>Actual outcomes of project' risks and of risk ...</td>\n",
       "    </tr>\n",
       "    <tr>\n",
       "      <th>70</th>\n",
       "      <td>ControlRisks</td>\n",
       "      <td>This information can help project managers to ...</td>\n",
       "    </tr>\n",
       "    <tr>\n",
       "      <th>71</th>\n",
       "      <td>ControlRisks</td>\n",
       "      <td>Organizational Process Assets UpdatesThe risk ...</td>\n",
       "    </tr>\n",
       "    <tr>\n",
       "      <th>72</th>\n",
       "      <td>ControlRisks</td>\n",
       "      <td>The organizational process assets that may be ...</td>\n",
       "    </tr>\n",
       "    <tr>\n",
       "      <th>73</th>\n",
       "      <td>ControlRisks</td>\n",
       "      <td>Final versions of risk register and risk manag...</td>\n",
       "    </tr>\n",
       "  </tbody>\n",
       "</table>\n",
       "</div>"
      ],
      "text/plain": [
       "     nom_process                                           sentence\n",
       "69  ControlRisks  Actual outcomes of project' risks and of risk ...\n",
       "70  ControlRisks  This information can help project managers to ...\n",
       "71  ControlRisks  Organizational Process Assets UpdatesThe risk ...\n",
       "72  ControlRisks  The organizational process assets that may be ...\n",
       "73  ControlRisks  Final versions of risk register and risk manag..."
      ]
     },
     "execution_count": 26,
     "metadata": {},
     "output_type": "execute_result"
    }
   ],
   "source": [
    "df.tail()"
   ]
  },
  {
   "cell_type": "code",
   "execution_count": 27,
   "id": "301eb6c1",
   "metadata": {},
   "outputs": [],
   "source": [
    "# rendre le text en miniscule\n",
    "df[\"sentence\"]=df[\"sentence\"].apply(lambda s : s.lower())\n",
    "#suppresion des ponctuation\n",
    "df[\"sentence\"]=df[\"sentence\"].apply(lambda s : remove_punctuation(s))\n",
    "#suprression des \"stop words \"\n",
    "df[\"sentence\"]=df[\"sentence\"].apply(lambda s : \" \".join([word.text for word in nlp(s) if not word.pos_ in [\"ADV\"]]))\n",
    "df[\"sentence\"] = df[\"sentence\"].apply(lambda s : \" \".join([word for word in s.split() if word != \"the\" ]))"
   ]
  },
  {
   "cell_type": "markdown",
   "id": "4afc568c",
   "metadata": {},
   "source": [
    "# Text Lemmatization and Stemming"
   ]
  },
  {
   "cell_type": "code",
   "execution_count": 28,
   "id": "2d068547",
   "metadata": {
    "scrolled": true
   },
   "outputs": [
    {
     "name": "stdout",
     "output_type": "stream",
     "text": [
      "Stemmer: studi\n",
      "Lemmatizer: study\n",
      "\n",
      "Stemmer: veri\n",
      "Lemmatizer: very\n",
      "\n"
     ]
    }
   ],
   "source": [
    "# la différence entre (Lemmatization) et Stemming\n",
    "def compare_stemmer_and_lemmatizer(stemmer, lemmatizer, word, pos):\n",
    "    \"\"\"\n",
    "    Print the results of stemmind and lemmitization using the passed stemmer, lemmatizer, word and pos (part of speech)\n",
    "    \"\"\"\n",
    "    print(\"Stemmer:\", stemmer.stem(word))\n",
    "    print(\"Lemmatizer:\", lemmatizer.lemmatize(word, pos))\n",
    "    print()\n",
    "\n",
    "lemmatizer = WordNetLemmatizer()\n",
    "stemmer = PorterStemmer()\n",
    "compare_stemmer_and_lemmatizer(stemmer, lemmatizer, word = \"studies\", pos = wordnet.VERB)\n",
    "compare_stemmer_and_lemmatizer(stemmer, lemmatizer, word = \"very\", pos = wordnet.VERB)"
   ]
  },
  {
   "cell_type": "markdown",
   "id": "424abd88",
   "metadata": {},
   "source": [
    "## Lemmatization"
   ]
  },
  {
   "cell_type": "code",
   "execution_count": 29,
   "id": "8206246e",
   "metadata": {},
   "outputs": [],
   "source": [
    "lemmatizer = WordNetLemmatizer()\n",
    "def lemm(s):\n",
    "    l = []\n",
    "    for word, tag in pos_tag(word_tokenize(s)):\n",
    "        wntag = tag[0].lower()\n",
    "        wntag = wntag if wntag in ['a', 'r', 'n', 'v'] else None\n",
    "        lemma = lemmatizer.lemmatize(word, wntag) if wntag else word\n",
    "        l.append(lemma)\n",
    "    return l"
   ]
  },
  {
   "cell_type": "code",
   "execution_count": 30,
   "id": "46b21b2b",
   "metadata": {},
   "outputs": [],
   "source": [
    "# application de la lemmatization sur tout le text\n",
    "df[\"sentence\"]=df[\"sentence\"].apply(lambda s : \" \".join(lemm(s)))"
   ]
  },
  {
   "cell_type": "code",
   "execution_count": 31,
   "id": "fa729d74",
   "metadata": {
    "scrolled": true
   },
   "outputs": [
    {
     "data": {
      "text/html": [
       "<div>\n",
       "<style scoped>\n",
       "    .dataframe tbody tr th:only-of-type {\n",
       "        vertical-align: middle;\n",
       "    }\n",
       "\n",
       "    .dataframe tbody tr th {\n",
       "        vertical-align: top;\n",
       "    }\n",
       "\n",
       "    .dataframe thead th {\n",
       "        text-align: right;\n",
       "    }\n",
       "</style>\n",
       "<table border=\"1\" class=\"dataframe\">\n",
       "  <thead>\n",
       "    <tr style=\"text-align: right;\">\n",
       "      <th></th>\n",
       "      <th>nom_process</th>\n",
       "      <th>sentence</th>\n",
       "    </tr>\n",
       "  </thead>\n",
       "  <tbody>\n",
       "    <tr>\n",
       "      <th>0</th>\n",
       "      <td>PlanRiskManagement</td>\n",
       "      <td>project risk management include process of con...</td>\n",
       "    </tr>\n",
       "    <tr>\n",
       "      <th>1</th>\n",
       "      <td>PlanRiskManagement</td>\n",
       "      <td>objective of project risk management be to inc...</td>\n",
       "    </tr>\n",
       "    <tr>\n",
       "      <th>2</th>\n",
       "      <td>PlanRiskManagement</td>\n",
       "      <td>identify risk process of determine which risk ...</td>\n",
       "    </tr>\n",
       "    <tr>\n",
       "      <th>3</th>\n",
       "      <td>PlanRiskManagement</td>\n",
       "      <td>perform qualitative risk analysis process of p...</td>\n",
       "    </tr>\n",
       "    <tr>\n",
       "      <th>4</th>\n",
       "      <td>PlanRiskManagement</td>\n",
       "      <td>perform quantitative risk analysis process of ...</td>\n",
       "    </tr>\n",
       "  </tbody>\n",
       "</table>\n",
       "</div>"
      ],
      "text/plain": [
       "          nom_process                                           sentence\n",
       "0  PlanRiskManagement  project risk management include process of con...\n",
       "1  PlanRiskManagement  objective of project risk management be to inc...\n",
       "2  PlanRiskManagement  identify risk process of determine which risk ...\n",
       "3  PlanRiskManagement  perform qualitative risk analysis process of p...\n",
       "4  PlanRiskManagement  perform quantitative risk analysis process of ..."
      ]
     },
     "execution_count": 31,
     "metadata": {},
     "output_type": "execute_result"
    }
   ],
   "source": [
    "df.head()"
   ]
  },
  {
   "cell_type": "markdown",
   "id": "3b861862",
   "metadata": {},
   "source": [
    "### Synonyms"
   ]
  },
  {
   "cell_type": "code",
   "execution_count": 32,
   "id": "b485f053",
   "metadata": {},
   "outputs": [],
   "source": [
    "# reduire le nombre des mots avec les synonymes\n",
    "def syns(s):\n",
    "    l = []\n",
    "    for w in nlp(s):\n",
    "        syn = wordnet.synsets(w.text)\n",
    "        a = w.text\n",
    "        if len(syn) > 0 and w.pos_ in ['NN', 'VB']:\n",
    "            a = syn[0].name().split('.')[0]\n",
    "        l.append(a)\n",
    "    return l"
   ]
  },
  {
   "cell_type": "code",
   "execution_count": 33,
   "id": "01a52843",
   "metadata": {},
   "outputs": [
    {
     "data": {
      "text/plain": [
       "'hello'"
      ]
     },
     "execution_count": 33,
     "metadata": {},
     "output_type": "execute_result"
    }
   ],
   "source": [
    "syn = wordnet.synsets(\"hi\")\n",
    "syn[0].name().split('.')[0]"
   ]
  },
  {
   "cell_type": "code",
   "execution_count": 34,
   "id": "d89db7a7",
   "metadata": {},
   "outputs": [],
   "source": [
    "df[\"sentence\"]=df[\"sentence\"].apply(lambda s: \" \".join(syns(s)))"
   ]
  },
  {
   "cell_type": "markdown",
   "id": "91086791",
   "metadata": {},
   "source": [
    "# Word Tokenisation"
   ]
  },
  {
   "cell_type": "code",
   "execution_count": 35,
   "id": "3abfe09d",
   "metadata": {},
   "outputs": [],
   "source": [
    "#ségementation des phrases en des mots avec \"word tokenize\"\n",
    "tokens=[word_tokenize(sent) for sent in df[\"sentence\"]]\n",
    "df[\"tokens\"]=tokens"
   ]
  },
  {
   "cell_type": "code",
   "execution_count": 36,
   "id": "60a61be4",
   "metadata": {},
   "outputs": [
    {
     "data": {
      "text/html": [
       "<div>\n",
       "<style scoped>\n",
       "    .dataframe tbody tr th:only-of-type {\n",
       "        vertical-align: middle;\n",
       "    }\n",
       "\n",
       "    .dataframe tbody tr th {\n",
       "        vertical-align: top;\n",
       "    }\n",
       "\n",
       "    .dataframe thead th {\n",
       "        text-align: right;\n",
       "    }\n",
       "</style>\n",
       "<table border=\"1\" class=\"dataframe\">\n",
       "  <thead>\n",
       "    <tr style=\"text-align: right;\">\n",
       "      <th></th>\n",
       "      <th>nom_process</th>\n",
       "      <th>sentence</th>\n",
       "      <th>tokens</th>\n",
       "    </tr>\n",
       "  </thead>\n",
       "  <tbody>\n",
       "    <tr>\n",
       "      <th>0</th>\n",
       "      <td>PlanRiskManagement</td>\n",
       "      <td>project risk management include process of con...</td>\n",
       "      <td>[project, risk, management, include, process, ...</td>\n",
       "    </tr>\n",
       "    <tr>\n",
       "      <th>1</th>\n",
       "      <td>PlanRiskManagement</td>\n",
       "      <td>objective of project risk management be to inc...</td>\n",
       "      <td>[objective, of, project, risk, management, be,...</td>\n",
       "    </tr>\n",
       "    <tr>\n",
       "      <th>2</th>\n",
       "      <td>PlanRiskManagement</td>\n",
       "      <td>identify risk process of determine which risk ...</td>\n",
       "      <td>[identify, risk, process, of, determine, which...</td>\n",
       "    </tr>\n",
       "    <tr>\n",
       "      <th>3</th>\n",
       "      <td>PlanRiskManagement</td>\n",
       "      <td>perform qualitative risk analysis process of p...</td>\n",
       "      <td>[perform, qualitative, risk, analysis, process...</td>\n",
       "    </tr>\n",
       "    <tr>\n",
       "      <th>4</th>\n",
       "      <td>PlanRiskManagement</td>\n",
       "      <td>perform quantitative risk analysis process of ...</td>\n",
       "      <td>[perform, quantitative, risk, analysis, proces...</td>\n",
       "    </tr>\n",
       "    <tr>\n",
       "      <th>...</th>\n",
       "      <td>...</td>\n",
       "      <td>...</td>\n",
       "      <td>...</td>\n",
       "    </tr>\n",
       "    <tr>\n",
       "      <th>69</th>\n",
       "      <td>ControlRisks</td>\n",
       "      <td>actual outcome of project risk and of risk res...</td>\n",
       "      <td>[actual, outcome, of, project, risk, and, of, ...</td>\n",
       "    </tr>\n",
       "    <tr>\n",
       "      <th>70</th>\n",
       "      <td>ControlRisks</td>\n",
       "      <td>this information can help project manager to p...</td>\n",
       "      <td>[this, information, can, help, project, manage...</td>\n",
       "    </tr>\n",
       "    <tr>\n",
       "      <th>71</th>\n",
       "      <td>ControlRisks</td>\n",
       "      <td>organizational process asset updatesthe risk m...</td>\n",
       "      <td>[organizational, process, asset, updatesthe, r...</td>\n",
       "    </tr>\n",
       "    <tr>\n",
       "      <th>72</th>\n",
       "      <td>ControlRisks</td>\n",
       "      <td>organizational process asset that may be updat...</td>\n",
       "      <td>[organizational, process, asset, that, may, be...</td>\n",
       "    </tr>\n",
       "    <tr>\n",
       "      <th>73</th>\n",
       "      <td>ControlRisks</td>\n",
       "      <td>final version of risk register and risk manage...</td>\n",
       "      <td>[final, version, of, risk, register, and, risk...</td>\n",
       "    </tr>\n",
       "  </tbody>\n",
       "</table>\n",
       "<p>741 rows × 3 columns</p>\n",
       "</div>"
      ],
      "text/plain": [
       "           nom_process                                           sentence  \\\n",
       "0   PlanRiskManagement  project risk management include process of con...   \n",
       "1   PlanRiskManagement  objective of project risk management be to inc...   \n",
       "2   PlanRiskManagement  identify risk process of determine which risk ...   \n",
       "3   PlanRiskManagement  perform qualitative risk analysis process of p...   \n",
       "4   PlanRiskManagement  perform quantitative risk analysis process of ...   \n",
       "..                 ...                                                ...   \n",
       "69        ControlRisks  actual outcome of project risk and of risk res...   \n",
       "70        ControlRisks  this information can help project manager to p...   \n",
       "71        ControlRisks  organizational process asset updatesthe risk m...   \n",
       "72        ControlRisks  organizational process asset that may be updat...   \n",
       "73        ControlRisks  final version of risk register and risk manage...   \n",
       "\n",
       "                                               tokens  \n",
       "0   [project, risk, management, include, process, ...  \n",
       "1   [objective, of, project, risk, management, be,...  \n",
       "2   [identify, risk, process, of, determine, which...  \n",
       "3   [perform, qualitative, risk, analysis, process...  \n",
       "4   [perform, quantitative, risk, analysis, proces...  \n",
       "..                                                ...  \n",
       "69  [actual, outcome, of, project, risk, and, of, ...  \n",
       "70  [this, information, can, help, project, manage...  \n",
       "71  [organizational, process, asset, updatesthe, r...  \n",
       "72  [organizational, process, asset, that, may, be...  \n",
       "73  [final, version, of, risk, register, and, risk...  \n",
       "\n",
       "[741 rows x 3 columns]"
      ]
     },
     "execution_count": 36,
     "metadata": {},
     "output_type": "execute_result"
    }
   ],
   "source": [
    "df"
   ]
  },
  {
   "cell_type": "code",
   "execution_count": 37,
   "id": "e6f1174c",
   "metadata": {},
   "outputs": [],
   "source": [
    "from nltk import bigrams , trigrams "
   ]
  },
  {
   "cell_type": "code",
   "execution_count": 38,
   "id": "2218afd8",
   "metadata": {},
   "outputs": [],
   "source": [
    "#Extraction des bigrams et trigrams\n",
    "df[\"bigrams\"]=df[\"tokens\"].apply(lambda s : list(bigrams(s)))\n",
    "df[\"trigrams\"]=df[\"tokens\"].apply(lambda s : list(trigrams(s)))"
   ]
  },
  {
   "cell_type": "code",
   "execution_count": 39,
   "id": "ca686028",
   "metadata": {
    "scrolled": false
   },
   "outputs": [
    {
     "data": {
      "text/html": [
       "<div>\n",
       "<style scoped>\n",
       "    .dataframe tbody tr th:only-of-type {\n",
       "        vertical-align: middle;\n",
       "    }\n",
       "\n",
       "    .dataframe tbody tr th {\n",
       "        vertical-align: top;\n",
       "    }\n",
       "\n",
       "    .dataframe thead th {\n",
       "        text-align: right;\n",
       "    }\n",
       "</style>\n",
       "<table border=\"1\" class=\"dataframe\">\n",
       "  <thead>\n",
       "    <tr style=\"text-align: right;\">\n",
       "      <th></th>\n",
       "      <th>nom_process</th>\n",
       "      <th>sentence</th>\n",
       "      <th>tokens</th>\n",
       "      <th>bigrams</th>\n",
       "      <th>trigrams</th>\n",
       "    </tr>\n",
       "  </thead>\n",
       "  <tbody>\n",
       "    <tr>\n",
       "      <th>0</th>\n",
       "      <td>PlanRiskManagement</td>\n",
       "      <td>project risk management include process of con...</td>\n",
       "      <td>[project, risk, management, include, process, ...</td>\n",
       "      <td>[(project, risk), (risk, management), (managem...</td>\n",
       "      <td>[(project, risk, management), (risk, managemen...</td>\n",
       "    </tr>\n",
       "    <tr>\n",
       "      <th>1</th>\n",
       "      <td>PlanRiskManagement</td>\n",
       "      <td>objective of project risk management be to inc...</td>\n",
       "      <td>[objective, of, project, risk, management, be,...</td>\n",
       "      <td>[(objective, of), (of, project), (project, ris...</td>\n",
       "      <td>[(objective, of, project), (of, project, risk)...</td>\n",
       "    </tr>\n",
       "    <tr>\n",
       "      <th>2</th>\n",
       "      <td>PlanRiskManagement</td>\n",
       "      <td>identify risk process of determine which risk ...</td>\n",
       "      <td>[identify, risk, process, of, determine, which...</td>\n",
       "      <td>[(identify, risk), (risk, process), (process, ...</td>\n",
       "      <td>[(identify, risk, process), (risk, process, of...</td>\n",
       "    </tr>\n",
       "    <tr>\n",
       "      <th>3</th>\n",
       "      <td>PlanRiskManagement</td>\n",
       "      <td>perform qualitative risk analysis process of p...</td>\n",
       "      <td>[perform, qualitative, risk, analysis, process...</td>\n",
       "      <td>[(perform, qualitative), (qualitative, risk), ...</td>\n",
       "      <td>[(perform, qualitative, risk), (qualitative, r...</td>\n",
       "    </tr>\n",
       "    <tr>\n",
       "      <th>4</th>\n",
       "      <td>PlanRiskManagement</td>\n",
       "      <td>perform quantitative risk analysis process of ...</td>\n",
       "      <td>[perform, quantitative, risk, analysis, proces...</td>\n",
       "      <td>[(perform, quantitative), (quantitative, risk)...</td>\n",
       "      <td>[(perform, quantitative, risk), (quantitative,...</td>\n",
       "    </tr>\n",
       "  </tbody>\n",
       "</table>\n",
       "</div>"
      ],
      "text/plain": [
       "          nom_process                                           sentence  \\\n",
       "0  PlanRiskManagement  project risk management include process of con...   \n",
       "1  PlanRiskManagement  objective of project risk management be to inc...   \n",
       "2  PlanRiskManagement  identify risk process of determine which risk ...   \n",
       "3  PlanRiskManagement  perform qualitative risk analysis process of p...   \n",
       "4  PlanRiskManagement  perform quantitative risk analysis process of ...   \n",
       "\n",
       "                                              tokens  \\\n",
       "0  [project, risk, management, include, process, ...   \n",
       "1  [objective, of, project, risk, management, be,...   \n",
       "2  [identify, risk, process, of, determine, which...   \n",
       "3  [perform, qualitative, risk, analysis, process...   \n",
       "4  [perform, quantitative, risk, analysis, proces...   \n",
       "\n",
       "                                             bigrams  \\\n",
       "0  [(project, risk), (risk, management), (managem...   \n",
       "1  [(objective, of), (of, project), (project, ris...   \n",
       "2  [(identify, risk), (risk, process), (process, ...   \n",
       "3  [(perform, qualitative), (qualitative, risk), ...   \n",
       "4  [(perform, quantitative), (quantitative, risk)...   \n",
       "\n",
       "                                            trigrams  \n",
       "0  [(project, risk, management), (risk, managemen...  \n",
       "1  [(objective, of, project), (of, project, risk)...  \n",
       "2  [(identify, risk, process), (risk, process, of...  \n",
       "3  [(perform, qualitative, risk), (qualitative, r...  \n",
       "4  [(perform, quantitative, risk), (quantitative,...  "
      ]
     },
     "execution_count": 39,
     "metadata": {},
     "output_type": "execute_result"
    }
   ],
   "source": [
    "df.head()"
   ]
  },
  {
   "cell_type": "markdown",
   "id": "432612b7",
   "metadata": {},
   "source": [
    "### Visualizing long texts "
   ]
  },
  {
   "cell_type": "code",
   "execution_count": 40,
   "id": "9d886eb0",
   "metadata": {
    "scrolled": true
   },
   "outputs": [
    {
     "data": {
      "text/html": [
       "<span class=\"tex2jax_ignore\"><svg xmlns=\"http://www.w3.org/2000/svg\" xmlns:xlink=\"http://www.w3.org/1999/xlink\" xml:lang=\"en\" id=\"41933308eea54ab99d7d1be42a58440e-0\" class=\"displacy\" width=\"2850\" height=\"574.5\" direction=\"ltr\" style=\"max-width: none; height: 574.5px; color: #000000; background: #ffffff; font-family: Arial; direction: ltr\">\n",
       "<text class=\"displacy-token\" fill=\"currentColor\" text-anchor=\"middle\" y=\"484.5\">\n",
       "    <tspan class=\"displacy-word\" fill=\"currentColor\" x=\"50\">stakeholder</tspan>\n",
       "    <tspan class=\"displacy-tag\" dy=\"2em\" fill=\"currentColor\" x=\"50\">PROPN</tspan>\n",
       "</text>\n",
       "\n",
       "<text class=\"displacy-token\" fill=\"currentColor\" text-anchor=\"middle\" y=\"484.5\">\n",
       "    <tspan class=\"displacy-word\" fill=\"currentColor\" x=\"225\">register</tspan>\n",
       "    <tspan class=\"displacy-tag\" dy=\"2em\" fill=\"currentColor\" x=\"225\">VERB</tspan>\n",
       "</text>\n",
       "\n",
       "<text class=\"displacy-token\" fill=\"currentColor\" text-anchor=\"middle\" y=\"484.5\">\n",
       "    <tspan class=\"displacy-word\" fill=\"currentColor\" x=\"400\">which</tspan>\n",
       "    <tspan class=\"displacy-tag\" dy=\"2em\" fill=\"currentColor\" x=\"400\">DET</tspan>\n",
       "</text>\n",
       "\n",
       "<text class=\"displacy-token\" fill=\"currentColor\" text-anchor=\"middle\" y=\"484.5\">\n",
       "    <tspan class=\"displacy-word\" fill=\"currentColor\" x=\"575\">contain</tspan>\n",
       "    <tspan class=\"displacy-tag\" dy=\"2em\" fill=\"currentColor\" x=\"575\">VERB</tspan>\n",
       "</text>\n",
       "\n",
       "<text class=\"displacy-token\" fill=\"currentColor\" text-anchor=\"middle\" y=\"484.5\">\n",
       "    <tspan class=\"displacy-word\" fill=\"currentColor\" x=\"750\">all</tspan>\n",
       "    <tspan class=\"displacy-tag\" dy=\"2em\" fill=\"currentColor\" x=\"750\">DET</tspan>\n",
       "</text>\n",
       "\n",
       "<text class=\"displacy-token\" fill=\"currentColor\" text-anchor=\"middle\" y=\"484.5\">\n",
       "    <tspan class=\"displacy-word\" fill=\"currentColor\" x=\"925\">detail</tspan>\n",
       "    <tspan class=\"displacy-tag\" dy=\"2em\" fill=\"currentColor\" x=\"925\">NOUN</tspan>\n",
       "</text>\n",
       "\n",
       "<text class=\"displacy-token\" fill=\"currentColor\" text-anchor=\"middle\" y=\"484.5\">\n",
       "    <tspan class=\"displacy-word\" fill=\"currentColor\" x=\"1100\">relate</tspan>\n",
       "    <tspan class=\"displacy-tag\" dy=\"2em\" fill=\"currentColor\" x=\"1100\">VERB</tspan>\n",
       "</text>\n",
       "\n",
       "<text class=\"displacy-token\" fill=\"currentColor\" text-anchor=\"middle\" y=\"484.5\">\n",
       "    <tspan class=\"displacy-word\" fill=\"currentColor\" x=\"1275\">to</tspan>\n",
       "    <tspan class=\"displacy-tag\" dy=\"2em\" fill=\"currentColor\" x=\"1275\">PART</tspan>\n",
       "</text>\n",
       "\n",
       "<text class=\"displacy-token\" fill=\"currentColor\" text-anchor=\"middle\" y=\"484.5\">\n",
       "    <tspan class=\"displacy-word\" fill=\"currentColor\" x=\"1450\">project</tspan>\n",
       "    <tspan class=\"displacy-tag\" dy=\"2em\" fill=\"currentColor\" x=\"1450\">VERB</tspan>\n",
       "</text>\n",
       "\n",
       "<text class=\"displacy-token\" fill=\"currentColor\" text-anchor=\"middle\" y=\"484.5\">\n",
       "    <tspan class=\"displacy-word\" fill=\"currentColor\" x=\"1625\">stakeholder</tspan>\n",
       "    <tspan class=\"displacy-tag\" dy=\"2em\" fill=\"currentColor\" x=\"1625\">NOUN</tspan>\n",
       "</text>\n",
       "\n",
       "<text class=\"displacy-token\" fill=\"currentColor\" text-anchor=\"middle\" y=\"484.5\">\n",
       "    <tspan class=\"displacy-word\" fill=\"currentColor\" x=\"1800\">provide</tspan>\n",
       "    <tspan class=\"displacy-tag\" dy=\"2em\" fill=\"currentColor\" x=\"1800\">VERB</tspan>\n",
       "</text>\n",
       "\n",
       "<text class=\"displacy-token\" fill=\"currentColor\" text-anchor=\"middle\" y=\"484.5\">\n",
       "    <tspan class=\"displacy-word\" fill=\"currentColor\" x=\"1975\">an</tspan>\n",
       "    <tspan class=\"displacy-tag\" dy=\"2em\" fill=\"currentColor\" x=\"1975\">DET</tspan>\n",
       "</text>\n",
       "\n",
       "<text class=\"displacy-token\" fill=\"currentColor\" text-anchor=\"middle\" y=\"484.5\">\n",
       "    <tspan class=\"displacy-word\" fill=\"currentColor\" x=\"2150\">overview</tspan>\n",
       "    <tspan class=\"displacy-tag\" dy=\"2em\" fill=\"currentColor\" x=\"2150\">NOUN</tspan>\n",
       "</text>\n",
       "\n",
       "<text class=\"displacy-token\" fill=\"currentColor\" text-anchor=\"middle\" y=\"484.5\">\n",
       "    <tspan class=\"displacy-word\" fill=\"currentColor\" x=\"2325\">of</tspan>\n",
       "    <tspan class=\"displacy-tag\" dy=\"2em\" fill=\"currentColor\" x=\"2325\">ADP</tspan>\n",
       "</text>\n",
       "\n",
       "<text class=\"displacy-token\" fill=\"currentColor\" text-anchor=\"middle\" y=\"484.5\">\n",
       "    <tspan class=\"displacy-word\" fill=\"currentColor\" x=\"2500\">their</tspan>\n",
       "    <tspan class=\"displacy-tag\" dy=\"2em\" fill=\"currentColor\" x=\"2500\">PRON</tspan>\n",
       "</text>\n",
       "\n",
       "<text class=\"displacy-token\" fill=\"currentColor\" text-anchor=\"middle\" y=\"484.5\">\n",
       "    <tspan class=\"displacy-word\" fill=\"currentColor\" x=\"2675\">role</tspan>\n",
       "    <tspan class=\"displacy-tag\" dy=\"2em\" fill=\"currentColor\" x=\"2675\">NOUN</tspan>\n",
       "</text>\n",
       "\n",
       "<g class=\"displacy-arrow\">\n",
       "    <path class=\"displacy-arc\" id=\"arrow-41933308eea54ab99d7d1be42a58440e-0-0\" stroke-width=\"2px\" d=\"M70,439.5 C70,352.0 205.0,352.0 205.0,439.5\" fill=\"none\" stroke=\"currentColor\"/>\n",
       "    <text dy=\"1.25em\" style=\"font-size: 0.8em; letter-spacing: 1px\">\n",
       "        <textPath xlink:href=\"#arrow-41933308eea54ab99d7d1be42a58440e-0-0\" class=\"displacy-label\" startOffset=\"50%\" side=\"left\" fill=\"currentColor\" text-anchor=\"middle\">compound</textPath>\n",
       "    </text>\n",
       "    <path class=\"displacy-arrowhead\" d=\"M70,441.5 L62,429.5 78,429.5\" fill=\"currentColor\"/>\n",
       "</g>\n",
       "\n",
       "<g class=\"displacy-arrow\">\n",
       "    <path class=\"displacy-arc\" id=\"arrow-41933308eea54ab99d7d1be42a58440e-0-1\" stroke-width=\"2px\" d=\"M245,439.5 C245,2.0 1800.0,2.0 1800.0,439.5\" fill=\"none\" stroke=\"currentColor\"/>\n",
       "    <text dy=\"1.25em\" style=\"font-size: 0.8em; letter-spacing: 1px\">\n",
       "        <textPath xlink:href=\"#arrow-41933308eea54ab99d7d1be42a58440e-0-1\" class=\"displacy-label\" startOffset=\"50%\" side=\"left\" fill=\"currentColor\" text-anchor=\"middle\">nsubj</textPath>\n",
       "    </text>\n",
       "    <path class=\"displacy-arrowhead\" d=\"M245,441.5 L237,429.5 253,429.5\" fill=\"currentColor\"/>\n",
       "</g>\n",
       "\n",
       "<g class=\"displacy-arrow\">\n",
       "    <path class=\"displacy-arc\" id=\"arrow-41933308eea54ab99d7d1be42a58440e-0-2\" stroke-width=\"2px\" d=\"M420,439.5 C420,352.0 555.0,352.0 555.0,439.5\" fill=\"none\" stroke=\"currentColor\"/>\n",
       "    <text dy=\"1.25em\" style=\"font-size: 0.8em; letter-spacing: 1px\">\n",
       "        <textPath xlink:href=\"#arrow-41933308eea54ab99d7d1be42a58440e-0-2\" class=\"displacy-label\" startOffset=\"50%\" side=\"left\" fill=\"currentColor\" text-anchor=\"middle\">nsubj</textPath>\n",
       "    </text>\n",
       "    <path class=\"displacy-arrowhead\" d=\"M420,441.5 L412,429.5 428,429.5\" fill=\"currentColor\"/>\n",
       "</g>\n",
       "\n",
       "<g class=\"displacy-arrow\">\n",
       "    <path class=\"displacy-arc\" id=\"arrow-41933308eea54ab99d7d1be42a58440e-0-3\" stroke-width=\"2px\" d=\"M245,439.5 C245,264.5 560.0,264.5 560.0,439.5\" fill=\"none\" stroke=\"currentColor\"/>\n",
       "    <text dy=\"1.25em\" style=\"font-size: 0.8em; letter-spacing: 1px\">\n",
       "        <textPath xlink:href=\"#arrow-41933308eea54ab99d7d1be42a58440e-0-3\" class=\"displacy-label\" startOffset=\"50%\" side=\"left\" fill=\"currentColor\" text-anchor=\"middle\">relcl</textPath>\n",
       "    </text>\n",
       "    <path class=\"displacy-arrowhead\" d=\"M560.0,441.5 L568.0,429.5 552.0,429.5\" fill=\"currentColor\"/>\n",
       "</g>\n",
       "\n",
       "<g class=\"displacy-arrow\">\n",
       "    <path class=\"displacy-arc\" id=\"arrow-41933308eea54ab99d7d1be42a58440e-0-4\" stroke-width=\"2px\" d=\"M770,439.5 C770,264.5 1085.0,264.5 1085.0,439.5\" fill=\"none\" stroke=\"currentColor\"/>\n",
       "    <text dy=\"1.25em\" style=\"font-size: 0.8em; letter-spacing: 1px\">\n",
       "        <textPath xlink:href=\"#arrow-41933308eea54ab99d7d1be42a58440e-0-4\" class=\"displacy-label\" startOffset=\"50%\" side=\"left\" fill=\"currentColor\" text-anchor=\"middle\">det</textPath>\n",
       "    </text>\n",
       "    <path class=\"displacy-arrowhead\" d=\"M770,441.5 L762,429.5 778,429.5\" fill=\"currentColor\"/>\n",
       "</g>\n",
       "\n",
       "<g class=\"displacy-arrow\">\n",
       "    <path class=\"displacy-arc\" id=\"arrow-41933308eea54ab99d7d1be42a58440e-0-5\" stroke-width=\"2px\" d=\"M945,439.5 C945,352.0 1080.0,352.0 1080.0,439.5\" fill=\"none\" stroke=\"currentColor\"/>\n",
       "    <text dy=\"1.25em\" style=\"font-size: 0.8em; letter-spacing: 1px\">\n",
       "        <textPath xlink:href=\"#arrow-41933308eea54ab99d7d1be42a58440e-0-5\" class=\"displacy-label\" startOffset=\"50%\" side=\"left\" fill=\"currentColor\" text-anchor=\"middle\">compound</textPath>\n",
       "    </text>\n",
       "    <path class=\"displacy-arrowhead\" d=\"M945,441.5 L937,429.5 953,429.5\" fill=\"currentColor\"/>\n",
       "</g>\n",
       "\n",
       "<g class=\"displacy-arrow\">\n",
       "    <path class=\"displacy-arc\" id=\"arrow-41933308eea54ab99d7d1be42a58440e-0-6\" stroke-width=\"2px\" d=\"M595,439.5 C595,177.0 1090.0,177.0 1090.0,439.5\" fill=\"none\" stroke=\"currentColor\"/>\n",
       "    <text dy=\"1.25em\" style=\"font-size: 0.8em; letter-spacing: 1px\">\n",
       "        <textPath xlink:href=\"#arrow-41933308eea54ab99d7d1be42a58440e-0-6\" class=\"displacy-label\" startOffset=\"50%\" side=\"left\" fill=\"currentColor\" text-anchor=\"middle\">dobj</textPath>\n",
       "    </text>\n",
       "    <path class=\"displacy-arrowhead\" d=\"M1090.0,441.5 L1098.0,429.5 1082.0,429.5\" fill=\"currentColor\"/>\n",
       "</g>\n",
       "\n",
       "<g class=\"displacy-arrow\">\n",
       "    <path class=\"displacy-arc\" id=\"arrow-41933308eea54ab99d7d1be42a58440e-0-7\" stroke-width=\"2px\" d=\"M595,439.5 C595,89.5 1270.0,89.5 1270.0,439.5\" fill=\"none\" stroke=\"currentColor\"/>\n",
       "    <text dy=\"1.25em\" style=\"font-size: 0.8em; letter-spacing: 1px\">\n",
       "        <textPath xlink:href=\"#arrow-41933308eea54ab99d7d1be42a58440e-0-7\" class=\"displacy-label\" startOffset=\"50%\" side=\"left\" fill=\"currentColor\" text-anchor=\"middle\">prep</textPath>\n",
       "    </text>\n",
       "    <path class=\"displacy-arrowhead\" d=\"M1270.0,441.5 L1278.0,429.5 1262.0,429.5\" fill=\"currentColor\"/>\n",
       "</g>\n",
       "\n",
       "<g class=\"displacy-arrow\">\n",
       "    <path class=\"displacy-arc\" id=\"arrow-41933308eea54ab99d7d1be42a58440e-0-8\" stroke-width=\"2px\" d=\"M1470,439.5 C1470,352.0 1605.0,352.0 1605.0,439.5\" fill=\"none\" stroke=\"currentColor\"/>\n",
       "    <text dy=\"1.25em\" style=\"font-size: 0.8em; letter-spacing: 1px\">\n",
       "        <textPath xlink:href=\"#arrow-41933308eea54ab99d7d1be42a58440e-0-8\" class=\"displacy-label\" startOffset=\"50%\" side=\"left\" fill=\"currentColor\" text-anchor=\"middle\">compound</textPath>\n",
       "    </text>\n",
       "    <path class=\"displacy-arrowhead\" d=\"M1470,441.5 L1462,429.5 1478,429.5\" fill=\"currentColor\"/>\n",
       "</g>\n",
       "\n",
       "<g class=\"displacy-arrow\">\n",
       "    <path class=\"displacy-arc\" id=\"arrow-41933308eea54ab99d7d1be42a58440e-0-9\" stroke-width=\"2px\" d=\"M1295,439.5 C1295,264.5 1610.0,264.5 1610.0,439.5\" fill=\"none\" stroke=\"currentColor\"/>\n",
       "    <text dy=\"1.25em\" style=\"font-size: 0.8em; letter-spacing: 1px\">\n",
       "        <textPath xlink:href=\"#arrow-41933308eea54ab99d7d1be42a58440e-0-9\" class=\"displacy-label\" startOffset=\"50%\" side=\"left\" fill=\"currentColor\" text-anchor=\"middle\">pobj</textPath>\n",
       "    </text>\n",
       "    <path class=\"displacy-arrowhead\" d=\"M1610.0,441.5 L1618.0,429.5 1602.0,429.5\" fill=\"currentColor\"/>\n",
       "</g>\n",
       "\n",
       "<g class=\"displacy-arrow\">\n",
       "    <path class=\"displacy-arc\" id=\"arrow-41933308eea54ab99d7d1be42a58440e-0-10\" stroke-width=\"2px\" d=\"M1995,439.5 C1995,352.0 2130.0,352.0 2130.0,439.5\" fill=\"none\" stroke=\"currentColor\"/>\n",
       "    <text dy=\"1.25em\" style=\"font-size: 0.8em; letter-spacing: 1px\">\n",
       "        <textPath xlink:href=\"#arrow-41933308eea54ab99d7d1be42a58440e-0-10\" class=\"displacy-label\" startOffset=\"50%\" side=\"left\" fill=\"currentColor\" text-anchor=\"middle\">det</textPath>\n",
       "    </text>\n",
       "    <path class=\"displacy-arrowhead\" d=\"M1995,441.5 L1987,429.5 2003,429.5\" fill=\"currentColor\"/>\n",
       "</g>\n",
       "\n",
       "<g class=\"displacy-arrow\">\n",
       "    <path class=\"displacy-arc\" id=\"arrow-41933308eea54ab99d7d1be42a58440e-0-11\" stroke-width=\"2px\" d=\"M1820,439.5 C1820,264.5 2135.0,264.5 2135.0,439.5\" fill=\"none\" stroke=\"currentColor\"/>\n",
       "    <text dy=\"1.25em\" style=\"font-size: 0.8em; letter-spacing: 1px\">\n",
       "        <textPath xlink:href=\"#arrow-41933308eea54ab99d7d1be42a58440e-0-11\" class=\"displacy-label\" startOffset=\"50%\" side=\"left\" fill=\"currentColor\" text-anchor=\"middle\">dobj</textPath>\n",
       "    </text>\n",
       "    <path class=\"displacy-arrowhead\" d=\"M2135.0,441.5 L2143.0,429.5 2127.0,429.5\" fill=\"currentColor\"/>\n",
       "</g>\n",
       "\n",
       "<g class=\"displacy-arrow\">\n",
       "    <path class=\"displacy-arc\" id=\"arrow-41933308eea54ab99d7d1be42a58440e-0-12\" stroke-width=\"2px\" d=\"M2170,439.5 C2170,352.0 2305.0,352.0 2305.0,439.5\" fill=\"none\" stroke=\"currentColor\"/>\n",
       "    <text dy=\"1.25em\" style=\"font-size: 0.8em; letter-spacing: 1px\">\n",
       "        <textPath xlink:href=\"#arrow-41933308eea54ab99d7d1be42a58440e-0-12\" class=\"displacy-label\" startOffset=\"50%\" side=\"left\" fill=\"currentColor\" text-anchor=\"middle\">prep</textPath>\n",
       "    </text>\n",
       "    <path class=\"displacy-arrowhead\" d=\"M2305.0,441.5 L2313.0,429.5 2297.0,429.5\" fill=\"currentColor\"/>\n",
       "</g>\n",
       "\n",
       "<g class=\"displacy-arrow\">\n",
       "    <path class=\"displacy-arc\" id=\"arrow-41933308eea54ab99d7d1be42a58440e-0-13\" stroke-width=\"2px\" d=\"M2520,439.5 C2520,352.0 2655.0,352.0 2655.0,439.5\" fill=\"none\" stroke=\"currentColor\"/>\n",
       "    <text dy=\"1.25em\" style=\"font-size: 0.8em; letter-spacing: 1px\">\n",
       "        <textPath xlink:href=\"#arrow-41933308eea54ab99d7d1be42a58440e-0-13\" class=\"displacy-label\" startOffset=\"50%\" side=\"left\" fill=\"currentColor\" text-anchor=\"middle\">poss</textPath>\n",
       "    </text>\n",
       "    <path class=\"displacy-arrowhead\" d=\"M2520,441.5 L2512,429.5 2528,429.5\" fill=\"currentColor\"/>\n",
       "</g>\n",
       "\n",
       "<g class=\"displacy-arrow\">\n",
       "    <path class=\"displacy-arc\" id=\"arrow-41933308eea54ab99d7d1be42a58440e-0-14\" stroke-width=\"2px\" d=\"M2345,439.5 C2345,264.5 2660.0,264.5 2660.0,439.5\" fill=\"none\" stroke=\"currentColor\"/>\n",
       "    <text dy=\"1.25em\" style=\"font-size: 0.8em; letter-spacing: 1px\">\n",
       "        <textPath xlink:href=\"#arrow-41933308eea54ab99d7d1be42a58440e-0-14\" class=\"displacy-label\" startOffset=\"50%\" side=\"left\" fill=\"currentColor\" text-anchor=\"middle\">pobj</textPath>\n",
       "    </text>\n",
       "    <path class=\"displacy-arrowhead\" d=\"M2660.0,441.5 L2668.0,429.5 2652.0,429.5\" fill=\"currentColor\"/>\n",
       "</g>\n",
       "</svg></span>"
      ],
      "text/plain": [
       "<IPython.core.display.HTML object>"
      ]
     },
     "metadata": {},
     "output_type": "display_data"
    }
   ],
   "source": [
    "from spacy import displacy\n",
    "doc=nlp(df[\"sentence\"].values[154])\n",
    "displacy.render(doc, style='dep',jupyter=True)"
   ]
  },
  {
   "cell_type": "code",
   "execution_count": 41,
   "id": "2adfe6d2",
   "metadata": {
    "scrolled": false
   },
   "outputs": [
    {
     "data": {
      "text/html": [
       "<div>\n",
       "<style scoped>\n",
       "    .dataframe tbody tr th:only-of-type {\n",
       "        vertical-align: middle;\n",
       "    }\n",
       "\n",
       "    .dataframe tbody tr th {\n",
       "        vertical-align: top;\n",
       "    }\n",
       "\n",
       "    .dataframe thead th {\n",
       "        text-align: right;\n",
       "    }\n",
       "</style>\n",
       "<table border=\"1\" class=\"dataframe\">\n",
       "  <thead>\n",
       "    <tr style=\"text-align: right;\">\n",
       "      <th></th>\n",
       "      <th>nom_process</th>\n",
       "      <th>sentence</th>\n",
       "      <th>tokens</th>\n",
       "      <th>bigrams</th>\n",
       "      <th>trigrams</th>\n",
       "    </tr>\n",
       "  </thead>\n",
       "  <tbody>\n",
       "    <tr>\n",
       "      <th>0</th>\n",
       "      <td>PlanRiskManagement</td>\n",
       "      <td>project risk management include process of con...</td>\n",
       "      <td>[project, risk, management, include, process, ...</td>\n",
       "      <td>[(project, risk), (risk, management), (managem...</td>\n",
       "      <td>[(project, risk, management), (risk, managemen...</td>\n",
       "    </tr>\n",
       "    <tr>\n",
       "      <th>1</th>\n",
       "      <td>PlanRiskManagement</td>\n",
       "      <td>objective of project risk management be to inc...</td>\n",
       "      <td>[objective, of, project, risk, management, be,...</td>\n",
       "      <td>[(objective, of), (of, project), (project, ris...</td>\n",
       "      <td>[(objective, of, project), (of, project, risk)...</td>\n",
       "    </tr>\n",
       "    <tr>\n",
       "      <th>2</th>\n",
       "      <td>PlanRiskManagement</td>\n",
       "      <td>identify risk process of determine which risk ...</td>\n",
       "      <td>[identify, risk, process, of, determine, which...</td>\n",
       "      <td>[(identify, risk), (risk, process), (process, ...</td>\n",
       "      <td>[(identify, risk, process), (risk, process, of...</td>\n",
       "    </tr>\n",
       "    <tr>\n",
       "      <th>3</th>\n",
       "      <td>PlanRiskManagement</td>\n",
       "      <td>perform qualitative risk analysis process of p...</td>\n",
       "      <td>[perform, qualitative, risk, analysis, process...</td>\n",
       "      <td>[(perform, qualitative), (qualitative, risk), ...</td>\n",
       "      <td>[(perform, qualitative, risk), (qualitative, r...</td>\n",
       "    </tr>\n",
       "    <tr>\n",
       "      <th>4</th>\n",
       "      <td>PlanRiskManagement</td>\n",
       "      <td>perform quantitative risk analysis process of ...</td>\n",
       "      <td>[perform, quantitative, risk, analysis, proces...</td>\n",
       "      <td>[(perform, quantitative), (quantitative, risk)...</td>\n",
       "      <td>[(perform, quantitative, risk), (quantitative,...</td>\n",
       "    </tr>\n",
       "    <tr>\n",
       "      <th>...</th>\n",
       "      <td>...</td>\n",
       "      <td>...</td>\n",
       "      <td>...</td>\n",
       "      <td>...</td>\n",
       "      <td>...</td>\n",
       "    </tr>\n",
       "    <tr>\n",
       "      <th>69</th>\n",
       "      <td>ControlRisks</td>\n",
       "      <td>actual outcome of project risk and of risk res...</td>\n",
       "      <td>[actual, outcome, of, project, risk, and, of, ...</td>\n",
       "      <td>[(actual, outcome), (outcome, of), (of, projec...</td>\n",
       "      <td>[(actual, outcome, of), (outcome, of, project)...</td>\n",
       "    </tr>\n",
       "    <tr>\n",
       "      <th>70</th>\n",
       "      <td>ControlRisks</td>\n",
       "      <td>this information can help project manager to p...</td>\n",
       "      <td>[this, information, can, help, project, manage...</td>\n",
       "      <td>[(this, information), (information, can), (can...</td>\n",
       "      <td>[(this, information, can), (information, can, ...</td>\n",
       "    </tr>\n",
       "    <tr>\n",
       "      <th>71</th>\n",
       "      <td>ControlRisks</td>\n",
       "      <td>organizational process asset updatesthe risk m...</td>\n",
       "      <td>[organizational, process, asset, updatesthe, r...</td>\n",
       "      <td>[(organizational, process), (process, asset), ...</td>\n",
       "      <td>[(organizational, process, asset), (process, a...</td>\n",
       "    </tr>\n",
       "    <tr>\n",
       "      <th>72</th>\n",
       "      <td>ControlRisks</td>\n",
       "      <td>organizational process asset that may be updat...</td>\n",
       "      <td>[organizational, process, asset, that, may, be...</td>\n",
       "      <td>[(organizational, process), (process, asset), ...</td>\n",
       "      <td>[(organizational, process, asset), (process, a...</td>\n",
       "    </tr>\n",
       "    <tr>\n",
       "      <th>73</th>\n",
       "      <td>ControlRisks</td>\n",
       "      <td>final version of risk register and risk manage...</td>\n",
       "      <td>[final, version, of, risk, register, and, risk...</td>\n",
       "      <td>[(final, version), (version, of), (of, risk), ...</td>\n",
       "      <td>[(final, version, of), (version, of, risk), (o...</td>\n",
       "    </tr>\n",
       "  </tbody>\n",
       "</table>\n",
       "<p>741 rows × 5 columns</p>\n",
       "</div>"
      ],
      "text/plain": [
       "           nom_process                                           sentence  \\\n",
       "0   PlanRiskManagement  project risk management include process of con...   \n",
       "1   PlanRiskManagement  objective of project risk management be to inc...   \n",
       "2   PlanRiskManagement  identify risk process of determine which risk ...   \n",
       "3   PlanRiskManagement  perform qualitative risk analysis process of p...   \n",
       "4   PlanRiskManagement  perform quantitative risk analysis process of ...   \n",
       "..                 ...                                                ...   \n",
       "69        ControlRisks  actual outcome of project risk and of risk res...   \n",
       "70        ControlRisks  this information can help project manager to p...   \n",
       "71        ControlRisks  organizational process asset updatesthe risk m...   \n",
       "72        ControlRisks  organizational process asset that may be updat...   \n",
       "73        ControlRisks  final version of risk register and risk manage...   \n",
       "\n",
       "                                               tokens  \\\n",
       "0   [project, risk, management, include, process, ...   \n",
       "1   [objective, of, project, risk, management, be,...   \n",
       "2   [identify, risk, process, of, determine, which...   \n",
       "3   [perform, qualitative, risk, analysis, process...   \n",
       "4   [perform, quantitative, risk, analysis, proces...   \n",
       "..                                                ...   \n",
       "69  [actual, outcome, of, project, risk, and, of, ...   \n",
       "70  [this, information, can, help, project, manage...   \n",
       "71  [organizational, process, asset, updatesthe, r...   \n",
       "72  [organizational, process, asset, that, may, be...   \n",
       "73  [final, version, of, risk, register, and, risk...   \n",
       "\n",
       "                                              bigrams  \\\n",
       "0   [(project, risk), (risk, management), (managem...   \n",
       "1   [(objective, of), (of, project), (project, ris...   \n",
       "2   [(identify, risk), (risk, process), (process, ...   \n",
       "3   [(perform, qualitative), (qualitative, risk), ...   \n",
       "4   [(perform, quantitative), (quantitative, risk)...   \n",
       "..                                                ...   \n",
       "69  [(actual, outcome), (outcome, of), (of, projec...   \n",
       "70  [(this, information), (information, can), (can...   \n",
       "71  [(organizational, process), (process, asset), ...   \n",
       "72  [(organizational, process), (process, asset), ...   \n",
       "73  [(final, version), (version, of), (of, risk), ...   \n",
       "\n",
       "                                             trigrams  \n",
       "0   [(project, risk, management), (risk, managemen...  \n",
       "1   [(objective, of, project), (of, project, risk)...  \n",
       "2   [(identify, risk, process), (risk, process, of...  \n",
       "3   [(perform, qualitative, risk), (qualitative, r...  \n",
       "4   [(perform, quantitative, risk), (quantitative,...  \n",
       "..                                                ...  \n",
       "69  [(actual, outcome, of), (outcome, of, project)...  \n",
       "70  [(this, information, can), (information, can, ...  \n",
       "71  [(organizational, process, asset), (process, a...  \n",
       "72  [(organizational, process, asset), (process, a...  \n",
       "73  [(final, version, of), (version, of, risk), (o...  \n",
       "\n",
       "[741 rows x 5 columns]"
      ]
     },
     "execution_count": 41,
     "metadata": {},
     "output_type": "execute_result"
    }
   ],
   "source": [
    "df"
   ]
  },
  {
   "cell_type": "markdown",
   "id": "b0fd25be",
   "metadata": {
    "id": "C5Jo0UA4VvOD"
   },
   "source": [
    "## Named Entity Extraction PMBOK"
   ]
  },
  {
   "cell_type": "code",
   "execution_count": 42,
   "id": "ce7ad704",
   "metadata": {
    "id": "7G67ow_DVvOE"
   },
   "outputs": [],
   "source": [
    "def entityExtraction(rawtext):\n",
    "    doc = nlp(rawtext)\n",
    "    d = []\n",
    "    for ent in doc.ents:\n",
    "        d.append((ent.label_, ent.text))\n",
    "        df_entity = pd.DataFrame(d, columns=('named entity', 'output'))\n",
    "    return df_entity"
   ]
  },
  {
   "cell_type": "code",
   "execution_count": 43,
   "id": "0e0d12a1",
   "metadata": {},
   "outputs": [
    {
     "data": {
      "text/html": [
       "<div>\n",
       "<style scoped>\n",
       "    .dataframe tbody tr th:only-of-type {\n",
       "        vertical-align: middle;\n",
       "    }\n",
       "\n",
       "    .dataframe tbody tr th {\n",
       "        vertical-align: top;\n",
       "    }\n",
       "\n",
       "    .dataframe thead th {\n",
       "        text-align: right;\n",
       "    }\n",
       "</style>\n",
       "<table border=\"1\" class=\"dataframe\">\n",
       "  <thead>\n",
       "    <tr style=\"text-align: right;\">\n",
       "      <th></th>\n",
       "      <th>nom_process</th>\n",
       "      <th>sentence</th>\n",
       "      <th>tokens</th>\n",
       "      <th>bigrams</th>\n",
       "      <th>trigrams</th>\n",
       "    </tr>\n",
       "  </thead>\n",
       "  <tbody>\n",
       "    <tr>\n",
       "      <th>0</th>\n",
       "      <td>PlanRiskManagement</td>\n",
       "      <td>project risk management include process of con...</td>\n",
       "      <td>[project, risk, management, include, process, ...</td>\n",
       "      <td>[(project, risk), (risk, management), (managem...</td>\n",
       "      <td>[(project, risk, management), (risk, managemen...</td>\n",
       "    </tr>\n",
       "    <tr>\n",
       "      <th>1</th>\n",
       "      <td>PlanRiskManagement</td>\n",
       "      <td>objective of project risk management be to inc...</td>\n",
       "      <td>[objective, of, project, risk, management, be,...</td>\n",
       "      <td>[(objective, of), (of, project), (project, ris...</td>\n",
       "      <td>[(objective, of, project), (of, project, risk)...</td>\n",
       "    </tr>\n",
       "    <tr>\n",
       "      <th>2</th>\n",
       "      <td>PlanRiskManagement</td>\n",
       "      <td>identify risk process of determine which risk ...</td>\n",
       "      <td>[identify, risk, process, of, determine, which...</td>\n",
       "      <td>[(identify, risk), (risk, process), (process, ...</td>\n",
       "      <td>[(identify, risk, process), (risk, process, of...</td>\n",
       "    </tr>\n",
       "    <tr>\n",
       "      <th>3</th>\n",
       "      <td>PlanRiskManagement</td>\n",
       "      <td>perform qualitative risk analysis process of p...</td>\n",
       "      <td>[perform, qualitative, risk, analysis, process...</td>\n",
       "      <td>[(perform, qualitative), (qualitative, risk), ...</td>\n",
       "      <td>[(perform, qualitative, risk), (qualitative, r...</td>\n",
       "    </tr>\n",
       "    <tr>\n",
       "      <th>4</th>\n",
       "      <td>PlanRiskManagement</td>\n",
       "      <td>perform quantitative risk analysis process of ...</td>\n",
       "      <td>[perform, quantitative, risk, analysis, proces...</td>\n",
       "      <td>[(perform, quantitative), (quantitative, risk)...</td>\n",
       "      <td>[(perform, quantitative, risk), (quantitative,...</td>\n",
       "    </tr>\n",
       "    <tr>\n",
       "      <th>...</th>\n",
       "      <td>...</td>\n",
       "      <td>...</td>\n",
       "      <td>...</td>\n",
       "      <td>...</td>\n",
       "      <td>...</td>\n",
       "    </tr>\n",
       "    <tr>\n",
       "      <th>69</th>\n",
       "      <td>ControlRisks</td>\n",
       "      <td>actual outcome of project risk and of risk res...</td>\n",
       "      <td>[actual, outcome, of, project, risk, and, of, ...</td>\n",
       "      <td>[(actual, outcome), (outcome, of), (of, projec...</td>\n",
       "      <td>[(actual, outcome, of), (outcome, of, project)...</td>\n",
       "    </tr>\n",
       "    <tr>\n",
       "      <th>70</th>\n",
       "      <td>ControlRisks</td>\n",
       "      <td>this information can help project manager to p...</td>\n",
       "      <td>[this, information, can, help, project, manage...</td>\n",
       "      <td>[(this, information), (information, can), (can...</td>\n",
       "      <td>[(this, information, can), (information, can, ...</td>\n",
       "    </tr>\n",
       "    <tr>\n",
       "      <th>71</th>\n",
       "      <td>ControlRisks</td>\n",
       "      <td>organizational process asset updatesthe risk m...</td>\n",
       "      <td>[organizational, process, asset, updatesthe, r...</td>\n",
       "      <td>[(organizational, process), (process, asset), ...</td>\n",
       "      <td>[(organizational, process, asset), (process, a...</td>\n",
       "    </tr>\n",
       "    <tr>\n",
       "      <th>72</th>\n",
       "      <td>ControlRisks</td>\n",
       "      <td>organizational process asset that may be updat...</td>\n",
       "      <td>[organizational, process, asset, that, may, be...</td>\n",
       "      <td>[(organizational, process), (process, asset), ...</td>\n",
       "      <td>[(organizational, process, asset), (process, a...</td>\n",
       "    </tr>\n",
       "    <tr>\n",
       "      <th>73</th>\n",
       "      <td>ControlRisks</td>\n",
       "      <td>final version of risk register and risk manage...</td>\n",
       "      <td>[final, version, of, risk, register, and, risk...</td>\n",
       "      <td>[(final, version), (version, of), (of, risk), ...</td>\n",
       "      <td>[(final, version, of), (version, of, risk), (o...</td>\n",
       "    </tr>\n",
       "  </tbody>\n",
       "</table>\n",
       "<p>741 rows × 5 columns</p>\n",
       "</div>"
      ],
      "text/plain": [
       "           nom_process                                           sentence  \\\n",
       "0   PlanRiskManagement  project risk management include process of con...   \n",
       "1   PlanRiskManagement  objective of project risk management be to inc...   \n",
       "2   PlanRiskManagement  identify risk process of determine which risk ...   \n",
       "3   PlanRiskManagement  perform qualitative risk analysis process of p...   \n",
       "4   PlanRiskManagement  perform quantitative risk analysis process of ...   \n",
       "..                 ...                                                ...   \n",
       "69        ControlRisks  actual outcome of project risk and of risk res...   \n",
       "70        ControlRisks  this information can help project manager to p...   \n",
       "71        ControlRisks  organizational process asset updatesthe risk m...   \n",
       "72        ControlRisks  organizational process asset that may be updat...   \n",
       "73        ControlRisks  final version of risk register and risk manage...   \n",
       "\n",
       "                                               tokens  \\\n",
       "0   [project, risk, management, include, process, ...   \n",
       "1   [objective, of, project, risk, management, be,...   \n",
       "2   [identify, risk, process, of, determine, which...   \n",
       "3   [perform, qualitative, risk, analysis, process...   \n",
       "4   [perform, quantitative, risk, analysis, proces...   \n",
       "..                                                ...   \n",
       "69  [actual, outcome, of, project, risk, and, of, ...   \n",
       "70  [this, information, can, help, project, manage...   \n",
       "71  [organizational, process, asset, updatesthe, r...   \n",
       "72  [organizational, process, asset, that, may, be...   \n",
       "73  [final, version, of, risk, register, and, risk...   \n",
       "\n",
       "                                              bigrams  \\\n",
       "0   [(project, risk), (risk, management), (managem...   \n",
       "1   [(objective, of), (of, project), (project, ris...   \n",
       "2   [(identify, risk), (risk, process), (process, ...   \n",
       "3   [(perform, qualitative), (qualitative, risk), ...   \n",
       "4   [(perform, quantitative), (quantitative, risk)...   \n",
       "..                                                ...   \n",
       "69  [(actual, outcome), (outcome, of), (of, projec...   \n",
       "70  [(this, information), (information, can), (can...   \n",
       "71  [(organizational, process), (process, asset), ...   \n",
       "72  [(organizational, process), (process, asset), ...   \n",
       "73  [(final, version), (version, of), (of, risk), ...   \n",
       "\n",
       "                                             trigrams  \n",
       "0   [(project, risk, management), (risk, managemen...  \n",
       "1   [(objective, of, project), (of, project, risk)...  \n",
       "2   [(identify, risk, process), (risk, process, of...  \n",
       "3   [(perform, qualitative, risk), (qualitative, r...  \n",
       "4   [(perform, quantitative, risk), (quantitative,...  \n",
       "..                                                ...  \n",
       "69  [(actual, outcome, of), (outcome, of, project)...  \n",
       "70  [(this, information, can), (information, can, ...  \n",
       "71  [(organizational, process, asset), (process, a...  \n",
       "72  [(organizational, process, asset), (process, a...  \n",
       "73  [(final, version, of), (version, of, risk), (o...  \n",
       "\n",
       "[741 rows x 5 columns]"
      ]
     },
     "execution_count": 43,
     "metadata": {},
     "output_type": "execute_result"
    }
   ],
   "source": [
    "df"
   ]
  },
  {
   "cell_type": "code",
   "execution_count": 44,
   "id": "d0ab6392",
   "metadata": {
    "id": "rvhzsXDcVvOE"
   },
   "outputs": [],
   "source": [
    "df_entity = entityExtraction(\". \".join(df.sentence))\n",
    "df_entity = df_entity.loc[df_entity['named entity'] != 'PERSON']\n",
    "df_entity = df_entity.loc[df_entity['named entity'] != 'ORG']"
   ]
  },
  {
   "cell_type": "code",
   "execution_count": 45,
   "id": "33fb06da",
   "metadata": {},
   "outputs": [
    {
     "data": {
      "text/html": [
       "<div>\n",
       "<style scoped>\n",
       "    .dataframe tbody tr th:only-of-type {\n",
       "        vertical-align: middle;\n",
       "    }\n",
       "\n",
       "    .dataframe tbody tr th {\n",
       "        vertical-align: top;\n",
       "    }\n",
       "\n",
       "    .dataframe thead th {\n",
       "        text-align: right;\n",
       "    }\n",
       "</style>\n",
       "<table border=\"1\" class=\"dataframe\">\n",
       "  <thead>\n",
       "    <tr style=\"text-align: right;\">\n",
       "      <th></th>\n",
       "      <th>named entity</th>\n",
       "      <th>output</th>\n",
       "    </tr>\n",
       "  </thead>\n",
       "  <tbody>\n",
       "    <tr>\n",
       "      <th>1</th>\n",
       "      <td>CARDINAL</td>\n",
       "      <td>one</td>\n",
       "    </tr>\n",
       "    <tr>\n",
       "      <th>2</th>\n",
       "      <td>CARDINAL</td>\n",
       "      <td>one</td>\n",
       "    </tr>\n",
       "    <tr>\n",
       "      <th>3</th>\n",
       "      <td>CARDINAL</td>\n",
       "      <td>three</td>\n",
       "    </tr>\n",
       "    <tr>\n",
       "      <th>5</th>\n",
       "      <td>CARDINAL</td>\n",
       "      <td>one</td>\n",
       "    </tr>\n",
       "    <tr>\n",
       "      <th>6</th>\n",
       "      <td>CARDINAL</td>\n",
       "      <td>two</td>\n",
       "    </tr>\n",
       "  </tbody>\n",
       "</table>\n",
       "</div>"
      ],
      "text/plain": [
       "  named entity output\n",
       "1     CARDINAL    one\n",
       "2     CARDINAL    one\n",
       "3     CARDINAL  three\n",
       "5     CARDINAL    one\n",
       "6     CARDINAL    two"
      ]
     },
     "execution_count": 45,
     "metadata": {},
     "output_type": "execute_result"
    }
   ],
   "source": [
    "df_entity.head()"
   ]
  },
  {
   "cell_type": "markdown",
   "id": "7dee2841",
   "metadata": {},
   "source": [
    "### PMI Practice Standard for Project Risk Management"
   ]
  },
  {
   "cell_type": "code",
   "execution_count": 46,
   "id": "9d2eee5b",
   "metadata": {},
   "outputs": [],
   "source": [
    "PMIpdfFileObj = open('PMIPracticeStandardforProjectRiskManagement.pdf', 'rb')"
   ]
  },
  {
   "cell_type": "code",
   "execution_count": 47,
   "id": "a67c8351",
   "metadata": {},
   "outputs": [],
   "source": [
    "# objet lecteur pdf\n",
    "PMIpdfReader = PyPDF2.PdfFileReader(PMIpdfFileObj)"
   ]
  },
  {
   "cell_type": "code",
   "execution_count": 48,
   "id": "8d578745",
   "metadata": {},
   "outputs": [
    {
     "name": "stdout",
     "output_type": "stream",
     "text": [
      "128\n"
     ]
    }
   ],
   "source": [
    "# nombre de pages en pdf\n",
    "print(PMIpdfReader.numPages)"
   ]
  },
  {
   "cell_type": "code",
   "execution_count": 49,
   "id": "df5dd4ba",
   "metadata": {},
   "outputs": [],
   "source": [
    "#extraction du text de PMI\n",
    "textPMI=\"\"\n",
    "for i in range(0,PMIpdfReader.numPages):\n",
    "    page=PMIpdfReader.getPage(i)\n",
    "    textPMI=textPMI+page.extractText()\n",
    "textPMI=textPMI.replace(\"\\n\",\"\")"
   ]
  },
  {
   "cell_type": "code",
   "execution_count": 50,
   "id": "e852b0ce",
   "metadata": {},
   "outputs": [],
   "source": [
    "textPMI_clean=clean(textPMI)\n",
    "textPMI_clean=remove_special(textPMI_clean)"
   ]
  },
  {
   "cell_type": "code",
   "execution_count": 51,
   "id": "ef7a2dd2",
   "metadata": {},
   "outputs": [],
   "source": [
    "#ségementation des phrases\n",
    "pmi_sent=sent_tokenize(textPMI_clean)"
   ]
  },
  {
   "cell_type": "code",
   "execution_count": 52,
   "id": "7c29a291",
   "metadata": {},
   "outputs": [],
   "source": [
    "df_pmi=pd.DataFrame(pmi_sent,columns=[\"sentence\"])"
   ]
  },
  {
   "cell_type": "code",
   "execution_count": 53,
   "id": "63c76d8c",
   "metadata": {},
   "outputs": [],
   "source": [
    "# rendre le text en miniscule\n",
    "df_pmi[\"sentence\"]=df_pmi[\"sentence\"].apply(lambda s : s.lower())\n",
    "# supression des punctuations \n",
    "df_pmi[\"sentence\"]=df_pmi[\"sentence\"].apply(lambda s : remove_punctuation(s))\n",
    "# suppresion des stop words\n",
    "df_pmi[\"sentence\"]=df_pmi[\"sentence\"].apply(lambda s : \" \".join([word.text for word in nlp(s) if not word.pos_ in [\"ADV\"]]))\n",
    "df_pmi[\"sentence\"]=df_pmi[\"sentence\"].apply(lambda s : \" \".join([word for word in s.split() if word != \"the\" ]))\n",
    "# Lemmatization\n",
    "df_pmi[\"sentence\"]=df_pmi[\"sentence\"].apply(lambda s : \" \".join(lemm(s)))"
   ]
  },
  {
   "cell_type": "code",
   "execution_count": 54,
   "id": "a631013c",
   "metadata": {
    "scrolled": true
   },
   "outputs": [
    {
     "data": {
      "text/html": [
       "<div>\n",
       "<style scoped>\n",
       "    .dataframe tbody tr th:only-of-type {\n",
       "        vertical-align: middle;\n",
       "    }\n",
       "\n",
       "    .dataframe tbody tr th {\n",
       "        vertical-align: top;\n",
       "    }\n",
       "\n",
       "    .dataframe thead th {\n",
       "        text-align: right;\n",
       "    }\n",
       "</style>\n",
       "<table border=\"1\" class=\"dataframe\">\n",
       "  <thead>\n",
       "    <tr style=\"text-align: right;\">\n",
       "      <th></th>\n",
       "      <th>sentence</th>\n",
       "    </tr>\n",
       "  </thead>\n",
       "  <tbody>\n",
       "    <tr>\n",
       "      <th>0</th>\n",
       "      <td>practice standard for isbn conceptualise publi...</td>\n",
       "    </tr>\n",
       "    <tr>\n",
       "      <th>1</th>\n",
       "      <td>phone conceptualise fax conceptualise e mail c...</td>\n",
       "    </tr>\n",
       "    <tr>\n",
       "      <th>2</th>\n",
       "      <td>ﬁpmiﬂ pmi logo ﬁpmpﬂ pmp logo ﬁpmbokﬂ ﬁpgmpﬂ ﬁ...</td>\n",
       "    </tr>\n",
       "    <tr>\n",
       "      <th>3</th>\n",
       "      <td>quarter globe design be a trademark of inc for...</td>\n",
       "    </tr>\n",
       "    <tr>\n",
       "      <th>4</th>\n",
       "      <td>pmi publication welcome correction and comment...</td>\n",
       "    </tr>\n",
       "  </tbody>\n",
       "</table>\n",
       "</div>"
      ],
      "text/plain": [
       "                                            sentence\n",
       "0  practice standard for isbn conceptualise publi...\n",
       "1  phone conceptualise fax conceptualise e mail c...\n",
       "2  ﬁpmiﬂ pmi logo ﬁpmpﬂ pmp logo ﬁpmbokﬂ ﬁpgmpﬂ ﬁ...\n",
       "3  quarter globe design be a trademark of inc for...\n",
       "4  pmi publication welcome correction and comment..."
      ]
     },
     "execution_count": 54,
     "metadata": {},
     "output_type": "execute_result"
    }
   ],
   "source": [
    "df_pmi.head()"
   ]
  },
  {
   "cell_type": "markdown",
   "id": "e99831be",
   "metadata": {},
   "source": [
    "### Named Entity Extraction PMI"
   ]
  },
  {
   "cell_type": "code",
   "execution_count": 55,
   "id": "05a47809",
   "metadata": {},
   "outputs": [],
   "source": [
    "df_entity_pmi = entityExtraction(\". \".join(df_pmi.sentence))\n",
    "df_entity_pmi = df_entity_pmi.loc[df_entity_pmi['named entity'] != 'PERSON']\n",
    "df_entity_pmi = df_entity_pmi.loc[df_entity_pmi['named entity'] != 'ORG']"
   ]
  },
  {
   "cell_type": "code",
   "execution_count": 56,
   "id": "c8a866e7",
   "metadata": {
    "scrolled": false
   },
   "outputs": [
    {
     "data": {
      "text/html": [
       "<div>\n",
       "<style scoped>\n",
       "    .dataframe tbody tr th:only-of-type {\n",
       "        vertical-align: middle;\n",
       "    }\n",
       "\n",
       "    .dataframe tbody tr th {\n",
       "        vertical-align: top;\n",
       "    }\n",
       "\n",
       "    .dataframe thead th {\n",
       "        text-align: right;\n",
       "    }\n",
       "</style>\n",
       "<table border=\"1\" class=\"dataframe\">\n",
       "  <thead>\n",
       "    <tr style=\"text-align: right;\">\n",
       "      <th></th>\n",
       "      <th>named entity</th>\n",
       "      <th>output</th>\n",
       "    </tr>\n",
       "  </thead>\n",
       "  <tbody>\n",
       "    <tr>\n",
       "      <th>1</th>\n",
       "      <td>DATE</td>\n",
       "      <td>today</td>\n",
       "    </tr>\n",
       "    <tr>\n",
       "      <th>2</th>\n",
       "      <td>CARDINAL</td>\n",
       "      <td>quarter</td>\n",
       "    </tr>\n",
       "    <tr>\n",
       "      <th>3</th>\n",
       "      <td>GPE</td>\n",
       "      <td>po</td>\n",
       "    </tr>\n",
       "    <tr>\n",
       "      <th>5</th>\n",
       "      <td>GPE</td>\n",
       "      <td>america</td>\n",
       "    </tr>\n",
       "    <tr>\n",
       "      <th>7</th>\n",
       "      <td>CARDINAL</td>\n",
       "      <td>three</td>\n",
       "    </tr>\n",
       "  </tbody>\n",
       "</table>\n",
       "</div>"
      ],
      "text/plain": [
       "  named entity   output\n",
       "1         DATE    today\n",
       "2     CARDINAL  quarter\n",
       "3          GPE       po\n",
       "5          GPE  america\n",
       "7     CARDINAL    three"
      ]
     },
     "execution_count": 56,
     "metadata": {},
     "output_type": "execute_result"
    }
   ],
   "source": [
    "df_entity_pmi.head()"
   ]
  },
  {
   "cell_type": "markdown",
   "id": "0f0f954a",
   "metadata": {},
   "source": [
    "# Phase 2 "
   ]
  },
  {
   "cell_type": "markdown",
   "id": "1e7ccbe5",
   "metadata": {},
   "source": [
    "### Extraction des titres"
   ]
  },
  {
   "cell_type": "code",
   "execution_count": 57,
   "id": "55aeea1d",
   "metadata": {},
   "outputs": [],
   "source": [
    "# Extraction de la partie table des matieres\n",
    "writer = PyPDF2.PdfFileWriter()\n",
    "Context=\"\"\n",
    "for i in range(4,15):\n",
    "    my_page = pdfReader.getPage(i)\n",
    "    Context=Context+my_page.extractText()\n",
    "Context=Context.replace(\"\\n\",\" \").replace(\"..\",\"\")"
   ]
  },
  {
   "cell_type": "code",
   "execution_count": 58,
   "id": "0beae886",
   "metadata": {},
   "outputs": [],
   "source": [
    "# fonction pour l'extraction du text entre deux strings\n",
    "def extract_text(text,startT,endT):\n",
    "    start = text.find(startT) + len(startT)\n",
    "    end = text.find(endT)\n",
    "    substring = text[start:end]\n",
    "    return substring"
   ]
  },
  {
   "cell_type": "code",
   "execution_count": 59,
   "id": "f84211c7",
   "metadata": {},
   "outputs": [],
   "source": [
    "#Fonction pour éliminer les chiffres\n",
    "def remove_numeric(text_original):\n",
    "    text_no_numeric = text_original.translate(str.maketrans('','',string.digits))\n",
    "    return(text_no_numeric)"
   ]
  },
  {
   "cell_type": "code",
   "execution_count": 60,
   "id": "d1499a96",
   "metadata": {},
   "outputs": [],
   "source": [
    "#extraction des nom de processes\n",
    "processes=[]\n",
    "for i in range (1,7):\n",
    "    processes.append(remove_numeric(extract_text(Context,\"11.\"+str(i),\"11.\"+str(i)+\".1\")).lower().replace('.','').strip())\n",
    "    "
   ]
  },
  {
   "cell_type": "code",
   "execution_count": 61,
   "id": "97693cfa",
   "metadata": {},
   "outputs": [],
   "source": [
    "#focntion pour extraire les sous-titre de chaque process\n",
    "def extract_process_headlines(p):\n",
    "    L=[]\n",
    "    for i in range (1,3):\n",
    "        L.append(remove_numeric(extract_text(Context,\"11.\"+str(p)+\".\"+str(i),\"11.\"+str(p)+\".\"+str(i+1))).lower().replace('.','').strip())\n",
    "        output=remove_numeric(extract_text(Context,\"11.\"+str(p)+'.3','11.'+str(p+1))).lower().replace('.','')\n",
    "        output=extract_text(output,output[0],'outputs')\n",
    "    L.append(output+\"outputs\")\n",
    "    return L"
   ]
  },
  {
   "cell_type": "code",
   "execution_count": 62,
   "id": "02b251dd",
   "metadata": {},
   "outputs": [
    {
     "data": {
      "text/plain": [
       "['plan risk management: inputs',\n",
       " 'plan risk management: tools and techniques',\n",
       " 'plan risk management: outputs']"
      ]
     },
     "execution_count": 62,
     "metadata": {},
     "output_type": "execute_result"
    }
   ],
   "source": [
    "#les sous titres du process plan risk management:\n",
    "extract_process_headlines(1)"
   ]
  },
  {
   "cell_type": "code",
   "execution_count": 63,
   "id": "3071a8a2",
   "metadata": {
    "scrolled": true
   },
   "outputs": [
    {
     "data": {
      "text/plain": [
       "['plan risk management',\n",
       " 'identify risks',\n",
       " 'perform qualitative  risk analysis',\n",
       " 'perform quantitative  risk analysis',\n",
       " 'plan risk responses',\n",
       " 'control risks']"
      ]
     },
     "execution_count": 63,
     "metadata": {},
     "output_type": "execute_result"
    }
   ],
   "source": [
    "processes"
   ]
  },
  {
   "cell_type": "code",
   "execution_count": 64,
   "id": "107019d1",
   "metadata": {},
   "outputs": [],
   "source": [
    "#Extraction de la partie project risk mangemenet\n",
    "text2=\"\"\n",
    "for i in range(0,PROJECT_RISK_MANAGEMENT.numPages):\n",
    "    page=PROJECT_RISK_MANAGEMENT.getPage(i)\n",
    "    text2=text2+page.extractText()\n",
    "text2=text2.replace(\"\\n\",\"\")"
   ]
  },
  {
   "cell_type": "code",
   "execution_count": 65,
   "id": "e93aa55d",
   "metadata": {},
   "outputs": [],
   "source": [
    "#fonction pour retourner le nombre de chaque process\n",
    "def get_number(p,part):\n",
    "    number=0\n",
    "    K=0\n",
    "    if part==\"inputs\":\n",
    "        k=1\n",
    "    elif part==\"tools and techniques\":\n",
    "        k=2\n",
    "    elif part==\"outputs\":\n",
    "        k=3\n",
    "    else:\n",
    "        return 0\n",
    "    for i in range(1,14):\n",
    "        if '11.'+str(p)+'.'+str(k)+'.'+str(i) in text2:\n",
    "            number=number+1\n",
    "    return (number)"
   ]
  },
  {
   "cell_type": "code",
   "execution_count": 66,
   "id": "e80121f4",
   "metadata": {
    "scrolled": true
   },
   "outputs": [
    {
     "data": {
      "text/plain": [
       "5"
      ]
     },
     "execution_count": 66,
     "metadata": {},
     "output_type": "execute_result"
    }
   ],
   "source": [
    "#plan risk management possede 5 inputs\n",
    "get_number(1,'inputs')"
   ]
  },
  {
   "cell_type": "code",
   "execution_count": 67,
   "id": "e8462c72",
   "metadata": {
    "scrolled": true
   },
   "outputs": [
    {
     "data": {
      "text/plain": [
       "' Project CharterDescribed in Section 4.1.3.1. The project charter can provide various inputs such as high-level risks, high-level project descriptions, and high-level requirements.'"
      ]
     },
     "execution_count": 67,
     "metadata": {},
     "output_type": "execute_result"
    }
   ],
   "source": [
    "ll=extract_text(text2,\"11.1.1.2\",\"11.1.1.3\")\n",
    "ll"
   ]
  },
  {
   "cell_type": "code",
   "execution_count": 68,
   "id": "75ac6c3d",
   "metadata": {},
   "outputs": [],
   "source": [
    "#extraction du titre de la défintion \n",
    "def extract_title(annotation):\n",
    "    end=re.findall(r\"(\\w)([A-Z])\", annotation)[0][0]+re.findall(r\"(\\w)([A-Z])\", annotation)[0][1]\n",
    "    return extract_text(annotation,annotation[0],end)+re.findall(r\"(\\w)([A-Z])\", annotation)[0][0] "
   ]
  },
  {
   "cell_type": "code",
   "execution_count": 69,
   "id": "13f3c044",
   "metadata": {},
   "outputs": [
    {
     "data": {
      "text/plain": [
       "'Project Charter'"
      ]
     },
     "execution_count": 69,
     "metadata": {},
     "output_type": "execute_result"
    }
   ],
   "source": [
    "extract_title(ll)"
   ]
  },
  {
   "cell_type": "code",
   "execution_count": 70,
   "id": "707ddd15",
   "metadata": {},
   "outputs": [],
   "source": [
    "#fonction pour extraire les titres et les annotations\n",
    "def extract_process_inforamtion(p,Type):\n",
    "    if Type==\"inputs\":\n",
    "        t=1\n",
    "    elif Type==\"tools and techniques\":\n",
    "        t=2\n",
    "    elif Type==\"outputs\":\n",
    "        t=3\n",
    "    N=get_number(p,Type)\n",
    "    titles=[]\n",
    "    annotations=[]\n",
    "    for i in range(1,N):\n",
    "        start=\"11.\"+str(p)+\".\"+str(t)+\".\"+str(i)\n",
    "        end=\"11.\"+str(p)+\".\"+str(t)+\".\"+str(i+1)\n",
    "        annotation=extract_text(text2,start,end)\n",
    "        titles.append(extract_title(annotation))\n",
    "        annotations.append(annotation.strip()) \n",
    "    annotation=extract_text(text2,\"11.\"+str(p)+\".\"+str(t)+\".\"+str(N),\"11.\"+str(p)+\".\"+str(t+1))\n",
    "    titles.append(extract_title(annotation))\n",
    "    annotations.append(annotation)\n",
    "    return titles,annotations"
   ]
  },
  {
   "cell_type": "code",
   "execution_count": 71,
   "id": "0490ca1b",
   "metadata": {},
   "outputs": [
    {
     "data": {
      "text/plain": [
       "(['Analytical Techniques', 'Expert Judgment', 'Meetings'],\n",
       " ['Analytical TechniquesAnalytical techniques are used to understand and de˜ne the overall risk management context of the project. Risk management context is a combination of stakeholder risk attitudes and the strategic risk exposure of a given project based on the overall project context. For example, a stakeholder risk pro˜le analysis may be performed to grade and qualify the project stakeholder risk appetite and tolerance. Other techniques, such as the use of strategic risk scoring sheets, are used to provide a high-level assessment of the risk exposure of the project based on the overall project context. Depending on these assessments, the project team can allocate appropriate resources and focus on the risk management activities.',\n",
       "  'Expert JudgmentTo ensure a comprehensive establishment of the risk management plan, judgment, and expertise should be considered from groups or individuals with specialized training or knowledge on the subject area, such as:Senior management,Project stakeholders,Project managers who have worked on projects in the same area (directly or through lessons learned),Subject matter experts (SMEs) in business or project area,Industry groups and consultants, andProfessional and technical associations.316©2013 Project Management Institute.',\n",
       "  ' MeetingsProject teams hold planning meetings to develop the risk management plan. Attendees at these meetings may include the project manager, selected project team members and stakeholders, anyone in the organization with responsibility to manage the risk planning and execution activities, and others, as needed.High-level plans for conducting the risk management activities are de˜ned in these meetings. Risk management cost elements and schedule activities should be developed for inclusion in the project budget and schedule, respectively. Risk contingency reserve application approaches may be established or reviewed. Risk management responsibilities should be assigned. General organizational templates for risk categories and de˜nitions of terms such as levels of risk, probability by type of risk, impact by type of objectives, and the probability and impact matrix will be tailored to the speci˜c project. If templates for other steps in the process do not exist, they may be generated in these meetings. The outputs of these activities are summarized in the risk management plan.'])"
      ]
     },
     "execution_count": 71,
     "metadata": {},
     "output_type": "execute_result"
    }
   ],
   "source": [
    "text2 = re.sub('[0-9]+©2013 ',' ',str(text2))\n",
    "text2 = re.sub('Licensed To: Jorge Diego Fuentes Sanchez PMI MemberID: 2399412This copy is a PMI Member benefit, not for distribution, sale, or reproduction.','',str(text))\n",
    "text2 = text2.replace(\"Techniques Interviewing\",\"TechniquesInterviewing\")\n",
    "text2 = text2.replace(\"A Guide to the Project Management Body of Knowledge (PMBOK® Guide) Œ Fifth Edition 11 - PROJECT RISK MANAGEMENT\",\"\")\n",
    "text2 = text2.replace(\"Examples of Commonly Used Probability Distributions Project Management Institute.\",\"\")\n",
    "text2 = text2.replace(\"SWOT\",\"Swot\")\n",
    "# afficher les \"tools and techniques\" du process plan risk management\n",
    "extract_process_inforamtion(1,\"tools and techniques\")"
   ]
  },
  {
   "cell_type": "code",
   "execution_count": 72,
   "id": "24588a7c",
   "metadata": {},
   "outputs": [],
   "source": [
    "sents=sent_tokenize(text2.replace(\"PROJECT RISK MANAGEMENT11\",\" \").replace(\"A Guide to the Project Management Body of Knowledge (PMBOK® Guide) Œ Fifth Edition 11 -\",\"\").replace(\"Assumptions may be incorporated into the project scope statement or in a separate assumptions log.\",\"\"))"
   ]
  },
  {
   "cell_type": "code",
   "execution_count": 73,
   "id": "d05dd59d",
   "metadata": {},
   "outputs": [],
   "source": [
    "#extraction les annotations de chaque process\n",
    "def extractProcessAnnotations():\n",
    "    annotations=[]\n",
    "    for i in range(1,7):\n",
    "        annotation=\"\"\n",
    "        for sent in sents:\n",
    "            if sent.startswith('11.'+str(i)+' ') or sent.startswith('.'+str(i)+' '):\n",
    "                annotation=annotation+\" \"+sent.replace('˜','fi')  \n",
    "                i=int(sents.index(sent))\n",
    "                while(i>0):\n",
    "                    i=i+1\n",
    "                    annotation=annotation+\" \"+sents[i].replace('˜','fi')\n",
    "                    if sents[i].startswith('The inputs, tools and techniques'):\n",
    "                        i=-1\n",
    "        annotations.append(annotation)\n",
    "        return annotations"
   ]
  },
  {
   "cell_type": "code",
   "execution_count": 74,
   "id": "f05c0024",
   "metadata": {},
   "outputs": [],
   "source": [
    "#creation du dataframe is/have (nom_process /is a /project risk managment)\n",
    "dlist=[]\n",
    "for p in range(0,6):\n",
    "    dis_dict = {'Noun1':processes[p],'Is/Have':'is a','Noun2':'project risk management'}\n",
    "    dlist.append(dis_dict)\n",
    "df_title=pd.DataFrame(dlist)"
   ]
  },
  {
   "cell_type": "code",
   "execution_count": 75,
   "id": "6d39b185",
   "metadata": {},
   "outputs": [
    {
     "data": {
      "text/html": [
       "<div>\n",
       "<style scoped>\n",
       "    .dataframe tbody tr th:only-of-type {\n",
       "        vertical-align: middle;\n",
       "    }\n",
       "\n",
       "    .dataframe tbody tr th {\n",
       "        vertical-align: top;\n",
       "    }\n",
       "\n",
       "    .dataframe thead th {\n",
       "        text-align: right;\n",
       "    }\n",
       "</style>\n",
       "<table border=\"1\" class=\"dataframe\">\n",
       "  <thead>\n",
       "    <tr style=\"text-align: right;\">\n",
       "      <th></th>\n",
       "      <th>Noun1</th>\n",
       "      <th>Is/Have</th>\n",
       "      <th>Noun2</th>\n",
       "    </tr>\n",
       "  </thead>\n",
       "  <tbody>\n",
       "    <tr>\n",
       "      <th>0</th>\n",
       "      <td>plan risk management</td>\n",
       "      <td>is a</td>\n",
       "      <td>project risk management</td>\n",
       "    </tr>\n",
       "    <tr>\n",
       "      <th>1</th>\n",
       "      <td>identify risks</td>\n",
       "      <td>is a</td>\n",
       "      <td>project risk management</td>\n",
       "    </tr>\n",
       "    <tr>\n",
       "      <th>2</th>\n",
       "      <td>perform qualitative  risk analysis</td>\n",
       "      <td>is a</td>\n",
       "      <td>project risk management</td>\n",
       "    </tr>\n",
       "    <tr>\n",
       "      <th>3</th>\n",
       "      <td>perform quantitative  risk analysis</td>\n",
       "      <td>is a</td>\n",
       "      <td>project risk management</td>\n",
       "    </tr>\n",
       "    <tr>\n",
       "      <th>4</th>\n",
       "      <td>plan risk responses</td>\n",
       "      <td>is a</td>\n",
       "      <td>project risk management</td>\n",
       "    </tr>\n",
       "    <tr>\n",
       "      <th>5</th>\n",
       "      <td>control risks</td>\n",
       "      <td>is a</td>\n",
       "      <td>project risk management</td>\n",
       "    </tr>\n",
       "  </tbody>\n",
       "</table>\n",
       "</div>"
      ],
      "text/plain": [
       "                                 Noun1 Is/Have                    Noun2\n",
       "0                 plan risk management    is a  project risk management\n",
       "1                       identify risks    is a  project risk management\n",
       "2   perform qualitative  risk analysis    is a  project risk management\n",
       "3  perform quantitative  risk analysis    is a  project risk management\n",
       "4                  plan risk responses    is a  project risk management\n",
       "5                        control risks    is a  project risk management"
      ]
     },
     "execution_count": 75,
     "metadata": {},
     "output_type": "execute_result"
    }
   ],
   "source": [
    "df_title"
   ]
  },
  {
   "cell_type": "code",
   "execution_count": 76,
   "id": "c7d6a826",
   "metadata": {},
   "outputs": [],
   "source": [
    "# creation du datframe pours les concepts et les sous concepts\n",
    "dlist=[]\n",
    "for p in range(0,6):\n",
    "    for i in range(0,3):\n",
    "        dis_dict = {'parent concept':processes[p],'conceptualise':'conceptualise','concept':extract_process_headlines(p+1)[i].replace(':','')}\n",
    "        dlist.append(dis_dict)\n",
    "df_Parent_Concept=pd.DataFrame(dlist)        "
   ]
  },
  {
   "cell_type": "code",
   "execution_count": 77,
   "id": "72ea4859",
   "metadata": {},
   "outputs": [
    {
     "data": {
      "text/html": [
       "<div>\n",
       "<style scoped>\n",
       "    .dataframe tbody tr th:only-of-type {\n",
       "        vertical-align: middle;\n",
       "    }\n",
       "\n",
       "    .dataframe tbody tr th {\n",
       "        vertical-align: top;\n",
       "    }\n",
       "\n",
       "    .dataframe thead th {\n",
       "        text-align: right;\n",
       "    }\n",
       "</style>\n",
       "<table border=\"1\" class=\"dataframe\">\n",
       "  <thead>\n",
       "    <tr style=\"text-align: right;\">\n",
       "      <th></th>\n",
       "      <th>parent concept</th>\n",
       "      <th>conceptualise</th>\n",
       "      <th>concept</th>\n",
       "    </tr>\n",
       "  </thead>\n",
       "  <tbody>\n",
       "    <tr>\n",
       "      <th>0</th>\n",
       "      <td>plan risk management</td>\n",
       "      <td>conceptualise</td>\n",
       "      <td>plan risk management inputs</td>\n",
       "    </tr>\n",
       "    <tr>\n",
       "      <th>1</th>\n",
       "      <td>plan risk management</td>\n",
       "      <td>conceptualise</td>\n",
       "      <td>plan risk management tools and techniques</td>\n",
       "    </tr>\n",
       "    <tr>\n",
       "      <th>2</th>\n",
       "      <td>plan risk management</td>\n",
       "      <td>conceptualise</td>\n",
       "      <td>plan risk management outputs</td>\n",
       "    </tr>\n",
       "    <tr>\n",
       "      <th>3</th>\n",
       "      <td>identify risks</td>\n",
       "      <td>conceptualise</td>\n",
       "      <td>identify risks inputs</td>\n",
       "    </tr>\n",
       "    <tr>\n",
       "      <th>4</th>\n",
       "      <td>identify risks</td>\n",
       "      <td>conceptualise</td>\n",
       "      <td>identify risks tools and techniques</td>\n",
       "    </tr>\n",
       "    <tr>\n",
       "      <th>5</th>\n",
       "      <td>identify risks</td>\n",
       "      <td>conceptualise</td>\n",
       "      <td>identify risks outputs</td>\n",
       "    </tr>\n",
       "    <tr>\n",
       "      <th>6</th>\n",
       "      <td>perform qualitative  risk analysis</td>\n",
       "      <td>conceptualise</td>\n",
       "      <td>perform qualitative  risk analysis inputs</td>\n",
       "    </tr>\n",
       "    <tr>\n",
       "      <th>7</th>\n",
       "      <td>perform qualitative  risk analysis</td>\n",
       "      <td>conceptualise</td>\n",
       "      <td>perform qualitative  risk analysis tools and t...</td>\n",
       "    </tr>\n",
       "    <tr>\n",
       "      <th>8</th>\n",
       "      <td>perform qualitative  risk analysis</td>\n",
       "      <td>conceptualise</td>\n",
       "      <td>perform qualitative  risk analysis outputs</td>\n",
       "    </tr>\n",
       "    <tr>\n",
       "      <th>9</th>\n",
       "      <td>perform quantitative  risk analysis</td>\n",
       "      <td>conceptualise</td>\n",
       "      <td>perform quantitative  risk analysis inputs</td>\n",
       "    </tr>\n",
       "    <tr>\n",
       "      <th>10</th>\n",
       "      <td>perform quantitative  risk analysis</td>\n",
       "      <td>conceptualise</td>\n",
       "      <td>perform quantitative  risk analysis tools and ...</td>\n",
       "    </tr>\n",
       "    <tr>\n",
       "      <th>11</th>\n",
       "      <td>perform quantitative  risk analysis</td>\n",
       "      <td>conceptualise</td>\n",
       "      <td>perform quantitative  risk analysis outputs</td>\n",
       "    </tr>\n",
       "    <tr>\n",
       "      <th>12</th>\n",
       "      <td>plan risk responses</td>\n",
       "      <td>conceptualise</td>\n",
       "      <td>plan risk responses inputs</td>\n",
       "    </tr>\n",
       "    <tr>\n",
       "      <th>13</th>\n",
       "      <td>plan risk responses</td>\n",
       "      <td>conceptualise</td>\n",
       "      <td>plan risk responses tools and techniques</td>\n",
       "    </tr>\n",
       "    <tr>\n",
       "      <th>14</th>\n",
       "      <td>plan risk responses</td>\n",
       "      <td>conceptualise</td>\n",
       "      <td>plan risk responses outputs</td>\n",
       "    </tr>\n",
       "    <tr>\n",
       "      <th>15</th>\n",
       "      <td>control risks</td>\n",
       "      <td>conceptualise</td>\n",
       "      <td>control risks inputs</td>\n",
       "    </tr>\n",
       "    <tr>\n",
       "      <th>16</th>\n",
       "      <td>control risks</td>\n",
       "      <td>conceptualise</td>\n",
       "      <td>control risks tools and techniques</td>\n",
       "    </tr>\n",
       "    <tr>\n",
       "      <th>17</th>\n",
       "      <td>control risks</td>\n",
       "      <td>conceptualise</td>\n",
       "      <td>control risks outputs</td>\n",
       "    </tr>\n",
       "  </tbody>\n",
       "</table>\n",
       "</div>"
      ],
      "text/plain": [
       "                         parent concept  conceptualise  \\\n",
       "0                  plan risk management  conceptualise   \n",
       "1                  plan risk management  conceptualise   \n",
       "2                  plan risk management  conceptualise   \n",
       "3                        identify risks  conceptualise   \n",
       "4                        identify risks  conceptualise   \n",
       "5                        identify risks  conceptualise   \n",
       "6    perform qualitative  risk analysis  conceptualise   \n",
       "7    perform qualitative  risk analysis  conceptualise   \n",
       "8    perform qualitative  risk analysis  conceptualise   \n",
       "9   perform quantitative  risk analysis  conceptualise   \n",
       "10  perform quantitative  risk analysis  conceptualise   \n",
       "11  perform quantitative  risk analysis  conceptualise   \n",
       "12                  plan risk responses  conceptualise   \n",
       "13                  plan risk responses  conceptualise   \n",
       "14                  plan risk responses  conceptualise   \n",
       "15                        control risks  conceptualise   \n",
       "16                        control risks  conceptualise   \n",
       "17                        control risks  conceptualise   \n",
       "\n",
       "                                              concept  \n",
       "0                         plan risk management inputs  \n",
       "1           plan risk management tools and techniques  \n",
       "2                        plan risk management outputs  \n",
       "3                               identify risks inputs  \n",
       "4                 identify risks tools and techniques  \n",
       "5                              identify risks outputs  \n",
       "6           perform qualitative  risk analysis inputs  \n",
       "7   perform qualitative  risk analysis tools and t...  \n",
       "8          perform qualitative  risk analysis outputs  \n",
       "9          perform quantitative  risk analysis inputs  \n",
       "10  perform quantitative  risk analysis tools and ...  \n",
       "11        perform quantitative  risk analysis outputs  \n",
       "12                         plan risk responses inputs  \n",
       "13           plan risk responses tools and techniques  \n",
       "14                        plan risk responses outputs  \n",
       "15                               control risks inputs  \n",
       "16                 control risks tools and techniques  \n",
       "17                              control risks outputs  "
      ]
     },
     "execution_count": 77,
     "metadata": {},
     "output_type": "execute_result"
    }
   ],
   "source": [
    "df_Parent_Concept"
   ]
  },
  {
   "cell_type": "code",
   "execution_count": 78,
   "id": "7acdc9fa",
   "metadata": {
    "scrolled": true
   },
   "outputs": [
    {
     "data": {
      "text/plain": [
       "['Risk Management Plan',\n",
       " 'Cost Management Plan',\n",
       " 'Schedule Management Plan',\n",
       " 'Quality Management Plan',\n",
       " 'Human Resource Management Plan',\n",
       " 'Scope Baseline',\n",
       " 'Activity Cost Estimates',\n",
       " 'Activity Duration Estimates',\n",
       " 'Stakeholder Register',\n",
       " 'Project Documents',\n",
       " 'Procurement Documents',\n",
       " 'Enterprise Environmental Factors',\n",
       " 'Organizational Process Assets']"
      ]
     },
     "execution_count": 78,
     "metadata": {},
     "output_type": "execute_result"
    }
   ],
   "source": [
    "extract_process_inforamtion(2,\"inputs\")[0]"
   ]
  },
  {
   "cell_type": "code",
   "execution_count": 79,
   "id": "e3902acd",
   "metadata": {},
   "outputs": [],
   "source": [
    "#fonction pour la creation du dataframe is a /have a\n",
    "def extract_IOTT(Filter):\n",
    "    dlist=[]\n",
    "    for p in range(1,7):\n",
    "        N=extract_process_inforamtion(p,Filter)[0]\n",
    "        for i in range(0,len(N)):\n",
    "            dis_dict = {'Noun1':N[i],'Is/Have':'is a','Noun2':processes[p-1]+\" \"+Filter}\n",
    "            dlist.append(dis_dict)\n",
    "    df_IOTT=pd.DataFrame(dlist)\n",
    "    return df_IOTT"
   ]
  },
  {
   "cell_type": "code",
   "execution_count": 80,
   "id": "6852b00f",
   "metadata": {},
   "outputs": [],
   "source": [
    "df_IOTT=extract_IOTT(\"inputs\").append(extract_IOTT(\"tools and techniques\")).append(extract_IOTT(\"outputs\"))"
   ]
  },
  {
   "cell_type": "code",
   "execution_count": 81,
   "id": "d9961cc1",
   "metadata": {},
   "outputs": [
    {
     "data": {
      "text/html": [
       "<div>\n",
       "<style scoped>\n",
       "    .dataframe tbody tr th:only-of-type {\n",
       "        vertical-align: middle;\n",
       "    }\n",
       "\n",
       "    .dataframe tbody tr th {\n",
       "        vertical-align: top;\n",
       "    }\n",
       "\n",
       "    .dataframe thead th {\n",
       "        text-align: right;\n",
       "    }\n",
       "</style>\n",
       "<table border=\"1\" class=\"dataframe\">\n",
       "  <thead>\n",
       "    <tr style=\"text-align: right;\">\n",
       "      <th></th>\n",
       "      <th>Noun1</th>\n",
       "      <th>Is/Have</th>\n",
       "      <th>Noun2</th>\n",
       "    </tr>\n",
       "  </thead>\n",
       "  <tbody>\n",
       "    <tr>\n",
       "      <th>0</th>\n",
       "      <td>Project Management Plan</td>\n",
       "      <td>is a</td>\n",
       "      <td>plan risk management inputs</td>\n",
       "    </tr>\n",
       "    <tr>\n",
       "      <th>1</th>\n",
       "      <td>Project Charter</td>\n",
       "      <td>is a</td>\n",
       "      <td>plan risk management inputs</td>\n",
       "    </tr>\n",
       "    <tr>\n",
       "      <th>2</th>\n",
       "      <td>Stakeholder Register</td>\n",
       "      <td>is a</td>\n",
       "      <td>plan risk management inputs</td>\n",
       "    </tr>\n",
       "    <tr>\n",
       "      <th>3</th>\n",
       "      <td>Enterprise Environmental Factors</td>\n",
       "      <td>is a</td>\n",
       "      <td>plan risk management inputs</td>\n",
       "    </tr>\n",
       "    <tr>\n",
       "      <th>4</th>\n",
       "      <td>Organizational Process Assets</td>\n",
       "      <td>is a</td>\n",
       "      <td>plan risk management inputs</td>\n",
       "    </tr>\n",
       "  </tbody>\n",
       "</table>\n",
       "</div>"
      ],
      "text/plain": [
       "                              Noun1 Is/Have                        Noun2\n",
       "0           Project Management Plan    is a  plan risk management inputs\n",
       "1                   Project Charter    is a  plan risk management inputs\n",
       "2              Stakeholder Register    is a  plan risk management inputs\n",
       "3  Enterprise Environmental Factors    is a  plan risk management inputs\n",
       "4     Organizational Process Assets    is a  plan risk management inputs"
      ]
     },
     "execution_count": 81,
     "metadata": {},
     "output_type": "execute_result"
    }
   ],
   "source": [
    "df_IOTT.head()"
   ]
  },
  {
   "cell_type": "code",
   "execution_count": 82,
   "id": "21eb4b8f",
   "metadata": {},
   "outputs": [],
   "source": [
    "df_title=df_title.append(df_IOTT)"
   ]
  },
  {
   "cell_type": "code",
   "execution_count": 83,
   "id": "5e36d485",
   "metadata": {},
   "outputs": [
    {
     "data": {
      "text/html": [
       "<div>\n",
       "<style scoped>\n",
       "    .dataframe tbody tr th:only-of-type {\n",
       "        vertical-align: middle;\n",
       "    }\n",
       "\n",
       "    .dataframe tbody tr th {\n",
       "        vertical-align: top;\n",
       "    }\n",
       "\n",
       "    .dataframe thead th {\n",
       "        text-align: right;\n",
       "    }\n",
       "</style>\n",
       "<table border=\"1\" class=\"dataframe\">\n",
       "  <thead>\n",
       "    <tr style=\"text-align: right;\">\n",
       "      <th></th>\n",
       "      <th>Noun1</th>\n",
       "      <th>Is/Have</th>\n",
       "      <th>Noun2</th>\n",
       "    </tr>\n",
       "  </thead>\n",
       "  <tbody>\n",
       "    <tr>\n",
       "      <th>0</th>\n",
       "      <td>plan risk management</td>\n",
       "      <td>is a</td>\n",
       "      <td>project risk management</td>\n",
       "    </tr>\n",
       "    <tr>\n",
       "      <th>1</th>\n",
       "      <td>identify risks</td>\n",
       "      <td>is a</td>\n",
       "      <td>project risk management</td>\n",
       "    </tr>\n",
       "    <tr>\n",
       "      <th>2</th>\n",
       "      <td>perform qualitative  risk analysis</td>\n",
       "      <td>is a</td>\n",
       "      <td>project risk management</td>\n",
       "    </tr>\n",
       "    <tr>\n",
       "      <th>3</th>\n",
       "      <td>perform quantitative  risk analysis</td>\n",
       "      <td>is a</td>\n",
       "      <td>project risk management</td>\n",
       "    </tr>\n",
       "    <tr>\n",
       "      <th>4</th>\n",
       "      <td>plan risk responses</td>\n",
       "      <td>is a</td>\n",
       "      <td>project risk management</td>\n",
       "    </tr>\n",
       "    <tr>\n",
       "      <th>...</th>\n",
       "      <td>...</td>\n",
       "      <td>...</td>\n",
       "      <td>...</td>\n",
       "    </tr>\n",
       "    <tr>\n",
       "      <th>6</th>\n",
       "      <td>Work Performance Information</td>\n",
       "      <td>is a</td>\n",
       "      <td>control risks outputs</td>\n",
       "    </tr>\n",
       "    <tr>\n",
       "      <th>7</th>\n",
       "      <td>Change Requests</td>\n",
       "      <td>is a</td>\n",
       "      <td>control risks outputs</td>\n",
       "    </tr>\n",
       "    <tr>\n",
       "      <th>8</th>\n",
       "      <td>Project Management Plan Updates</td>\n",
       "      <td>is a</td>\n",
       "      <td>control risks outputs</td>\n",
       "    </tr>\n",
       "    <tr>\n",
       "      <th>9</th>\n",
       "      <td>Project Documents Updates</td>\n",
       "      <td>is a</td>\n",
       "      <td>control risks outputs</td>\n",
       "    </tr>\n",
       "    <tr>\n",
       "      <th>10</th>\n",
       "      <td>Organizational Process Assets Updates</td>\n",
       "      <td>is a</td>\n",
       "      <td>control risks outputs</td>\n",
       "    </tr>\n",
       "  </tbody>\n",
       "</table>\n",
       "<p>81 rows × 3 columns</p>\n",
       "</div>"
      ],
      "text/plain": [
       "                                    Noun1 Is/Have                    Noun2\n",
       "0                    plan risk management    is a  project risk management\n",
       "1                          identify risks    is a  project risk management\n",
       "2      perform qualitative  risk analysis    is a  project risk management\n",
       "3     perform quantitative  risk analysis    is a  project risk management\n",
       "4                     plan risk responses    is a  project risk management\n",
       "..                                    ...     ...                      ...\n",
       "6            Work Performance Information    is a    control risks outputs\n",
       "7                         Change Requests    is a    control risks outputs\n",
       "8         Project Management Plan Updates    is a    control risks outputs\n",
       "9               Project Documents Updates    is a    control risks outputs\n",
       "10  Organizational Process Assets Updates    is a    control risks outputs\n",
       "\n",
       "[81 rows x 3 columns]"
      ]
     },
     "execution_count": 83,
     "metadata": {},
     "output_type": "execute_result"
    }
   ],
   "source": [
    "df_title"
   ]
  },
  {
   "cell_type": "code",
   "execution_count": 84,
   "id": "a9b3a2c8",
   "metadata": {},
   "outputs": [],
   "source": [
    "docPMBOK = nlp(\". \".join(df.sentence))"
   ]
  },
  {
   "cell_type": "code",
   "execution_count": 85,
   "id": "616f180e",
   "metadata": {},
   "outputs": [],
   "source": [
    "# Extraction des noms PMBOK\n",
    "AllNounsPMBOK=[]\n",
    "for tok in docPMBOK:\n",
    "    if tok.pos_==\"NOUN\":\n",
    "        AllNounsPMBOK.append(tok.text)"
   ]
  },
  {
   "cell_type": "code",
   "execution_count": 86,
   "id": "9148c495",
   "metadata": {},
   "outputs": [],
   "source": [
    "docPMI = nlp(\". \".join(df_pmi.sentence))"
   ]
  },
  {
   "cell_type": "code",
   "execution_count": 87,
   "id": "aa6c4a1d",
   "metadata": {},
   "outputs": [],
   "source": [
    "# Extraction des noms PMI\n",
    "AllNounsPMI=[]\n",
    "for tok in docPMI:\n",
    "    if tok.pos_==\"NOUN\":\n",
    "        AllNounsPMI.append(tok.text)"
   ]
  },
  {
   "cell_type": "code",
   "execution_count": 88,
   "id": "1a6b6772",
   "metadata": {},
   "outputs": [],
   "source": [
    "# fonction de recherche des synonymes\n",
    "def find_synonym_ontology(word):\n",
    "    synonyms = []\n",
    "    for syn in wordnet.synsets(word):\n",
    "        for lm in syn.lemmas():\n",
    "            synonyms.append(lm.name())\n",
    "    return list(set(synonyms))"
   ]
  },
  {
   "cell_type": "code",
   "execution_count": 89,
   "id": "aef246d7",
   "metadata": {
    "scrolled": true
   },
   "outputs": [
    {
     "name": "stdout",
     "output_type": "stream",
     "text": [
      "Synonyms of project :  ['plan', 'externalise', 'image', 'project', 'jut', 'fancy', 'visualise', 'cast', 'throw', 'jut_out', 'externalize', 'propose', 'see', 'projection', 'envision', 'labor', 'picture', 'design', 'protrude', 'contrive', 'send_off', 'undertaking', 'stick_out', 'figure', 'visualize', 'task']\n",
      "Synonyms of management:  ['management', 'direction']\n",
      "Synonyms of change:  ['risk_of_infection', 'risk', 'put_on_the_line', 'take_chances', 'adventure', 'take_a_chance', 'hazard', 'endangerment', 'chance', 'lay_on_the_line', 'run_a_risk', 'risk_of_exposure', 'gamble', 'peril', 'danger', 'jeopardy']\n"
     ]
    }
   ],
   "source": [
    "# Examples\n",
    "print(\"Synonyms of project : \", find_synonym_ontology(\"project\"))\n",
    "print(\"Synonyms of management: \", find_synonym_ontology(\"management\"))\n",
    "print(\"Synonyms of change: \", find_synonym_ontology(\"risk\"))"
   ]
  },
  {
   "cell_type": "code",
   "execution_count": 90,
   "id": "3d094db5",
   "metadata": {},
   "outputs": [],
   "source": [
    "# fonction de recherche des synonymes dans le PMBOK\n",
    "def synonymConceptOntoPMB(term):\n",
    "    if term not in AllNounsPMBOK :\n",
    "        return []\n",
    "    else :\n",
    "        syno_list=[]\n",
    "        temp_list=[]\n",
    "        syno_list = find_synonym_ontology(term)\n",
    "        if len(syno_list) != 0 :\n",
    "            for syno  in syno_list :\n",
    "                if syno in AllNounsPMBOK  and syno != term :\n",
    "                    temp_list.append(syno)\n",
    "                    \n",
    "        return temp_list"
   ]
  },
  {
   "cell_type": "markdown",
   "id": "f25677b5",
   "metadata": {},
   "source": [
    "### Find synonym in PBMOK"
   ]
  },
  {
   "cell_type": "code",
   "execution_count": 91,
   "id": "0a15e9c2",
   "metadata": {
    "scrolled": true
   },
   "outputs": [
    {
     "name": "stdout",
     "output_type": "stream",
     "text": [
      "Synonym of project in our ontology : ['plan', 'projection', 'design', 'figure']\n",
      "Synonym of risk in our ontology : ['jeopardy']\n",
      "Synonym of management in our ontology : []\n"
     ]
    }
   ],
   "source": [
    "print(\"Synonym of project in our ontology :\", synonymConceptOntoPMB('project'))\n",
    "print(\"Synonym of risk in our ontology :\", synonymConceptOntoPMB('risk'))\n",
    "print(\"Synonym of management in our ontology :\", synonymConceptOntoPMB('management'))"
   ]
  },
  {
   "cell_type": "code",
   "execution_count": 92,
   "id": "bd5d51a8",
   "metadata": {},
   "outputs": [],
   "source": [
    "# fonction de recherche des synonymes dans le PMI\n",
    "def synonymConceptintoPMI(term):\n",
    "    if term not in AllNounsPMBOK :\n",
    "        return [] \n",
    "    else :\n",
    "        syno_list=[]\n",
    "        temp_list=[]\n",
    "        syno_list = find_synonym_ontology(term)\n",
    "        if len(syno_list) != 0 :\n",
    "            for syno  in syno_list :\n",
    "                if syno in AllNounsPMI  and syno != term and (syno not in synonymConceptOntoPMB(term)) :\n",
    "                    temp_list.append(syno)                    \n",
    "        return temp_list"
   ]
  },
  {
   "cell_type": "markdown",
   "id": "434748df",
   "metadata": {},
   "source": [
    "### Find synonym in PMI"
   ]
  },
  {
   "cell_type": "code",
   "execution_count": 93,
   "id": "5344eede",
   "metadata": {
    "scrolled": true
   },
   "outputs": [
    {
     "name": "stdout",
     "output_type": "stream",
     "text": [
      "Synonym of project in PMI : ['image', 'propose', 'see', 'picture', 'undertaking', 'task']\n",
      "Synonym of project in our ontology : ['plan', 'projection', 'design', 'figure']\n"
     ]
    }
   ],
   "source": [
    "print(\"Synonym of project in PMI :\", synonymConceptintoPMI('project'))\n",
    "print(\"Synonym of project in our ontology :\", synonymConceptOntoPMB('project'))"
   ]
  },
  {
   "cell_type": "markdown",
   "id": "d9ebb144",
   "metadata": {},
   "source": [
    "### EXTRACTION DES RÉGLES"
   ]
  },
  {
   "cell_type": "code",
   "execution_count": 94,
   "id": "b9154a64",
   "metadata": {},
   "outputs": [],
   "source": [
    "#spacy matching\n",
    "def Y_X(doc):\n",
    "    m = []\n",
    "    #défintion des patternes\n",
    "    pattern = [{'DEP':'compound', 'OP':\"*\"},\n",
    "               {'POS':'NOUN'},\n",
    "               {'LOWER': 'such'},\n",
    "               {'LOWER': 'as'},\n",
    "               {'DEP':'compound', 'OP':\"*\"},\n",
    "               {'POS': 'NOUN'}\n",
    "              ]\n",
    "    pattern2 = [{'DEP':'compound', 'OP':\"*\"},\n",
    "               {'POS':'NOUN'},\n",
    "               {'LOWER': 'like'},\n",
    "               {'DEP':'compound', 'OP':\"*\"},\n",
    "               {'POS': 'NOUN'}\n",
    "              ]\n",
    "    pattern3 = [{'DEP':'compound', 'OP':\"*\"},\n",
    "               {'POS':'NOUN'},\n",
    "               {'LOWER': 'including'},\n",
    "               {'DEP':'compound', 'OP':\"*\"},\n",
    "               {'POS': 'NOUN'}\n",
    "              ]\n",
    "    matcher = Matcher(nlp.vocab)\n",
    "    matcher.add(\"matching_1\",[pattern,pattern2,pattern3],on_match=None)\n",
    "    matches = matcher(doc)\n",
    "    spans = [doc[start:end] for _, start, end in matches]\n",
    "    for span in spacy.util.filter_spans(spans):\n",
    "        m.append(re.split('( such as )',span.text))\n",
    "    df_m = pd.DataFrame(m,columns=['Y','Relation','X'])\n",
    "    return df_m"
   ]
  },
  {
   "cell_type": "markdown",
   "id": "eb9d0f37",
   "metadata": {},
   "source": [
    "### "
   ]
  },
  {
   "cell_type": "code",
   "execution_count": 95,
   "id": "3d5ac48e",
   "metadata": {},
   "outputs": [],
   "source": [
    "doc1 = nlp(\". \".join(df[df[\"nom_process\"]==\"PlanRiskManagement\"].sentence))\n",
    "doc2 = nlp(\". \".join(df[df[\"nom_process\"]==\"IdentifyRisks\"].sentence))\n",
    "doc3 = nlp(\". \".join(df[df[\"nom_process\"]==\"PerformQualitativeRiskAnalysis\"].sentence))\n",
    "doc4 = nlp(\". \".join(df[df[\"nom_process\"]==\"PerformQuantitativeRisk\"].sentence))\n",
    "doc5 = nlp(\". \".join(df[df[\"nom_process\"]==\"PlanRiskResponses\"].sentence))\n",
    "doc6 = nlp(\". \".join(df[df[\"nom_process\"]==\"ControlRisks\"].sentence))"
   ]
  },
  {
   "cell_type": "code",
   "execution_count": 96,
   "id": "1f201258",
   "metadata": {
    "scrolled": true
   },
   "outputs": [
    {
     "data": {
      "text/html": [
       "<div>\n",
       "<style scoped>\n",
       "    .dataframe tbody tr th:only-of-type {\n",
       "        vertical-align: middle;\n",
       "    }\n",
       "\n",
       "    .dataframe tbody tr th {\n",
       "        vertical-align: top;\n",
       "    }\n",
       "\n",
       "    .dataframe thead th {\n",
       "        text-align: right;\n",
       "    }\n",
       "</style>\n",
       "<table border=\"1\" class=\"dataframe\">\n",
       "  <thead>\n",
       "    <tr style=\"text-align: right;\">\n",
       "      <th></th>\n",
       "      <th>Y</th>\n",
       "      <th>Relation</th>\n",
       "      <th>X</th>\n",
       "    </tr>\n",
       "  </thead>\n",
       "  <tbody>\n",
       "    <tr>\n",
       "      <th>0</th>\n",
       "      <td>forum</td>\n",
       "      <td>such as</td>\n",
       "      <td>handbook</td>\n",
       "    </tr>\n",
       "    <tr>\n",
       "      <th>1</th>\n",
       "      <td>environment</td>\n",
       "      <td>such as</td>\n",
       "      <td>stakeholder scope time</td>\n",
       "    </tr>\n",
       "    <tr>\n",
       "      <th>2</th>\n",
       "      <td>efkn ciencies</td>\n",
       "      <td>such as</td>\n",
       "      <td>address</td>\n",
       "    </tr>\n",
       "    <tr>\n",
       "      <th>3</th>\n",
       "      <td>risk relate feature</td>\n",
       "      <td>such as</td>\n",
       "      <td>cause</td>\n",
       "    </tr>\n",
       "    <tr>\n",
       "      <th>4</th>\n",
       "      <td>technique</td>\n",
       "      <td>such as</td>\n",
       "      <td>estimate plan cost control task allocation</td>\n",
       "    </tr>\n",
       "  </tbody>\n",
       "</table>\n",
       "</div>"
      ],
      "text/plain": [
       "                     Y   Relation                                           X\n",
       "0                forum   such as                                     handbook\n",
       "1          environment   such as                       stakeholder scope time\n",
       "2        efkn ciencies   such as                                      address\n",
       "3  risk relate feature   such as                                        cause\n",
       "4            technique   such as   estimate plan cost control task allocation"
      ]
     },
     "execution_count": 96,
     "metadata": {},
     "output_type": "execute_result"
    }
   ],
   "source": [
    "Y_X(docPMI).head()"
   ]
  },
  {
   "cell_type": "code",
   "execution_count": 97,
   "id": "2822f4d9",
   "metadata": {},
   "outputs": [],
   "source": [
    "# fonction pour enrichir les régles \"spacy matching relation\" de PMI\n",
    "def Y_X_enrichementPMI(docPMI):\n",
    "    m=[]\n",
    "    for X,Y in itertools.zip_longest(Y_X(docPMI).X, Y_X(docPMI).Y):\n",
    "        if(len(synonymConceptOntoPMB(Y))+len(synonymConceptOntoPMB(X)) > 0):\n",
    "            s=spell(Y)+\" such as \"+spell(X)\n",
    "            m.append(re.split('( such as )',s))\n",
    "    df_m = pd.DataFrame(m,columns=['Y','Relation','X'])\n",
    "    return df_m    "
   ]
  },
  {
   "cell_type": "code",
   "execution_count": 98,
   "id": "98398649",
   "metadata": {
    "scrolled": true
   },
   "outputs": [],
   "source": [
    "df_Y_X=Y_X(docPMBOK).append(Y_X_enrichementPMI(docPMI)).drop_duplicates().reset_index(drop=True)"
   ]
  },
  {
   "cell_type": "code",
   "execution_count": 99,
   "id": "37416128",
   "metadata": {
    "scrolled": true
   },
   "outputs": [
    {
     "data": {
      "text/html": [
       "<div>\n",
       "<style scoped>\n",
       "    .dataframe tbody tr th:only-of-type {\n",
       "        vertical-align: middle;\n",
       "    }\n",
       "\n",
       "    .dataframe tbody tr th {\n",
       "        vertical-align: top;\n",
       "    }\n",
       "\n",
       "    .dataframe thead th {\n",
       "        text-align: right;\n",
       "    }\n",
       "</style>\n",
       "<table border=\"1\" class=\"dataframe\">\n",
       "  <thead>\n",
       "    <tr style=\"text-align: right;\">\n",
       "      <th></th>\n",
       "      <th>Y</th>\n",
       "      <th>Relation</th>\n",
       "      <th>X</th>\n",
       "    </tr>\n",
       "  </thead>\n",
       "  <tbody>\n",
       "    <tr>\n",
       "      <th>0</th>\n",
       "      <td>project objective</td>\n",
       "      <td>such as</td>\n",
       "      <td>scope schedule cost</td>\n",
       "    </tr>\n",
       "    <tr>\n",
       "      <th>1</th>\n",
       "      <td>technique</td>\n",
       "      <td>such as</td>\n",
       "      <td>use</td>\n",
       "    </tr>\n",
       "    <tr>\n",
       "      <th>2</th>\n",
       "      <td>term</td>\n",
       "      <td>such as</td>\n",
       "      <td>level</td>\n",
       "    </tr>\n",
       "    <tr>\n",
       "      <th>3</th>\n",
       "      <td>factor</td>\n",
       "      <td>such as</td>\n",
       "      <td>time frame</td>\n",
       "    </tr>\n",
       "    <tr>\n",
       "      <th>4</th>\n",
       "      <td>assessment</td>\n",
       "      <td>such as</td>\n",
       "      <td>conceptualise industry study</td>\n",
       "    </tr>\n",
       "  </tbody>\n",
       "</table>\n",
       "</div>"
      ],
      "text/plain": [
       "                   Y   Relation                             X\n",
       "0  project objective   such as            scope schedule cost\n",
       "1          technique   such as                            use\n",
       "2               term   such as                          level\n",
       "3             factor   such as                     time frame\n",
       "4         assessment   such as   conceptualise industry study"
      ]
     },
     "execution_count": 99,
     "metadata": {},
     "output_type": "execute_result"
    }
   ],
   "source": [
    "df_Y_X.head()"
   ]
  },
  {
   "cell_type": "code",
   "execution_count": 100,
   "id": "901ee453",
   "metadata": {},
   "outputs": [
    {
     "data": {
      "text/html": [
       "<div>\n",
       "<style scoped>\n",
       "    .dataframe tbody tr th:only-of-type {\n",
       "        vertical-align: middle;\n",
       "    }\n",
       "\n",
       "    .dataframe tbody tr th {\n",
       "        vertical-align: top;\n",
       "    }\n",
       "\n",
       "    .dataframe thead th {\n",
       "        text-align: right;\n",
       "    }\n",
       "</style>\n",
       "<table border=\"1\" class=\"dataframe\">\n",
       "  <thead>\n",
       "    <tr style=\"text-align: right;\">\n",
       "      <th></th>\n",
       "      <th>parent concept</th>\n",
       "      <th>conceptualise</th>\n",
       "      <th>concept</th>\n",
       "    </tr>\n",
       "  </thead>\n",
       "  <tbody>\n",
       "    <tr>\n",
       "      <th>0</th>\n",
       "      <td>plan risk management</td>\n",
       "      <td>conceptualise</td>\n",
       "      <td>plan risk management inputs</td>\n",
       "    </tr>\n",
       "    <tr>\n",
       "      <th>1</th>\n",
       "      <td>plan risk management</td>\n",
       "      <td>conceptualise</td>\n",
       "      <td>plan risk management tools and techniques</td>\n",
       "    </tr>\n",
       "    <tr>\n",
       "      <th>2</th>\n",
       "      <td>plan risk management</td>\n",
       "      <td>conceptualise</td>\n",
       "      <td>plan risk management outputs</td>\n",
       "    </tr>\n",
       "    <tr>\n",
       "      <th>3</th>\n",
       "      <td>identify risks</td>\n",
       "      <td>conceptualise</td>\n",
       "      <td>identify risks inputs</td>\n",
       "    </tr>\n",
       "    <tr>\n",
       "      <th>4</th>\n",
       "      <td>identify risks</td>\n",
       "      <td>conceptualise</td>\n",
       "      <td>identify risks tools and techniques</td>\n",
       "    </tr>\n",
       "  </tbody>\n",
       "</table>\n",
       "</div>"
      ],
      "text/plain": [
       "         parent concept  conceptualise  \\\n",
       "0  plan risk management  conceptualise   \n",
       "1  plan risk management  conceptualise   \n",
       "2  plan risk management  conceptualise   \n",
       "3        identify risks  conceptualise   \n",
       "4        identify risks  conceptualise   \n",
       "\n",
       "                                     concept  \n",
       "0                plan risk management inputs  \n",
       "1  plan risk management tools and techniques  \n",
       "2               plan risk management outputs  \n",
       "3                      identify risks inputs  \n",
       "4        identify risks tools and techniques  "
      ]
     },
     "execution_count": 100,
     "metadata": {},
     "output_type": "execute_result"
    }
   ],
   "source": [
    "df_Parent_Concept.head()"
   ]
  },
  {
   "cell_type": "code",
   "execution_count": 101,
   "id": "529f506d",
   "metadata": {},
   "outputs": [
    {
     "data": {
      "text/html": [
       "<div>\n",
       "<style scoped>\n",
       "    .dataframe tbody tr th:only-of-type {\n",
       "        vertical-align: middle;\n",
       "    }\n",
       "\n",
       "    .dataframe tbody tr th {\n",
       "        vertical-align: top;\n",
       "    }\n",
       "\n",
       "    .dataframe thead th {\n",
       "        text-align: right;\n",
       "    }\n",
       "</style>\n",
       "<table border=\"1\" class=\"dataframe\">\n",
       "  <thead>\n",
       "    <tr style=\"text-align: right;\">\n",
       "      <th></th>\n",
       "      <th>parent concept</th>\n",
       "      <th>conceptualise</th>\n",
       "      <th>concept</th>\n",
       "    </tr>\n",
       "  </thead>\n",
       "  <tbody>\n",
       "    <tr>\n",
       "      <th>0</th>\n",
       "      <td>plan risk management</td>\n",
       "      <td>conceptualise</td>\n",
       "      <td>plan risk management inputs</td>\n",
       "    </tr>\n",
       "    <tr>\n",
       "      <th>1</th>\n",
       "      <td>plan risk management</td>\n",
       "      <td>conceptualise</td>\n",
       "      <td>plan risk management tools and techniques</td>\n",
       "    </tr>\n",
       "    <tr>\n",
       "      <th>2</th>\n",
       "      <td>plan risk management</td>\n",
       "      <td>conceptualise</td>\n",
       "      <td>plan risk management outputs</td>\n",
       "    </tr>\n",
       "    <tr>\n",
       "      <th>3</th>\n",
       "      <td>identify risks</td>\n",
       "      <td>conceptualise</td>\n",
       "      <td>identify risks inputs</td>\n",
       "    </tr>\n",
       "    <tr>\n",
       "      <th>4</th>\n",
       "      <td>identify risks</td>\n",
       "      <td>conceptualise</td>\n",
       "      <td>identify risks tools and techniques</td>\n",
       "    </tr>\n",
       "    <tr>\n",
       "      <th>5</th>\n",
       "      <td>identify risks</td>\n",
       "      <td>conceptualise</td>\n",
       "      <td>identify risks outputs</td>\n",
       "    </tr>\n",
       "    <tr>\n",
       "      <th>6</th>\n",
       "      <td>perform qualitative  risk analysis</td>\n",
       "      <td>conceptualise</td>\n",
       "      <td>perform qualitative  risk analysis inputs</td>\n",
       "    </tr>\n",
       "    <tr>\n",
       "      <th>7</th>\n",
       "      <td>perform qualitative  risk analysis</td>\n",
       "      <td>conceptualise</td>\n",
       "      <td>perform qualitative  risk analysis tools and t...</td>\n",
       "    </tr>\n",
       "    <tr>\n",
       "      <th>8</th>\n",
       "      <td>perform qualitative  risk analysis</td>\n",
       "      <td>conceptualise</td>\n",
       "      <td>perform qualitative  risk analysis outputs</td>\n",
       "    </tr>\n",
       "    <tr>\n",
       "      <th>9</th>\n",
       "      <td>perform quantitative  risk analysis</td>\n",
       "      <td>conceptualise</td>\n",
       "      <td>perform quantitative  risk analysis inputs</td>\n",
       "    </tr>\n",
       "    <tr>\n",
       "      <th>10</th>\n",
       "      <td>perform quantitative  risk analysis</td>\n",
       "      <td>conceptualise</td>\n",
       "      <td>perform quantitative  risk analysis tools and ...</td>\n",
       "    </tr>\n",
       "    <tr>\n",
       "      <th>11</th>\n",
       "      <td>perform quantitative  risk analysis</td>\n",
       "      <td>conceptualise</td>\n",
       "      <td>perform quantitative  risk analysis outputs</td>\n",
       "    </tr>\n",
       "    <tr>\n",
       "      <th>12</th>\n",
       "      <td>plan risk responses</td>\n",
       "      <td>conceptualise</td>\n",
       "      <td>plan risk responses inputs</td>\n",
       "    </tr>\n",
       "    <tr>\n",
       "      <th>13</th>\n",
       "      <td>plan risk responses</td>\n",
       "      <td>conceptualise</td>\n",
       "      <td>plan risk responses tools and techniques</td>\n",
       "    </tr>\n",
       "    <tr>\n",
       "      <th>14</th>\n",
       "      <td>plan risk responses</td>\n",
       "      <td>conceptualise</td>\n",
       "      <td>plan risk responses outputs</td>\n",
       "    </tr>\n",
       "    <tr>\n",
       "      <th>15</th>\n",
       "      <td>control risks</td>\n",
       "      <td>conceptualise</td>\n",
       "      <td>control risks inputs</td>\n",
       "    </tr>\n",
       "    <tr>\n",
       "      <th>16</th>\n",
       "      <td>control risks</td>\n",
       "      <td>conceptualise</td>\n",
       "      <td>control risks tools and techniques</td>\n",
       "    </tr>\n",
       "    <tr>\n",
       "      <th>17</th>\n",
       "      <td>control risks</td>\n",
       "      <td>conceptualise</td>\n",
       "      <td>control risks outputs</td>\n",
       "    </tr>\n",
       "  </tbody>\n",
       "</table>\n",
       "</div>"
      ],
      "text/plain": [
       "                         parent concept  conceptualise  \\\n",
       "0                  plan risk management  conceptualise   \n",
       "1                  plan risk management  conceptualise   \n",
       "2                  plan risk management  conceptualise   \n",
       "3                        identify risks  conceptualise   \n",
       "4                        identify risks  conceptualise   \n",
       "5                        identify risks  conceptualise   \n",
       "6    perform qualitative  risk analysis  conceptualise   \n",
       "7    perform qualitative  risk analysis  conceptualise   \n",
       "8    perform qualitative  risk analysis  conceptualise   \n",
       "9   perform quantitative  risk analysis  conceptualise   \n",
       "10  perform quantitative  risk analysis  conceptualise   \n",
       "11  perform quantitative  risk analysis  conceptualise   \n",
       "12                  plan risk responses  conceptualise   \n",
       "13                  plan risk responses  conceptualise   \n",
       "14                  plan risk responses  conceptualise   \n",
       "15                        control risks  conceptualise   \n",
       "16                        control risks  conceptualise   \n",
       "17                        control risks  conceptualise   \n",
       "\n",
       "                                              concept  \n",
       "0                         plan risk management inputs  \n",
       "1           plan risk management tools and techniques  \n",
       "2                        plan risk management outputs  \n",
       "3                               identify risks inputs  \n",
       "4                 identify risks tools and techniques  \n",
       "5                              identify risks outputs  \n",
       "6           perform qualitative  risk analysis inputs  \n",
       "7   perform qualitative  risk analysis tools and t...  \n",
       "8          perform qualitative  risk analysis outputs  \n",
       "9          perform quantitative  risk analysis inputs  \n",
       "10  perform quantitative  risk analysis tools and ...  \n",
       "11        perform quantitative  risk analysis outputs  \n",
       "12                         plan risk responses inputs  \n",
       "13           plan risk responses tools and techniques  \n",
       "14                        plan risk responses outputs  \n",
       "15                               control risks inputs  \n",
       "16                 control risks tools and techniques  \n",
       "17                              control risks outputs  "
      ]
     },
     "execution_count": 101,
     "metadata": {},
     "output_type": "execute_result"
    }
   ],
   "source": [
    "df_Parent_Concept"
   ]
  },
  {
   "cell_type": "markdown",
   "id": "23143827",
   "metadata": {
    "id": "pgkXRyl6VvON"
   },
   "source": [
    "### Subject-Predicate-Object Rule with Compound Nouns"
   ]
  },
  {
   "cell_type": "code",
   "execution_count": 102,
   "id": "6c731fa4",
   "metadata": {
    "id": "s0ScPoZDVvON"
   },
   "outputs": [],
   "source": [
    "def rule2_mod(text,index):\n",
    "    doc = nlp(text)\n",
    "    phrase = ''\n",
    "    for token in doc:\n",
    "        if token.i == index:\n",
    "            for subtoken in token.children:\n",
    "                if (subtoken.dep_ == 'compound'):\n",
    "                    phrase += subtoken.text + ' '\n",
    "            break\n",
    "    return phrase"
   ]
  },
  {
   "cell_type": "code",
   "execution_count": 103,
   "id": "2ccf6aa5",
   "metadata": {
    "id": "WRSRsBS4VvOO"
   },
   "outputs": [],
   "source": [
    "def rule1_mod(text):\n",
    "    doc = nlp(text)\n",
    "    sent = []\n",
    "    for token in doc:\n",
    "        # root word\n",
    "        if (token.pos_=='VERB'):\n",
    "            #phrase =''\n",
    "            ph = []\n",
    "            # only extract noun or pronoun subjects\n",
    "            for sub_tok in token.lefts:\n",
    "                if (sub_tok.dep_ in ['nsubj','nsubjpass']) and (sub_tok.pos_ in ['NOUN','PROPN','PRON']):\n",
    "                    phrase =''\n",
    "                    # look for subject modifier\n",
    "                    adj = rule2_mod(text,sub_tok.i)\n",
    "                    phrase += adj + sub_tok.text\n",
    "                    ph.append(phrase)\n",
    "                    # save the root word of the word\n",
    "                    #phrase += ' '+token.text#.lemma_\n",
    "                    ph.append(token.text)\n",
    "                    # check for noun or pronoun direct objects\n",
    "                    for sub_tok in token.rights:\n",
    "                        if (sub_tok.dep_ in ['dobj','pobj']) and (sub_tok.pos_ in ['NOUN','PROPN','PRON']):\n",
    "                            phrase =''\n",
    "                            # look for object modifier\n",
    "                            adj = rule2_mod(text,sub_tok.i)\n",
    "                            phrase += adj+sub_tok.text\n",
    "                            ph.append(phrase)\n",
    "                            sent.append(ph)\n",
    "    return sent"
   ]
  },
  {
   "cell_type": "code",
   "execution_count": 104,
   "id": "dcd55593",
   "metadata": {
    "id": "MK3L7rcjVvOO"
   },
   "outputs": [],
   "source": [
    "def SubjectPredicateObje(df):\n",
    "    row_list = []\n",
    "    for i in range(len(df)):\n",
    "        sent = df.sentence.values[i]\n",
    "        output = rule1_mod(sent)\n",
    "        dict1 = {'Sentence':sent,'Output':output}\n",
    "        row_list.append(dict1)\n",
    "    \n",
    "    df_rule = pd.DataFrame(row_list)\n",
    "    df_show = pd.DataFrame(columns=df_rule.columns)\n",
    "\n",
    "    for row in range(len(df_rule)):\n",
    "        if len(df_rule.loc[row,'Output'])!=0:\n",
    "            df_show = df_show.append(df_rule.loc[row,:])\n",
    "\n",
    "    # reset the index\n",
    "    df_show.reset_index(inplace=True)\n",
    "    df_show.drop('index',axis=1,inplace=True)    \n",
    "\n",
    "    # separate subject, verb and object\n",
    "    verb_dict = dict()\n",
    "    dis_dict = dict()\n",
    "    dis_list = []\n",
    "\n",
    "    # iterating over all the sentences\n",
    "    for i in range(len(df_show)):\n",
    "        # sentence containing the output\n",
    "        sentence = df_show.loc[i,'Sentence']\n",
    "        # output of the sentence\n",
    "        output = df_show.loc[i,'Output']\n",
    "        # iterating over all the outputs from the sentence\n",
    "        for sent in output:\n",
    "            # separate subject, verb and object\n",
    "            #n1, v, n2 = sent.split()[:1], sent.split()[1], sent.split()[2:]\n",
    "            n1, v, n2 = sent[:1], sent[1], sent[2:]\n",
    "            # append to list, along with the sentence\n",
    "            dis_dict = {'Sentence':sentence,'Subject':n1,'Predicate':v,'Object':n2}\n",
    "            dis_list.append(dis_dict)\n",
    "            # counting the number of sentences containing the verb\n",
    "            #verb = sent.split()[1]\n",
    "            verb = sent[1]\n",
    "            if verb in verb_dict:\n",
    "                verb_dict[verb]+=1\n",
    "            else:\n",
    "                verb_dict[verb]=1\n",
    "\n",
    "    df_sep = pd.DataFrame(dis_list)\n",
    "    row_list = []\n",
    "    row_list2 = []\n",
    "\n",
    "    for i in range(len(df_sep)):\n",
    "        sent = df_sep.loc[i,'Subject']\n",
    "        s = \" \".join(sent)\n",
    "        row_list.append(s)\n",
    "        sent = df_sep.loc[i,'Object']\n",
    "        s = \" \".join(sent)\n",
    "        row_list2.append(s)\n",
    "    \n",
    "    df_sep['Subject'] = row_list\n",
    "    df_sep['Object'] = row_list2\n",
    "    \n",
    "    return df_sep"
   ]
  },
  {
   "cell_type": "code",
   "execution_count": 105,
   "id": "68764a9f",
   "metadata": {},
   "outputs": [],
   "source": [
    "df_sep_pmbok=SubjectPredicateObje(df)"
   ]
  },
  {
   "cell_type": "code",
   "execution_count": 106,
   "id": "593d87a6",
   "metadata": {},
   "outputs": [],
   "source": [
    "df_sep_pmi=SubjectPredicateObje(df_pmi)"
   ]
  },
  {
   "cell_type": "code",
   "execution_count": 107,
   "id": "42bcac66",
   "metadata": {},
   "outputs": [
    {
     "data": {
      "text/html": [
       "<div>\n",
       "<style scoped>\n",
       "    .dataframe tbody tr th:only-of-type {\n",
       "        vertical-align: middle;\n",
       "    }\n",
       "\n",
       "    .dataframe tbody tr th {\n",
       "        vertical-align: top;\n",
       "    }\n",
       "\n",
       "    .dataframe thead th {\n",
       "        text-align: right;\n",
       "    }\n",
       "</style>\n",
       "<table border=\"1\" class=\"dataframe\">\n",
       "  <thead>\n",
       "    <tr style=\"text-align: right;\">\n",
       "      <th></th>\n",
       "      <th>Sentence</th>\n",
       "      <th>Subject</th>\n",
       "      <th>Predicate</th>\n",
       "      <th>Object</th>\n",
       "    </tr>\n",
       "  </thead>\n",
       "  <tbody>\n",
       "    <tr>\n",
       "      <th>0</th>\n",
       "      <td>project risk management include process of con...</td>\n",
       "      <td>project risk management</td>\n",
       "      <td>include</td>\n",
       "      <td>process</td>\n",
       "    </tr>\n",
       "    <tr>\n",
       "      <th>1</th>\n",
       "      <td>identify risk process of determine which risk ...</td>\n",
       "      <td>risk</td>\n",
       "      <td>affect</td>\n",
       "      <td>project</td>\n",
       "    </tr>\n",
       "    <tr>\n",
       "      <th>2</th>\n",
       "      <td>a risk may have one or more cause and if it oc...</td>\n",
       "      <td>risk</td>\n",
       "      <td>have</td>\n",
       "      <td>cause</td>\n",
       "    </tr>\n",
       "    <tr>\n",
       "      <th>3</th>\n",
       "      <td>a risk may have one or more cause and if it oc...</td>\n",
       "      <td>it</td>\n",
       "      <td>have</td>\n",
       "      <td>impact</td>\n",
       "    </tr>\n",
       "    <tr>\n",
       "      <th>4</th>\n",
       "      <td>for example cause could include requirement of...</td>\n",
       "      <td>cause</td>\n",
       "      <td>include</td>\n",
       "      <td>requirement</td>\n",
       "    </tr>\n",
       "  </tbody>\n",
       "</table>\n",
       "</div>"
      ],
      "text/plain": [
       "                                            Sentence                  Subject  \\\n",
       "0  project risk management include process of con...  project risk management   \n",
       "1  identify risk process of determine which risk ...                     risk   \n",
       "2  a risk may have one or more cause and if it oc...                     risk   \n",
       "3  a risk may have one or more cause and if it oc...                       it   \n",
       "4  for example cause could include requirement of...                    cause   \n",
       "\n",
       "  Predicate       Object  \n",
       "0   include      process  \n",
       "1    affect      project  \n",
       "2      have        cause  \n",
       "3      have       impact  \n",
       "4   include  requirement  "
      ]
     },
     "execution_count": 107,
     "metadata": {},
     "output_type": "execute_result"
    }
   ],
   "source": [
    "df_sep_pmbok.head()"
   ]
  },
  {
   "cell_type": "code",
   "execution_count": 108,
   "id": "a0ad26c5",
   "metadata": {},
   "outputs": [
    {
     "data": {
      "text/html": [
       "<div>\n",
       "<style scoped>\n",
       "    .dataframe tbody tr th:only-of-type {\n",
       "        vertical-align: middle;\n",
       "    }\n",
       "\n",
       "    .dataframe tbody tr th {\n",
       "        vertical-align: top;\n",
       "    }\n",
       "\n",
       "    .dataframe thead th {\n",
       "        text-align: right;\n",
       "    }\n",
       "</style>\n",
       "<table border=\"1\" class=\"dataframe\">\n",
       "  <thead>\n",
       "    <tr style=\"text-align: right;\">\n",
       "      <th></th>\n",
       "      <th>Sentence</th>\n",
       "      <th>Subject</th>\n",
       "      <th>Predicate</th>\n",
       "      <th>Object</th>\n",
       "    </tr>\n",
       "  </thead>\n",
       "  <tbody>\n",
       "    <tr>\n",
       "      <th>0</th>\n",
       "      <td>phone conceptualise fax conceptualise e mail c...</td>\n",
       "      <td>fax conceptualise internet</td>\n",
       "      <td>conceptualise</td>\n",
       "      <td>wwwpmiorg inc reserve</td>\n",
       "    </tr>\n",
       "    <tr>\n",
       "      <th>1</th>\n",
       "      <td>phone conceptualise fax conceptualise e mail c...</td>\n",
       "      <td>fax conceptualise internet</td>\n",
       "      <td>conceptualise</td>\n",
       "      <td>wwwpmiorg inc reserve</td>\n",
       "    </tr>\n",
       "    <tr>\n",
       "      <th>2</th>\n",
       "      <td>ﬁpmiﬂ pmi logo ﬁpmpﬂ pmp logo ﬁpmbokﬂ ﬁpgmpﬂ ﬁ...</td>\n",
       "      <td>pmi logo</td>\n",
       "      <td>ﬁpmbokﬂ</td>\n",
       "      <td>ﬁpgmpﬂ ﬁproject management ﬁpmpﬂ pmp logo ﬁpmb...</td>\n",
       "    </tr>\n",
       "    <tr>\n",
       "      <th>3</th>\n",
       "      <td>ﬁpmiﬂ pmi logo ﬁpmpﬂ pmp logo ﬁpmbokﬂ ﬁpgmpﬂ ﬁ...</td>\n",
       "      <td>pmi logo</td>\n",
       "      <td>ﬁpmbokﬂ</td>\n",
       "      <td>ﬁpgmpﬂ ﬁproject management ﬁpmpﬂ pmp logo ﬁpmb...</td>\n",
       "    </tr>\n",
       "    <tr>\n",
       "      <th>4</th>\n",
       "      <td>this process bring volunteer andor seek out vi...</td>\n",
       "      <td>process</td>\n",
       "      <td>bring</td>\n",
       "      <td>volunteer andor</td>\n",
       "    </tr>\n",
       "  </tbody>\n",
       "</table>\n",
       "</div>"
      ],
      "text/plain": [
       "                                            Sentence  \\\n",
       "0  phone conceptualise fax conceptualise e mail c...   \n",
       "1  phone conceptualise fax conceptualise e mail c...   \n",
       "2  ﬁpmiﬂ pmi logo ﬁpmpﬂ pmp logo ﬁpmbokﬂ ﬁpgmpﬂ ﬁ...   \n",
       "3  ﬁpmiﬂ pmi logo ﬁpmpﬂ pmp logo ﬁpmbokﬂ ﬁpgmpﬂ ﬁ...   \n",
       "4  this process bring volunteer andor seek out vi...   \n",
       "\n",
       "                      Subject      Predicate  \\\n",
       "0  fax conceptualise internet  conceptualise   \n",
       "1  fax conceptualise internet  conceptualise   \n",
       "2                    pmi logo        ﬁpmbokﬂ   \n",
       "3                    pmi logo        ﬁpmbokﬂ   \n",
       "4                     process          bring   \n",
       "\n",
       "                                              Object  \n",
       "0                              wwwpmiorg inc reserve  \n",
       "1                              wwwpmiorg inc reserve  \n",
       "2  ﬁpgmpﬂ ﬁproject management ﬁpmpﬂ pmp logo ﬁpmb...  \n",
       "3  ﬁpgmpﬂ ﬁproject management ﬁpmpﬂ pmp logo ﬁpmb...  \n",
       "4                                    volunteer andor  "
      ]
     },
     "execution_count": 108,
     "metadata": {},
     "output_type": "execute_result"
    }
   ],
   "source": [
    "df_sep_pmi.head()"
   ]
  },
  {
   "cell_type": "code",
   "execution_count": 109,
   "id": "6ab41ea6",
   "metadata": {},
   "outputs": [
    {
     "data": {
      "text/plain": [
       "Index(['Sentence', 'Subject', 'Predicate', 'Object'], dtype='object')"
      ]
     },
     "execution_count": 109,
     "metadata": {},
     "output_type": "execute_result"
    }
   ],
   "source": [
    "df_sep_pmbok.columns"
   ]
  },
  {
   "cell_type": "code",
   "execution_count": 110,
   "id": "e0bb7ec8",
   "metadata": {},
   "outputs": [],
   "source": [
    "# fonction pour enrichir les régles \"Subject,Predicate,Object\" de PMI\n",
    "def SPO_enrichment(df):\n",
    "    m=[]\n",
    "    for Sentence,Subject,Object,Predicate in itertools.zip_longest(df.Sentence,df.Subject, df.Object,df.Predicate):\n",
    "        if(len(synonymConceptOntoPMB(Subject))+len(synonymConceptOntoPMB(Object)) > 0):\n",
    "                s=[]\n",
    "                s.append(Sentence)\n",
    "                s.append(spell(Subject))\n",
    "                s.append(spell(Predicate))\n",
    "                s.append(spell(Object))\n",
    "                m.append(s)\n",
    "                df_co = pd.DataFrame(m,columns=['Sentence','Subject','Predicate','Object'])\n",
    "\n",
    "    return df_co"
   ]
  },
  {
   "cell_type": "code",
   "execution_count": 111,
   "id": "9a3a7574",
   "metadata": {},
   "outputs": [],
   "source": [
    "df_spo=df_sep_pmbok.append(SPO_enrichment(df_sep_pmi)).drop_duplicates().reset_index(drop=True)"
   ]
  },
  {
   "cell_type": "code",
   "execution_count": 112,
   "id": "4b268f66",
   "metadata": {},
   "outputs": [
    {
     "data": {
      "text/plain": [
       "311"
      ]
     },
     "execution_count": 112,
     "metadata": {},
     "output_type": "execute_result"
    }
   ],
   "source": [
    "len(df_spo)"
   ]
  },
  {
   "cell_type": "code",
   "execution_count": 113,
   "id": "ea096d95",
   "metadata": {},
   "outputs": [
    {
     "data": {
      "text/html": [
       "<div>\n",
       "<style scoped>\n",
       "    .dataframe tbody tr th:only-of-type {\n",
       "        vertical-align: middle;\n",
       "    }\n",
       "\n",
       "    .dataframe tbody tr th {\n",
       "        vertical-align: top;\n",
       "    }\n",
       "\n",
       "    .dataframe thead th {\n",
       "        text-align: right;\n",
       "    }\n",
       "</style>\n",
       "<table border=\"1\" class=\"dataframe\">\n",
       "  <thead>\n",
       "    <tr style=\"text-align: right;\">\n",
       "      <th></th>\n",
       "      <th>Sentence</th>\n",
       "      <th>Subject</th>\n",
       "      <th>Predicate</th>\n",
       "      <th>Object</th>\n",
       "    </tr>\n",
       "  </thead>\n",
       "  <tbody>\n",
       "    <tr>\n",
       "      <th>0</th>\n",
       "      <td>project risk management include process of con...</td>\n",
       "      <td>project risk management</td>\n",
       "      <td>include</td>\n",
       "      <td>process</td>\n",
       "    </tr>\n",
       "    <tr>\n",
       "      <th>1</th>\n",
       "      <td>identify risk process of determine which risk ...</td>\n",
       "      <td>risk</td>\n",
       "      <td>affect</td>\n",
       "      <td>project</td>\n",
       "    </tr>\n",
       "    <tr>\n",
       "      <th>2</th>\n",
       "      <td>a risk may have one or more cause and if it oc...</td>\n",
       "      <td>risk</td>\n",
       "      <td>have</td>\n",
       "      <td>cause</td>\n",
       "    </tr>\n",
       "    <tr>\n",
       "      <th>3</th>\n",
       "      <td>a risk may have one or more cause and if it oc...</td>\n",
       "      <td>it</td>\n",
       "      <td>have</td>\n",
       "      <td>impact</td>\n",
       "    </tr>\n",
       "    <tr>\n",
       "      <th>4</th>\n",
       "      <td>for example cause could include requirement of...</td>\n",
       "      <td>cause</td>\n",
       "      <td>include</td>\n",
       "      <td>requirement</td>\n",
       "    </tr>\n",
       "    <tr>\n",
       "      <th>...</th>\n",
       "      <td>...</td>\n",
       "      <td>...</td>\n",
       "      <td>...</td>\n",
       "      <td>...</td>\n",
       "    </tr>\n",
       "    <tr>\n",
       "      <th>306</th>\n",
       "      <td>process of implement risk response plan track ...</td>\n",
       "      <td>process</td>\n",
       "      <td>monitor</td>\n",
       "      <td>risk ed risk monitor risk</td>\n",
       "    </tr>\n",
       "    <tr>\n",
       "      <th>307</th>\n",
       "      <td>a category may include subcategories such as t...</td>\n",
       "      <td>category</td>\n",
       "      <td>include</td>\n",
       "      <td>subcategories</td>\n",
       "    </tr>\n",
       "    <tr>\n",
       "      <th>308</th>\n",
       "      <td>a measure of overall project risk describe ove...</td>\n",
       "      <td>measure</td>\n",
       "      <td>describe</td>\n",
       "      <td>effect</td>\n",
       "    </tr>\n",
       "    <tr>\n",
       "      <th>309</th>\n",
       "      <td>a representation of project include data about...</td>\n",
       "      <td>representation</td>\n",
       "      <td>include</td>\n",
       "      <td>data</td>\n",
       "    </tr>\n",
       "    <tr>\n",
       "      <th>310</th>\n",
       "      <td>risk register detail all identiþ ed risk inclu...</td>\n",
       "      <td>risk</td>\n",
       "      <td>register</td>\n",
       "      <td>detail ed risk</td>\n",
       "    </tr>\n",
       "  </tbody>\n",
       "</table>\n",
       "<p>311 rows × 4 columns</p>\n",
       "</div>"
      ],
      "text/plain": [
       "                                              Sentence  \\\n",
       "0    project risk management include process of con...   \n",
       "1    identify risk process of determine which risk ...   \n",
       "2    a risk may have one or more cause and if it oc...   \n",
       "3    a risk may have one or more cause and if it oc...   \n",
       "4    for example cause could include requirement of...   \n",
       "..                                                 ...   \n",
       "306  process of implement risk response plan track ...   \n",
       "307  a category may include subcategories such as t...   \n",
       "308  a measure of overall project risk describe ove...   \n",
       "309  a representation of project include data about...   \n",
       "310  risk register detail all identiþ ed risk inclu...   \n",
       "\n",
       "                     Subject Predicate                     Object  \n",
       "0    project risk management   include                    process  \n",
       "1                       risk    affect                    project  \n",
       "2                       risk      have                      cause  \n",
       "3                         it      have                     impact  \n",
       "4                      cause   include                requirement  \n",
       "..                       ...       ...                        ...  \n",
       "306                  process   monitor  risk ed risk monitor risk  \n",
       "307                 category   include              subcategories  \n",
       "308                  measure  describe                     effect  \n",
       "309           representation   include                       data  \n",
       "310                     risk  register             detail ed risk  \n",
       "\n",
       "[311 rows x 4 columns]"
      ]
     },
     "execution_count": 113,
     "metadata": {},
     "output_type": "execute_result"
    }
   ],
   "source": [
    "df_spo"
   ]
  },
  {
   "cell_type": "markdown",
   "id": "f5b1a446",
   "metadata": {
    "id": "sk3u2_7KVvOU"
   },
   "source": [
    "### \"Is A/ Have A\" Rule"
   ]
  },
  {
   "cell_type": "code",
   "execution_count": 114,
   "id": "e6c814ab",
   "metadata": {
    "id": "XQSuy_6oVvOU"
   },
   "outputs": [],
   "source": [
    "def rule4(text):\n",
    "    doc = nlp(text)\n",
    "    sent = []\n",
    "    for token in doc:\n",
    "        # if the token is a verb\n",
    "        if (token.text in ['have','be','may','cloud','can','should','will']):\n",
    "            ph =[]\n",
    "            # only extract noun or pronoun subjects\n",
    "            for sub_tok in token.lefts:\n",
    "                if (sub_tok.pos_ in ['NOUN','PROPN','PRON']):\n",
    "                    phrase =''\n",
    "                    # add subject to the phrase\n",
    "                    adj = rule2_mod(text,sub_tok.i)\n",
    "                    phrase += adj + sub_tok.text\n",
    "                    ph.append(phrase)\n",
    "                    # save the root of the verb in phrase\n",
    "                    #phrase += ' '+token.text#.lemma_\n",
    "                    ph.append(token.text)\n",
    "                    # check for noun or pronoun direct objects\n",
    "                    for sub_tok in token.rights:\n",
    "                        # save the object in the phrase\n",
    "                        if (sub_tok.pos_ in ['NOUN','PROPN','PRON']):\n",
    "                            phrase =''\n",
    "                            adj = rule2_mod(text,sub_tok.i)\n",
    "                            phrase += adj+sub_tok.text\n",
    "                            ph.append(phrase)\n",
    "                            sent.append(ph)\n",
    "            \n",
    "    return sent"
   ]
  },
  {
   "cell_type": "code",
   "execution_count": 115,
   "id": "449dc76c",
   "metadata": {},
   "outputs": [],
   "source": [
    "def RuleIsaHavea(df):\n",
    "    row_list = []\n",
    "    for i in range(len(df)):\n",
    "        sent = df.sentence.values[i]\n",
    "        output = rule4(sent)\n",
    "        dict1 = {'Sentence':sent,'Output':output}\n",
    "        row_list.append(dict1)\n",
    "    df_rule4_all = pd.DataFrame(row_list)\n",
    "    df_show4 = pd.DataFrame(columns=df_rule4_all.columns)\n",
    "    for row in range(len(df_rule4_all)):\n",
    "        if len(df_rule4_all.loc[row,'Output'])!=0:\n",
    "            df_show4 = df_show4.append(df_rule4_all.loc[row,:])\n",
    "    # reset the index\n",
    "    df_show4.reset_index(inplace=True)\n",
    "    df_show4.drop('index',axis=1,inplace=True)\n",
    "    prep_dict = dict()\n",
    "    dis_dict = dict()\n",
    "    dis_list = []\n",
    "    # iterating over all the sentences\n",
    "    for i in range(len(df_show4)):\n",
    "        # sentence containing the output\n",
    "        sentence = df_show4.loc[i,'Sentence']\n",
    "        # output of the sentence\n",
    "        output = df_show4.loc[i,'Output']\n",
    "        # iterating over all the outputs from the sentence\n",
    "        for sent in output:\n",
    "            # separate subject, verb and object\n",
    "            n1, p, n2 = sent[:1], sent[1], sent[2:]\n",
    "            # append to list, along with the sentence\n",
    "            dis_dict = {'Sentence':sentence,'Noun1':n1,'Is/Have':p,'Noun2':n2}\n",
    "            dis_list.append(dis_dict)\n",
    "            # counting the number of sentences containing the verb\n",
    "            prep = sent[1]\n",
    "            if prep in prep_dict:\n",
    "                prep_dict[prep]+=1\n",
    "            else:\n",
    "                prep_dict[prep]=1\n",
    "    df_sep4= pd.DataFrame(dis_list)\n",
    "    df_sep4['Is/Have'] = df_sep4['Is/Have'].replace('have','has a')\n",
    "    df_sep4['Is/Have'] = df_sep4['Is/Have'].replace('be','is a')\n",
    "    row_list = []\n",
    "    row_list2 = []\n",
    "\n",
    "    for i in range(len(df_sep4)):\n",
    "        sent = df_sep4.loc[i,'Noun1']\n",
    "        s = \" \".join(sent)\n",
    "        row_list.append(s)\n",
    "        sent = df_sep4.loc[i,'Noun2']\n",
    "        s = \" \".join(sent)\n",
    "        row_list2.append(s)\n",
    "\n",
    "    df_sep4['Noun1'] = row_list\n",
    "    df_sep4['Noun2'] = row_list2\n",
    "    return df_sep4\n",
    "    "
   ]
  },
  {
   "cell_type": "code",
   "execution_count": 116,
   "id": "009de9ae",
   "metadata": {
    "scrolled": true
   },
   "outputs": [],
   "source": [
    "df_pmi_IsaHavea=RuleIsaHavea(df_pmi)\n",
    "df_pmbok_IsaHavea=RuleIsaHavea(df)"
   ]
  },
  {
   "cell_type": "code",
   "execution_count": 117,
   "id": "4cf8f082",
   "metadata": {},
   "outputs": [
    {
     "data": {
      "text/html": [
       "<div>\n",
       "<style scoped>\n",
       "    .dataframe tbody tr th:only-of-type {\n",
       "        vertical-align: middle;\n",
       "    }\n",
       "\n",
       "    .dataframe tbody tr th {\n",
       "        vertical-align: top;\n",
       "    }\n",
       "\n",
       "    .dataframe thead th {\n",
       "        text-align: right;\n",
       "    }\n",
       "</style>\n",
       "<table border=\"1\" class=\"dataframe\">\n",
       "  <thead>\n",
       "    <tr style=\"text-align: right;\">\n",
       "      <th></th>\n",
       "      <th>Sentence</th>\n",
       "      <th>Noun1</th>\n",
       "      <th>Is/Have</th>\n",
       "      <th>Noun2</th>\n",
       "    </tr>\n",
       "  </thead>\n",
       "  <tbody>\n",
       "    <tr>\n",
       "      <th>0</th>\n",
       "      <td>ﬁpmiﬂ pmi logo ﬁpmpﬂ pmp logo ﬁpmbokﬂ ﬁpgmpﬂ ﬁ...</td>\n",
       "      <td>logo</td>\n",
       "      <td>is a</td>\n",
       "      <td>register</td>\n",
       "    </tr>\n",
       "    <tr>\n",
       "      <th>1</th>\n",
       "      <td>quarter globe design be a trademark of inc for...</td>\n",
       "      <td>globe design</td>\n",
       "      <td>is a</td>\n",
       "      <td>trademark</td>\n",
       "    </tr>\n",
       "    <tr>\n",
       "      <th>2</th>\n",
       "      <td>this process bring volunteer andor seek out vi...</td>\n",
       "      <td>who</td>\n",
       "      <td>has a</td>\n",
       "      <td>interest</td>\n",
       "    </tr>\n",
       "    <tr>\n",
       "      <th>3</th>\n",
       "      <td>pmi have no power nor do it undertake to polic...</td>\n",
       "      <td>pmi</td>\n",
       "      <td>has a</td>\n",
       "      <td>power</td>\n",
       "    </tr>\n",
       "    <tr>\n",
       "      <th>4</th>\n",
       "      <td>schematic representation of monitor and contro...</td>\n",
       "      <td>representation</td>\n",
       "      <td>is a</td>\n",
       "      <td>guide practice standard be guide</td>\n",
       "    </tr>\n",
       "  </tbody>\n",
       "</table>\n",
       "</div>"
      ],
      "text/plain": [
       "                                            Sentence           Noun1 Is/Have  \\\n",
       "0  ﬁpmiﬂ pmi logo ﬁpmpﬂ pmp logo ﬁpmbokﬂ ﬁpgmpﬂ ﬁ...            logo    is a   \n",
       "1  quarter globe design be a trademark of inc for...    globe design    is a   \n",
       "2  this process bring volunteer andor seek out vi...             who   has a   \n",
       "3  pmi have no power nor do it undertake to polic...             pmi   has a   \n",
       "4  schematic representation of monitor and contro...  representation    is a   \n",
       "\n",
       "                              Noun2  \n",
       "0                          register  \n",
       "1                         trademark  \n",
       "2                          interest  \n",
       "3                             power  \n",
       "4  guide practice standard be guide  "
      ]
     },
     "execution_count": 117,
     "metadata": {},
     "output_type": "execute_result"
    }
   ],
   "source": [
    "df_pmi_IsaHavea.head()"
   ]
  },
  {
   "cell_type": "code",
   "execution_count": 118,
   "id": "a36ddafa",
   "metadata": {
    "scrolled": true
   },
   "outputs": [
    {
     "data": {
      "text/html": [
       "<div>\n",
       "<style scoped>\n",
       "    .dataframe tbody tr th:only-of-type {\n",
       "        vertical-align: middle;\n",
       "    }\n",
       "\n",
       "    .dataframe tbody tr th {\n",
       "        vertical-align: top;\n",
       "    }\n",
       "\n",
       "    .dataframe thead th {\n",
       "        text-align: right;\n",
       "    }\n",
       "</style>\n",
       "<table border=\"1\" class=\"dataframe\">\n",
       "  <thead>\n",
       "    <tr style=\"text-align: right;\">\n",
       "      <th></th>\n",
       "      <th>Sentence</th>\n",
       "      <th>Noun1</th>\n",
       "      <th>Is/Have</th>\n",
       "      <th>Noun2</th>\n",
       "    </tr>\n",
       "  </thead>\n",
       "  <tbody>\n",
       "    <tr>\n",
       "      <th>0</th>\n",
       "      <td>project risk be an uncertain event or conditio...</td>\n",
       "      <td>project risk</td>\n",
       "      <td>is a</td>\n",
       "      <td>event</td>\n",
       "    </tr>\n",
       "    <tr>\n",
       "      <th>1</th>\n",
       "      <td>a risk may have one or more cause and if it oc...</td>\n",
       "      <td>risk</td>\n",
       "      <td>has a</td>\n",
       "      <td>cause</td>\n",
       "    </tr>\n",
       "    <tr>\n",
       "      <th>2</th>\n",
       "      <td>a risk may have one or more cause and if it oc...</td>\n",
       "      <td>it</td>\n",
       "      <td>has a</td>\n",
       "      <td>impact</td>\n",
       "    </tr>\n",
       "    <tr>\n",
       "      <th>3</th>\n",
       "      <td>a cause may be a give or potential requirement...</td>\n",
       "      <td>cause</td>\n",
       "      <td>is a</td>\n",
       "      <td>requirement assumption constraint</td>\n",
       "    </tr>\n",
       "    <tr>\n",
       "      <th>4</th>\n",
       "      <td>risk threshold which refers to measure along l...</td>\n",
       "      <td>stakeholder</td>\n",
       "      <td>has a</td>\n",
       "      <td>interest</td>\n",
       "    </tr>\n",
       "  </tbody>\n",
       "</table>\n",
       "</div>"
      ],
      "text/plain": [
       "                                            Sentence         Noun1 Is/Have  \\\n",
       "0  project risk be an uncertain event or conditio...  project risk    is a   \n",
       "1  a risk may have one or more cause and if it oc...          risk   has a   \n",
       "2  a risk may have one or more cause and if it oc...            it   has a   \n",
       "3  a cause may be a give or potential requirement...         cause    is a   \n",
       "4  risk threshold which refers to measure along l...   stakeholder   has a   \n",
       "\n",
       "                               Noun2  \n",
       "0                              event  \n",
       "1                              cause  \n",
       "2                             impact  \n",
       "3  requirement assumption constraint  \n",
       "4                           interest  "
      ]
     },
     "execution_count": 118,
     "metadata": {},
     "output_type": "execute_result"
    }
   ],
   "source": [
    "df_pmbok_IsaHavea.head()"
   ]
  },
  {
   "cell_type": "code",
   "execution_count": 119,
   "id": "15a4611f",
   "metadata": {},
   "outputs": [],
   "source": [
    "# enrichir les régles \"is/have a\" de PMI\n",
    "def IsaHaveaPmiEnrichment(df):\n",
    "    m=[]\n",
    "    for Sentence,Noun1,relation,Noun2 in itertools.zip_longest(df.Sentence,df.Noun1, df[\"Is/Have\"],df.Noun2):\n",
    "        if(len(synonymConceptOntoPMB(Noun1))+len(synonymConceptOntoPMB(Noun2)) > 0):\n",
    "                s=[]\n",
    "                s.append(Sentence)\n",
    "                s.append(spell(Noun1))\n",
    "                s.append(spell(relation))\n",
    "                s.append(spell(Noun2))\n",
    "                m.append(s)\n",
    "                df_sep = pd.DataFrame(m,columns=['Sentence','Noun1','Is/Have','Noun2'])\n",
    "\n",
    "    return df_sep"
   ]
  },
  {
   "cell_type": "code",
   "execution_count": 120,
   "id": "a8aee73e",
   "metadata": {},
   "outputs": [],
   "source": [
    "df_IsaHavea=df_pmbok_IsaHavea.append(IsaHaveaPmiEnrichment(df_pmi_IsaHavea)).drop_duplicates().reset_index(drop=True)"
   ]
  },
  {
   "cell_type": "code",
   "execution_count": 121,
   "id": "f5053d85",
   "metadata": {},
   "outputs": [
    {
     "data": {
      "text/html": [
       "<div>\n",
       "<style scoped>\n",
       "    .dataframe tbody tr th:only-of-type {\n",
       "        vertical-align: middle;\n",
       "    }\n",
       "\n",
       "    .dataframe tbody tr th {\n",
       "        vertical-align: top;\n",
       "    }\n",
       "\n",
       "    .dataframe thead th {\n",
       "        text-align: right;\n",
       "    }\n",
       "</style>\n",
       "<table border=\"1\" class=\"dataframe\">\n",
       "  <thead>\n",
       "    <tr style=\"text-align: right;\">\n",
       "      <th></th>\n",
       "      <th>Sentence</th>\n",
       "      <th>Noun1</th>\n",
       "      <th>Is/Have</th>\n",
       "      <th>Noun2</th>\n",
       "    </tr>\n",
       "  </thead>\n",
       "  <tbody>\n",
       "    <tr>\n",
       "      <th>0</th>\n",
       "      <td>project risk be an uncertain event or conditio...</td>\n",
       "      <td>project risk</td>\n",
       "      <td>is a</td>\n",
       "      <td>event</td>\n",
       "    </tr>\n",
       "    <tr>\n",
       "      <th>1</th>\n",
       "      <td>a risk may have one or more cause and if it oc...</td>\n",
       "      <td>risk</td>\n",
       "      <td>has a</td>\n",
       "      <td>cause</td>\n",
       "    </tr>\n",
       "    <tr>\n",
       "      <th>2</th>\n",
       "      <td>a risk may have one or more cause and if it oc...</td>\n",
       "      <td>it</td>\n",
       "      <td>has a</td>\n",
       "      <td>impact</td>\n",
       "    </tr>\n",
       "    <tr>\n",
       "      <th>3</th>\n",
       "      <td>a cause may be a give or potential requirement...</td>\n",
       "      <td>cause</td>\n",
       "      <td>is a</td>\n",
       "      <td>requirement assumption constraint</td>\n",
       "    </tr>\n",
       "    <tr>\n",
       "      <th>4</th>\n",
       "      <td>risk threshold which refers to measure along l...</td>\n",
       "      <td>stakeholder</td>\n",
       "      <td>has a</td>\n",
       "      <td>interest</td>\n",
       "    </tr>\n",
       "    <tr>\n",
       "      <th>...</th>\n",
       "      <td>...</td>\n",
       "      <td>...</td>\n",
       "      <td>...</td>\n",
       "      <td>...</td>\n",
       "    </tr>\n",
       "    <tr>\n",
       "      <th>233</th>\n",
       "      <td>what be status of action</td>\n",
       "      <td>what</td>\n",
       "      <td>is a</td>\n",
       "      <td>status</td>\n",
       "    </tr>\n",
       "    <tr>\n",
       "      <th>234</th>\n",
       "      <td>d variance analysis formula in earned value an...</td>\n",
       "      <td>analysis formula</td>\n",
       "      <td>is a</td>\n",
       "      <td>use</td>\n",
       "    </tr>\n",
       "    <tr>\n",
       "      <th>235</th>\n",
       "      <td>assumption be factor that for planning purpose...</td>\n",
       "      <td>assumption</td>\n",
       "      <td>is a</td>\n",
       "      <td>factor</td>\n",
       "    </tr>\n",
       "    <tr>\n",
       "      <th>236</th>\n",
       "      <td>risk breakdown structure be tailor to speciþ c...</td>\n",
       "      <td>breakdown structure</td>\n",
       "      <td>is a</td>\n",
       "      <td>tailor</td>\n",
       "    </tr>\n",
       "    <tr>\n",
       "      <th>237</th>\n",
       "      <td>risk management plan can be informal and frame...</td>\n",
       "      <td>management plan</td>\n",
       "      <td>is a</td>\n",
       "      <td>base</td>\n",
       "    </tr>\n",
       "  </tbody>\n",
       "</table>\n",
       "<p>238 rows × 4 columns</p>\n",
       "</div>"
      ],
      "text/plain": [
       "                                              Sentence                Noun1  \\\n",
       "0    project risk be an uncertain event or conditio...         project risk   \n",
       "1    a risk may have one or more cause and if it oc...                 risk   \n",
       "2    a risk may have one or more cause and if it oc...                   it   \n",
       "3    a cause may be a give or potential requirement...                cause   \n",
       "4    risk threshold which refers to measure along l...          stakeholder   \n",
       "..                                                 ...                  ...   \n",
       "233                           what be status of action                 what   \n",
       "234  d variance analysis formula in earned value an...     analysis formula   \n",
       "235  assumption be factor that for planning purpose...           assumption   \n",
       "236  risk breakdown structure be tailor to speciþ c...  breakdown structure   \n",
       "237  risk management plan can be informal and frame...      management plan   \n",
       "\n",
       "    Is/Have                              Noun2  \n",
       "0      is a                              event  \n",
       "1     has a                              cause  \n",
       "2     has a                             impact  \n",
       "3      is a  requirement assumption constraint  \n",
       "4     has a                           interest  \n",
       "..      ...                                ...  \n",
       "233    is a                             status  \n",
       "234    is a                                use  \n",
       "235    is a                             factor  \n",
       "236    is a                             tailor  \n",
       "237    is a                               base  \n",
       "\n",
       "[238 rows x 4 columns]"
      ]
     },
     "execution_count": 121,
     "metadata": {},
     "output_type": "execute_result"
    }
   ],
   "source": [
    "df_IsaHavea"
   ]
  },
  {
   "cell_type": "code",
   "execution_count": 122,
   "id": "6a663f94",
   "metadata": {},
   "outputs": [
    {
     "data": {
      "text/html": [
       "<div>\n",
       "<style scoped>\n",
       "    .dataframe tbody tr th:only-of-type {\n",
       "        vertical-align: middle;\n",
       "    }\n",
       "\n",
       "    .dataframe tbody tr th {\n",
       "        vertical-align: top;\n",
       "    }\n",
       "\n",
       "    .dataframe thead th {\n",
       "        text-align: right;\n",
       "    }\n",
       "</style>\n",
       "<table border=\"1\" class=\"dataframe\">\n",
       "  <thead>\n",
       "    <tr style=\"text-align: right;\">\n",
       "      <th></th>\n",
       "      <th>Y</th>\n",
       "      <th>Relation</th>\n",
       "      <th>X</th>\n",
       "    </tr>\n",
       "  </thead>\n",
       "  <tbody>\n",
       "    <tr>\n",
       "      <th>0</th>\n",
       "      <td>project objective</td>\n",
       "      <td>such as</td>\n",
       "      <td>scope schedule cost</td>\n",
       "    </tr>\n",
       "    <tr>\n",
       "      <th>1</th>\n",
       "      <td>technique</td>\n",
       "      <td>such as</td>\n",
       "      <td>use</td>\n",
       "    </tr>\n",
       "    <tr>\n",
       "      <th>2</th>\n",
       "      <td>term</td>\n",
       "      <td>such as</td>\n",
       "      <td>level</td>\n",
       "    </tr>\n",
       "    <tr>\n",
       "      <th>3</th>\n",
       "      <td>factor</td>\n",
       "      <td>such as</td>\n",
       "      <td>time frame</td>\n",
       "    </tr>\n",
       "    <tr>\n",
       "      <th>4</th>\n",
       "      <td>assessment</td>\n",
       "      <td>such as</td>\n",
       "      <td>conceptualise industry study</td>\n",
       "    </tr>\n",
       "  </tbody>\n",
       "</table>\n",
       "</div>"
      ],
      "text/plain": [
       "                   Y   Relation                             X\n",
       "0  project objective   such as            scope schedule cost\n",
       "1          technique   such as                            use\n",
       "2               term   such as                          level\n",
       "3             factor   such as                     time frame\n",
       "4         assessment   such as   conceptualise industry study"
      ]
     },
     "execution_count": 122,
     "metadata": {},
     "output_type": "execute_result"
    }
   ],
   "source": [
    "df_Y_X.head()"
   ]
  },
  {
   "cell_type": "code",
   "execution_count": 123,
   "id": "3d30a39d",
   "metadata": {},
   "outputs": [
    {
     "data": {
      "text/html": [
       "<div>\n",
       "<style scoped>\n",
       "    .dataframe tbody tr th:only-of-type {\n",
       "        vertical-align: middle;\n",
       "    }\n",
       "\n",
       "    .dataframe tbody tr th {\n",
       "        vertical-align: top;\n",
       "    }\n",
       "\n",
       "    .dataframe thead th {\n",
       "        text-align: right;\n",
       "    }\n",
       "</style>\n",
       "<table border=\"1\" class=\"dataframe\">\n",
       "  <thead>\n",
       "    <tr style=\"text-align: right;\">\n",
       "      <th></th>\n",
       "      <th>parent concept</th>\n",
       "      <th>conceptualise</th>\n",
       "      <th>concept</th>\n",
       "    </tr>\n",
       "  </thead>\n",
       "  <tbody>\n",
       "    <tr>\n",
       "      <th>0</th>\n",
       "      <td>plan risk management</td>\n",
       "      <td>conceptualise</td>\n",
       "      <td>plan risk management inputs</td>\n",
       "    </tr>\n",
       "    <tr>\n",
       "      <th>1</th>\n",
       "      <td>plan risk management</td>\n",
       "      <td>conceptualise</td>\n",
       "      <td>plan risk management tools and techniques</td>\n",
       "    </tr>\n",
       "    <tr>\n",
       "      <th>2</th>\n",
       "      <td>plan risk management</td>\n",
       "      <td>conceptualise</td>\n",
       "      <td>plan risk management outputs</td>\n",
       "    </tr>\n",
       "    <tr>\n",
       "      <th>3</th>\n",
       "      <td>identify risks</td>\n",
       "      <td>conceptualise</td>\n",
       "      <td>identify risks inputs</td>\n",
       "    </tr>\n",
       "    <tr>\n",
       "      <th>4</th>\n",
       "      <td>identify risks</td>\n",
       "      <td>conceptualise</td>\n",
       "      <td>identify risks tools and techniques</td>\n",
       "    </tr>\n",
       "  </tbody>\n",
       "</table>\n",
       "</div>"
      ],
      "text/plain": [
       "         parent concept  conceptualise  \\\n",
       "0  plan risk management  conceptualise   \n",
       "1  plan risk management  conceptualise   \n",
       "2  plan risk management  conceptualise   \n",
       "3        identify risks  conceptualise   \n",
       "4        identify risks  conceptualise   \n",
       "\n",
       "                                     concept  \n",
       "0                plan risk management inputs  \n",
       "1  plan risk management tools and techniques  \n",
       "2               plan risk management outputs  \n",
       "3                      identify risks inputs  \n",
       "4        identify risks tools and techniques  "
      ]
     },
     "execution_count": 123,
     "metadata": {},
     "output_type": "execute_result"
    }
   ],
   "source": [
    "df_Parent_Concept.head()"
   ]
  },
  {
   "cell_type": "code",
   "execution_count": 124,
   "id": "0c3614c2",
   "metadata": {},
   "outputs": [
    {
     "data": {
      "text/html": [
       "<div>\n",
       "<style scoped>\n",
       "    .dataframe tbody tr th:only-of-type {\n",
       "        vertical-align: middle;\n",
       "    }\n",
       "\n",
       "    .dataframe tbody tr th {\n",
       "        vertical-align: top;\n",
       "    }\n",
       "\n",
       "    .dataframe thead th {\n",
       "        text-align: right;\n",
       "    }\n",
       "</style>\n",
       "<table border=\"1\" class=\"dataframe\">\n",
       "  <thead>\n",
       "    <tr style=\"text-align: right;\">\n",
       "      <th></th>\n",
       "      <th>Sentence</th>\n",
       "      <th>Noun1</th>\n",
       "      <th>Is/Have</th>\n",
       "      <th>Noun2</th>\n",
       "    </tr>\n",
       "  </thead>\n",
       "  <tbody>\n",
       "    <tr>\n",
       "      <th>0</th>\n",
       "      <td>project risk be an uncertain event or conditio...</td>\n",
       "      <td>project risk</td>\n",
       "      <td>is a</td>\n",
       "      <td>event</td>\n",
       "    </tr>\n",
       "    <tr>\n",
       "      <th>1</th>\n",
       "      <td>a risk may have one or more cause and if it oc...</td>\n",
       "      <td>risk</td>\n",
       "      <td>has a</td>\n",
       "      <td>cause</td>\n",
       "    </tr>\n",
       "    <tr>\n",
       "      <th>2</th>\n",
       "      <td>a risk may have one or more cause and if it oc...</td>\n",
       "      <td>it</td>\n",
       "      <td>has a</td>\n",
       "      <td>impact</td>\n",
       "    </tr>\n",
       "    <tr>\n",
       "      <th>3</th>\n",
       "      <td>a cause may be a give or potential requirement...</td>\n",
       "      <td>cause</td>\n",
       "      <td>is a</td>\n",
       "      <td>requirement assumption constraint</td>\n",
       "    </tr>\n",
       "    <tr>\n",
       "      <th>4</th>\n",
       "      <td>risk threshold which refers to measure along l...</td>\n",
       "      <td>stakeholder</td>\n",
       "      <td>has a</td>\n",
       "      <td>interest</td>\n",
       "    </tr>\n",
       "  </tbody>\n",
       "</table>\n",
       "</div>"
      ],
      "text/plain": [
       "                                            Sentence         Noun1 Is/Have  \\\n",
       "0  project risk be an uncertain event or conditio...  project risk    is a   \n",
       "1  a risk may have one or more cause and if it oc...          risk   has a   \n",
       "2  a risk may have one or more cause and if it oc...            it   has a   \n",
       "3  a cause may be a give or potential requirement...         cause    is a   \n",
       "4  risk threshold which refers to measure along l...   stakeholder   has a   \n",
       "\n",
       "                               Noun2  \n",
       "0                              event  \n",
       "1                              cause  \n",
       "2                             impact  \n",
       "3  requirement assumption constraint  \n",
       "4                           interest  "
      ]
     },
     "execution_count": 124,
     "metadata": {},
     "output_type": "execute_result"
    }
   ],
   "source": [
    "df_IsaHavea.head()"
   ]
  },
  {
   "cell_type": "code",
   "execution_count": 125,
   "id": "fc6b946b",
   "metadata": {
    "scrolled": true
   },
   "outputs": [
    {
     "data": {
      "text/html": [
       "<div>\n",
       "<style scoped>\n",
       "    .dataframe tbody tr th:only-of-type {\n",
       "        vertical-align: middle;\n",
       "    }\n",
       "\n",
       "    .dataframe tbody tr th {\n",
       "        vertical-align: top;\n",
       "    }\n",
       "\n",
       "    .dataframe thead th {\n",
       "        text-align: right;\n",
       "    }\n",
       "</style>\n",
       "<table border=\"1\" class=\"dataframe\">\n",
       "  <thead>\n",
       "    <tr style=\"text-align: right;\">\n",
       "      <th></th>\n",
       "      <th>Sentence</th>\n",
       "      <th>Subject</th>\n",
       "      <th>Predicate</th>\n",
       "      <th>Object</th>\n",
       "    </tr>\n",
       "  </thead>\n",
       "  <tbody>\n",
       "    <tr>\n",
       "      <th>0</th>\n",
       "      <td>project risk management include process of con...</td>\n",
       "      <td>project risk management</td>\n",
       "      <td>include</td>\n",
       "      <td>process</td>\n",
       "    </tr>\n",
       "    <tr>\n",
       "      <th>1</th>\n",
       "      <td>identify risk process of determine which risk ...</td>\n",
       "      <td>risk</td>\n",
       "      <td>affect</td>\n",
       "      <td>project</td>\n",
       "    </tr>\n",
       "    <tr>\n",
       "      <th>2</th>\n",
       "      <td>a risk may have one or more cause and if it oc...</td>\n",
       "      <td>risk</td>\n",
       "      <td>have</td>\n",
       "      <td>cause</td>\n",
       "    </tr>\n",
       "    <tr>\n",
       "      <th>3</th>\n",
       "      <td>a risk may have one or more cause and if it oc...</td>\n",
       "      <td>it</td>\n",
       "      <td>have</td>\n",
       "      <td>impact</td>\n",
       "    </tr>\n",
       "    <tr>\n",
       "      <th>4</th>\n",
       "      <td>for example cause could include requirement of...</td>\n",
       "      <td>cause</td>\n",
       "      <td>include</td>\n",
       "      <td>requirement</td>\n",
       "    </tr>\n",
       "  </tbody>\n",
       "</table>\n",
       "</div>"
      ],
      "text/plain": [
       "                                            Sentence                  Subject  \\\n",
       "0  project risk management include process of con...  project risk management   \n",
       "1  identify risk process of determine which risk ...                     risk   \n",
       "2  a risk may have one or more cause and if it oc...                     risk   \n",
       "3  a risk may have one or more cause and if it oc...                       it   \n",
       "4  for example cause could include requirement of...                    cause   \n",
       "\n",
       "  Predicate       Object  \n",
       "0   include      process  \n",
       "1    affect      project  \n",
       "2      have        cause  \n",
       "3      have       impact  \n",
       "4   include  requirement  "
      ]
     },
     "execution_count": 125,
     "metadata": {},
     "output_type": "execute_result"
    }
   ],
   "source": [
    "df_spo.head()"
   ]
  },
  {
   "cell_type": "markdown",
   "id": "0057e7d5",
   "metadata": {
    "id": "JlZcILlEVvOW"
   },
   "source": [
    "### Remove outliners"
   ]
  },
  {
   "cell_type": "code",
   "execution_count": 126,
   "id": "a8825831",
   "metadata": {},
   "outputs": [
    {
     "name": "stderr",
     "output_type": "stream",
     "text": [
      "UserWarning: Boolean Series key will be reindexed to match DataFrame index. [ipykernel_launcher.py:1]\n",
      "UserWarning: Boolean Series key will be reindexed to match DataFrame index. [ipykernel_launcher.py:2]\n",
      "UserWarning: Boolean Series key will be reindexed to match DataFrame index. [ipykernel_launcher.py:4]\n",
      "UserWarning: Boolean Series key will be reindexed to match DataFrame index. [ipykernel_launcher.py:5]\n",
      "UserWarning: Boolean Series key will be reindexed to match DataFrame index. [ipykernel_launcher.py:7]\n",
      "UserWarning: Boolean Series key will be reindexed to match DataFrame index. [ipykernel_launcher.py:8]\n"
     ]
    }
   ],
   "source": [
    "df_IsaHavea = df_IsaHavea[df_IsaHavea['Noun1'].str.len() < 25 ][~df_IsaHavea['Noun1'].isin(['it','there','they']) ].drop_duplicates().reset_index(drop = True)\n",
    "df_IsaHavea = df_IsaHavea[df_IsaHavea['Noun2'].str.len() < 25 ][~df_IsaHavea['Noun2'].isin(['it','there','they']) ].drop_duplicates().reset_index(drop = True)\n",
    "\n",
    "df_spo = df_spo[df_spo['Subject'].str.len() < 25][~df_spo['Subject'].isin(['it','there','they'])].drop_duplicates().reset_index(drop = True)\n",
    "df_spo = df_spo[df_spo['Object'].str.len() < 25][~df_spo['Object'].isin(['it','there','they'])].drop_duplicates().reset_index(drop = True)\n",
    "\n",
    "df_Y_X = df_Y_X[df_Y_X['X'].str.len() < 25][~df_Y_X['X'].isin(['it','there','they'])].drop_duplicates().reset_index(drop = True)\n",
    "df_Y_X = df_Y_X[df_Y_X['Y'].str.len() < 25][~df_Y_X['Y'].isin(['it','there','they'])].drop_duplicates().reset_index(drop = True)\n",
    "\n"
   ]
  },
  {
   "cell_type": "code",
   "execution_count": 127,
   "id": "46500368",
   "metadata": {},
   "outputs": [
    {
     "name": "stderr",
     "output_type": "stream",
     "text": [
      "FutureWarning: Sorting because non-concatenation axis is not aligned. A future version\n",
      "of pandas will change to not sort by default.\n",
      "\n",
      "To accept the future behavior, pass 'sort=False'.\n",
      "\n",
      "To retain the current behavior and silence the warning, pass 'sort=True'.\n",
      " [frame.py:7138]\n"
     ]
    }
   ],
   "source": [
    "df_IsaHavea = df_IsaHavea.append(df_title).drop_duplicates().reset_index(drop = True)"
   ]
  },
  {
   "cell_type": "code",
   "execution_count": 128,
   "id": "7370cd70",
   "metadata": {},
   "outputs": [],
   "source": [
    "df_IsaHavea=df_IsaHavea.fillna(\"\")\n",
    "df_IsaHavea=df_IsaHavea[[\"Sentence\",\"Noun1\",\"Is/Have\",\"Noun2\"]]"
   ]
  },
  {
   "cell_type": "code",
   "execution_count": 129,
   "id": "bf5d0328",
   "metadata": {},
   "outputs": [],
   "source": [
    "df_IsaHavea[\"Noun1\"]=df_IsaHavea[\"Noun1\"].apply(lambda s : s.lower())\n",
    "df_IsaHavea[\"Noun2\"]=df_IsaHavea[\"Noun2\"].apply(lambda s : s.lower())"
   ]
  },
  {
   "cell_type": "code",
   "execution_count": 130,
   "id": "88300f40",
   "metadata": {
    "scrolled": true
   },
   "outputs": [
    {
     "data": {
      "text/html": [
       "<div>\n",
       "<style scoped>\n",
       "    .dataframe tbody tr th:only-of-type {\n",
       "        vertical-align: middle;\n",
       "    }\n",
       "\n",
       "    .dataframe tbody tr th {\n",
       "        vertical-align: top;\n",
       "    }\n",
       "\n",
       "    .dataframe thead th {\n",
       "        text-align: right;\n",
       "    }\n",
       "</style>\n",
       "<table border=\"1\" class=\"dataframe\">\n",
       "  <thead>\n",
       "    <tr style=\"text-align: right;\">\n",
       "      <th></th>\n",
       "      <th>Sentence</th>\n",
       "      <th>Noun1</th>\n",
       "      <th>Is/Have</th>\n",
       "      <th>Noun2</th>\n",
       "    </tr>\n",
       "  </thead>\n",
       "  <tbody>\n",
       "    <tr>\n",
       "      <th>0</th>\n",
       "      <td>project risk be an uncertain event or conditio...</td>\n",
       "      <td>project risk</td>\n",
       "      <td>is a</td>\n",
       "      <td>event</td>\n",
       "    </tr>\n",
       "    <tr>\n",
       "      <th>1</th>\n",
       "      <td>a risk may have one or more cause and if it oc...</td>\n",
       "      <td>risk</td>\n",
       "      <td>has a</td>\n",
       "      <td>cause</td>\n",
       "    </tr>\n",
       "    <tr>\n",
       "      <th>2</th>\n",
       "      <td>risk threshold which refers to measure along l...</td>\n",
       "      <td>stakeholder</td>\n",
       "      <td>has a</td>\n",
       "      <td>interest</td>\n",
       "    </tr>\n",
       "    <tr>\n",
       "      <th>3</th>\n",
       "      <td>risk management plan be vital to communicate w...</td>\n",
       "      <td>management process</td>\n",
       "      <td>is a</td>\n",
       "      <td>support</td>\n",
       "    </tr>\n",
       "    <tr>\n",
       "      <th>4</th>\n",
       "      <td>input tool and technique and output of this pr...</td>\n",
       "      <td>input tool</td>\n",
       "      <td>is a</td>\n",
       "      <td>depict</td>\n",
       "    </tr>\n",
       "    <tr>\n",
       "      <th>...</th>\n",
       "      <td>...</td>\n",
       "      <td>...</td>\n",
       "      <td>...</td>\n",
       "      <td>...</td>\n",
       "    </tr>\n",
       "    <tr>\n",
       "      <th>278</th>\n",
       "      <td></td>\n",
       "      <td>work performance information</td>\n",
       "      <td>is a</td>\n",
       "      <td>control risks outputs</td>\n",
       "    </tr>\n",
       "    <tr>\n",
       "      <th>279</th>\n",
       "      <td></td>\n",
       "      <td>change requests</td>\n",
       "      <td>is a</td>\n",
       "      <td>control risks outputs</td>\n",
       "    </tr>\n",
       "    <tr>\n",
       "      <th>280</th>\n",
       "      <td></td>\n",
       "      <td>project management plan updates</td>\n",
       "      <td>is a</td>\n",
       "      <td>control risks outputs</td>\n",
       "    </tr>\n",
       "    <tr>\n",
       "      <th>281</th>\n",
       "      <td></td>\n",
       "      <td>project documents updates</td>\n",
       "      <td>is a</td>\n",
       "      <td>control risks outputs</td>\n",
       "    </tr>\n",
       "    <tr>\n",
       "      <th>282</th>\n",
       "      <td></td>\n",
       "      <td>organizational process assets updates</td>\n",
       "      <td>is a</td>\n",
       "      <td>control risks outputs</td>\n",
       "    </tr>\n",
       "  </tbody>\n",
       "</table>\n",
       "<p>283 rows × 4 columns</p>\n",
       "</div>"
      ],
      "text/plain": [
       "                                              Sentence  \\\n",
       "0    project risk be an uncertain event or conditio...   \n",
       "1    a risk may have one or more cause and if it oc...   \n",
       "2    risk threshold which refers to measure along l...   \n",
       "3    risk management plan be vital to communicate w...   \n",
       "4    input tool and technique and output of this pr...   \n",
       "..                                                 ...   \n",
       "278                                                      \n",
       "279                                                      \n",
       "280                                                      \n",
       "281                                                      \n",
       "282                                                      \n",
       "\n",
       "                                     Noun1 Is/Have                  Noun2  \n",
       "0                             project risk    is a                  event  \n",
       "1                                     risk   has a                  cause  \n",
       "2                              stakeholder   has a               interest  \n",
       "3                       management process    is a                support  \n",
       "4                               input tool    is a                 depict  \n",
       "..                                     ...     ...                    ...  \n",
       "278           work performance information    is a  control risks outputs  \n",
       "279                        change requests    is a  control risks outputs  \n",
       "280        project management plan updates    is a  control risks outputs  \n",
       "281              project documents updates    is a  control risks outputs  \n",
       "282  organizational process assets updates    is a  control risks outputs  \n",
       "\n",
       "[283 rows x 4 columns]"
      ]
     },
     "execution_count": 130,
     "metadata": {},
     "output_type": "execute_result"
    }
   ],
   "source": [
    "df_IsaHavea"
   ]
  },
  {
   "cell_type": "markdown",
   "id": "15bb6254",
   "metadata": {},
   "source": [
    "### Chunking with NLTK"
   ]
  },
  {
   "cell_type": "code",
   "execution_count": 131,
   "id": "aff147d0",
   "metadata": {},
   "outputs": [],
   "source": [
    "tokens=[]\n",
    "for i in range(0,len(df)):\n",
    "    tokens=tokens+df.tokens.values[i]"
   ]
  },
  {
   "cell_type": "code",
   "execution_count": 132,
   "id": "fb718b31",
   "metadata": {},
   "outputs": [],
   "source": [
    "tags=nltk.pos_tag(tokens)"
   ]
  },
  {
   "cell_type": "code",
   "execution_count": 133,
   "id": "46bc007c",
   "metadata": {
    "scrolled": true
   },
   "outputs": [],
   "source": [
    "import nltk\n",
    "#\"NP:{<DT>?<JJ>*<NN>}\"\n",
    "grammar=\"Chunk:{<NN.?><VB.?><JJ>*<NN.?>}\"\n",
    "chunkParser = nltk.RegexpParser(grammar)\n",
    "chunked = chunkParser.parse(tags)\n"
   ]
  },
  {
   "cell_type": "code",
   "execution_count": 134,
   "id": "8ad1245c",
   "metadata": {
    "scrolled": false
   },
   "outputs": [
    {
     "data": {
      "text/plain": [
       "[Tree('Chunk', [('management', 'NN'), ('include', 'VBP'), ('process', 'NN')]),\n",
       " Tree('Chunk', [('plan', 'NN'), ('risk', 'VBP'), ('management', 'NN')]),\n",
       " Tree('Chunk', [('plan', 'NN'), ('risk', 'VBP'), ('responses', 'NNS')]),\n",
       " Tree('Chunk', [('risk', 'NN'), ('identify', 'VBP'), ('new', 'JJ'), ('risk', 'NN')]),\n",
       " Tree('Chunk', [('project', 'NN'), ('know', 'VBP'), ('risk', 'NN')]),\n",
       " Tree('Chunk', [('risk', 'NN'), ('know', 'VBP'), ('risk', 'NN')]),\n",
       " Tree('Chunk', [('risk', 'NN'), ('represent', 'VBP'), ('effect', 'NN')]),\n",
       " Tree('Chunk', [('negativeorganizations', 'NNS'), ('perceive', 'VBP'), ('risk', 'NN')]),\n",
       " Tree('Chunk', [('risk', 'NN'), ('threshold', 'VBD'), ('organization', 'NN')]),\n",
       " Tree('Chunk', [('risk', 'NN'), ('threshold', 'VBD'), ('organization', 'NN')])]"
      ]
     },
     "execution_count": 134,
     "metadata": {},
     "output_type": "execute_result"
    }
   ],
   "source": [
    "[ i for i in chunked  if type(i)==type(chunked[2])][:10]"
   ]
  },
  {
   "cell_type": "markdown",
   "id": "4cc04ae6",
   "metadata": {},
   "source": [
    "### English Stop words"
   ]
  },
  {
   "cell_type": "code",
   "execution_count": 135,
   "id": "2628c541",
   "metadata": {},
   "outputs": [],
   "source": [
    "stop_words = set(stopwords.words(\"english\"))\n",
    "#print(stop_words)"
   ]
  },
  {
   "cell_type": "code",
   "execution_count": 136,
   "id": "d0f54581",
   "metadata": {},
   "outputs": [],
   "source": [
    "def removeStopWords(tokens):\n",
    "    return [token for token in tokens if token  not in stop_words]"
   ]
  },
  {
   "cell_type": "code",
   "execution_count": 137,
   "id": "57d77005",
   "metadata": {},
   "outputs": [],
   "source": [
    "#Suppression des STOP WORDS\n",
    "df[\"tokens\"]=df[\"tokens\"].apply(lambda s : removeStopWords(s))"
   ]
  },
  {
   "cell_type": "markdown",
   "id": "18c4bf13",
   "metadata": {
    "id": "UIGBhoQzVvOX"
   },
   "source": [
    "## Retrieval Proceess Evaluation"
   ]
  },
  {
   "cell_type": "markdown",
   "id": "70ff68a8",
   "metadata": {
    "id": "Ls6xz91QVvOY"
   },
   "source": [
    "### TFIDF Measure"
   ]
  },
  {
   "cell_type": "code",
   "execution_count": 138,
   "id": "5d305ae9",
   "metadata": {
    "id": "K-dAYA2BVvOY",
    "outputId": "d43307e2-ff15-48db-cda8-49d2946d71e7"
   },
   "outputs": [
    {
     "name": "stdout",
     "output_type": "stream",
     "text": [
      "Dictionary(1228 unique tokens: ['analysis', 'conduct', 'control', 'identification', 'include']...)\n"
     ]
    }
   ],
   "source": [
    "processed_docs = df.tokens\n",
    "dct = Dictionary(processed_docs)\n",
    "print(dct)"
   ]
  },
  {
   "cell_type": "code",
   "execution_count": 139,
   "id": "569ebdc6",
   "metadata": {
    "id": "Q7ELeKb2VvOY",
    "outputId": "f2b46abe-78b1-4b95-e9b0-f50de98c49f3",
    "scrolled": true
   },
   "outputs": [
    {
     "data": {
      "text/html": [
       "<div>\n",
       "<style scoped>\n",
       "    .dataframe tbody tr th:only-of-type {\n",
       "        vertical-align: middle;\n",
       "    }\n",
       "\n",
       "    .dataframe tbody tr th {\n",
       "        vertical-align: top;\n",
       "    }\n",
       "\n",
       "    .dataframe thead th {\n",
       "        text-align: right;\n",
       "    }\n",
       "</style>\n",
       "<table border=\"1\" class=\"dataframe\">\n",
       "  <thead>\n",
       "    <tr style=\"text-align: right;\">\n",
       "      <th></th>\n",
       "      <th>Frequency</th>\n",
       "    </tr>\n",
       "  </thead>\n",
       "  <tbody>\n",
       "    <tr>\n",
       "      <th>analysis</th>\n",
       "      <td>1</td>\n",
       "    </tr>\n",
       "    <tr>\n",
       "      <th>conduct</th>\n",
       "      <td>1</td>\n",
       "    </tr>\n",
       "    <tr>\n",
       "      <th>control</th>\n",
       "      <td>1</td>\n",
       "    </tr>\n",
       "    <tr>\n",
       "      <th>identification</th>\n",
       "      <td>1</td>\n",
       "    </tr>\n",
       "    <tr>\n",
       "      <th>include</th>\n",
       "      <td>1</td>\n",
       "    </tr>\n",
       "    <tr>\n",
       "      <th>management</th>\n",
       "      <td>2</td>\n",
       "    </tr>\n",
       "    <tr>\n",
       "      <th>plan</th>\n",
       "      <td>1</td>\n",
       "    </tr>\n",
       "    <tr>\n",
       "      <th>planning</th>\n",
       "      <td>1</td>\n",
       "    </tr>\n",
       "    <tr>\n",
       "      <th>process</th>\n",
       "      <td>1</td>\n",
       "    </tr>\n",
       "    <tr>\n",
       "      <th>project</th>\n",
       "      <td>2</td>\n",
       "    </tr>\n",
       "    <tr>\n",
       "      <th>response</th>\n",
       "      <td>1</td>\n",
       "    </tr>\n",
       "    <tr>\n",
       "      <th>risk</th>\n",
       "      <td>3</td>\n",
       "    </tr>\n",
       "  </tbody>\n",
       "</table>\n",
       "</div>"
      ],
      "text/plain": [
       "                Frequency\n",
       "analysis                1\n",
       "conduct                 1\n",
       "control                 1\n",
       "identification          1\n",
       "include                 1\n",
       "management              2\n",
       "plan                    1\n",
       "planning                1\n",
       "process                 1\n",
       "project                 2\n",
       "response                1\n",
       "risk                    3"
      ]
     },
     "execution_count": 139,
     "metadata": {},
     "output_type": "execute_result"
    }
   ],
   "source": [
    "bow_corpus = [dct.doc2bow(doc) for doc in processed_docs]\n",
    "df_corpus = pd.DataFrame(np.array(bow_corpus[0])[:,1], index = np.unique(df.tokens.values[0]), columns=['Frequency'])\n",
    "df_corpus"
   ]
  },
  {
   "cell_type": "code",
   "execution_count": 140,
   "id": "e9742eae",
   "metadata": {},
   "outputs": [
    {
     "name": "stdout",
     "output_type": "stream",
     "text": [
      "Word 0 (\"analysis\") appears 1 time.\n",
      "Word 1 (\"conduct\") appears 1 time.\n",
      "Word 2 (\"control\") appears 1 time.\n",
      "Word 3 (\"identification\") appears 1 time.\n",
      "Word 4 (\"include\") appears 1 time.\n",
      "Word 5 (\"management\") appears 2 time.\n",
      "Word 6 (\"plan\") appears 1 time.\n",
      "Word 7 (\"planning\") appears 1 time.\n",
      "Word 8 (\"process\") appears 1 time.\n",
      "Word 9 (\"project\") appears 2 time.\n",
      "Word 10 (\"response\") appears 1 time.\n"
     ]
    }
   ],
   "source": [
    "bow_doc_0 = bow_corpus[0]\n",
    "for i in range(11):\n",
    "    print(\"Word {} (\\\"{}\\\") appears {} time.\".format(bow_doc_0[i][0], \n",
    "                                               dct[bow_doc_0[i][0]], \n",
    "bow_doc_0[i][1]))"
   ]
  },
  {
   "cell_type": "code",
   "execution_count": 141,
   "id": "a48002ea",
   "metadata": {},
   "outputs": [
    {
     "data": {
      "image/png": "[encoded data removed]",
      "text/plain": [
       "<Figure size 720x864 with 1 Axes>"
      ]
     },
     "metadata": {
      "needs_background": "light"
     },
     "output_type": "display_data"
    }
   ],
   "source": [
    "from wordcloud import WordCloud, STOPWORDS\n",
    "import imageio\n",
    "import matplotlib.pyplot as plt\n",
    "import nltk\n",
    "\n",
    "\n",
    "# Get 100 words based on the \n",
    "words_except_stop_dist = nltk.FreqDist(w for w in tokens[:100]) \n",
    "wordcloud = WordCloud(stopwords=set(STOPWORDS),background_color='black').generate(\" \".join(words_except_stop_dist))\n",
    "plt.imshow(wordcloud,interpolation = 'bilinear')\n",
    "fig=plt.gcf()\n",
    "fig.set_size_inches(10,12)\n",
    "plt.axis('off')\n",
    "plt.title(\"Top most common 100 words PMBOK\",fontsize=20)\n",
    "plt.tight_layout(pad=0)\n",
    "plt.savefig('PMBOK_cost_time_scop_top_100.jpeg')"
   ]
  },
  {
   "cell_type": "code",
   "execution_count": 142,
   "id": "c0fda936",
   "metadata": {
    "id": "eTMXPKWsVvOY"
   },
   "outputs": [],
   "source": [
    "model_tfidf = TfidfModel(bow_corpus,normalize=True)"
   ]
  },
  {
   "cell_type": "code",
   "execution_count": 143,
   "id": "faa460bd",
   "metadata": {
    "id": "LvuxTlYAVvOY",
    "outputId": "50fd545c-e7ad-4dde-c754-d50482a50cd4"
   },
   "outputs": [
    {
     "data": {
      "text/html": [
       "<div>\n",
       "<style scoped>\n",
       "    .dataframe tbody tr th:only-of-type {\n",
       "        vertical-align: middle;\n",
       "    }\n",
       "\n",
       "    .dataframe tbody tr th {\n",
       "        vertical-align: top;\n",
       "    }\n",
       "\n",
       "    .dataframe thead th {\n",
       "        text-align: right;\n",
       "    }\n",
       "</style>\n",
       "<table border=\"1\" class=\"dataframe\">\n",
       "  <thead>\n",
       "    <tr style=\"text-align: right;\">\n",
       "      <th></th>\n",
       "      <th>TFIDF</th>\n",
       "    </tr>\n",
       "  </thead>\n",
       "  <tbody>\n",
       "    <tr>\n",
       "      <th>analysis</th>\n",
       "      <td>0.200100</td>\n",
       "    </tr>\n",
       "    <tr>\n",
       "      <th>conduct</th>\n",
       "      <td>0.420857</td>\n",
       "    </tr>\n",
       "    <tr>\n",
       "      <th>control</th>\n",
       "      <td>0.331332</td>\n",
       "    </tr>\n",
       "    <tr>\n",
       "      <th>identification</th>\n",
       "      <td>0.385770</td>\n",
       "    </tr>\n",
       "    <tr>\n",
       "      <th>include</th>\n",
       "      <td>0.219832</td>\n",
       "    </tr>\n",
       "    <tr>\n",
       "      <th>management</th>\n",
       "      <td>0.335094</td>\n",
       "    </tr>\n",
       "    <tr>\n",
       "      <th>plan</th>\n",
       "      <td>0.168295</td>\n",
       "    </tr>\n",
       "    <tr>\n",
       "      <th>planning</th>\n",
       "      <td>0.420857</td>\n",
       "    </tr>\n",
       "    <tr>\n",
       "      <th>process</th>\n",
       "      <td>0.179440</td>\n",
       "    </tr>\n",
       "    <tr>\n",
       "      <th>project</th>\n",
       "      <td>0.225763</td>\n",
       "    </tr>\n",
       "    <tr>\n",
       "      <th>response</th>\n",
       "      <td>0.212393</td>\n",
       "    </tr>\n",
       "    <tr>\n",
       "      <th>risk</th>\n",
       "      <td>0.172926</td>\n",
       "    </tr>\n",
       "  </tbody>\n",
       "</table>\n",
       "</div>"
      ],
      "text/plain": [
       "                   TFIDF\n",
       "analysis        0.200100\n",
       "conduct         0.420857\n",
       "control         0.331332\n",
       "identification  0.385770\n",
       "include         0.219832\n",
       "management      0.335094\n",
       "plan            0.168295\n",
       "planning        0.420857\n",
       "process         0.179440\n",
       "project         0.225763\n",
       "response        0.212393\n",
       "risk            0.172926"
      ]
     },
     "execution_count": 143,
     "metadata": {},
     "output_type": "execute_result"
    }
   ],
   "source": [
    "corpus_tfidf = model_tfidf[bow_corpus]\n",
    "df_tfidf = pd.DataFrame(np.array(corpus_tfidf[0])[:,1], index = np.unique(df.tokens.values[0]), columns=['TFIDF'])\n",
    "df_tfidf"
   ]
  },
  {
   "cell_type": "code",
   "execution_count": 144,
   "id": "c033b8b7",
   "metadata": {
    "id": "iUqWeNA7VvOZ",
    "outputId": "8021b780-a8dc-4c32-8ca9-fed90f80d3f6"
   },
   "outputs": [
    {
     "data": {
      "text/plain": [
       "Text(0.5, 1.0, 'TFIDF Model')"
      ]
     },
     "execution_count": 144,
     "metadata": {},
     "output_type": "execute_result"
    },
    {
     "data": {
      "image/png": "[encoded data removed]",
      "text/plain": [
       "<Figure size 1440x720 with 1 Axes>"
      ]
     },
     "metadata": {
      "needs_background": "light"
     },
     "output_type": "display_data"
    }
   ],
   "source": [
    "f, ax = plt.subplots(figsize=(20,10))\n",
    "plt.bar(list(df_tfidf.index.values), list(df_tfidf.TFIDF.values))\n",
    "plt.xlabel('Corpus')\n",
    "plt.ylabel('TFIDF')\n",
    "plt.title('TFIDF Model')"
   ]
  },
  {
   "cell_type": "markdown",
   "id": "9a80875e",
   "metadata": {
    "id": "_ir8jAe6VvOi"
   },
   "source": [
    "# Phase 4 OWL Extraction"
   ]
  },
  {
   "cell_type": "markdown",
   "id": "3bcb0779",
   "metadata": {
    "id": "eYghJZlFVvOi"
   },
   "source": [
    "## Entities Organization (Concepts/Individuals/Properties/Attributes)"
   ]
  },
  {
   "cell_type": "markdown",
   "id": "d26c688d",
   "metadata": {
    "id": "XLKa4PGcVvOj"
   },
   "source": [
    "### Extract concepts and individuals from named entities"
   ]
  },
  {
   "cell_type": "code",
   "execution_count": 145,
   "id": "ce9b319c",
   "metadata": {},
   "outputs": [],
   "source": [
    "df_entity=df_entity.append(df_entity_pmi)"
   ]
  },
  {
   "cell_type": "code",
   "execution_count": 146,
   "id": "02185dac",
   "metadata": {},
   "outputs": [
    {
     "data": {
      "text/html": [
       "<div>\n",
       "<style scoped>\n",
       "    .dataframe tbody tr th:only-of-type {\n",
       "        vertical-align: middle;\n",
       "    }\n",
       "\n",
       "    .dataframe tbody tr th {\n",
       "        vertical-align: top;\n",
       "    }\n",
       "\n",
       "    .dataframe thead th {\n",
       "        text-align: right;\n",
       "    }\n",
       "</style>\n",
       "<table border=\"1\" class=\"dataframe\">\n",
       "  <thead>\n",
       "    <tr style=\"text-align: right;\">\n",
       "      <th></th>\n",
       "      <th>named entity</th>\n",
       "      <th>output</th>\n",
       "    </tr>\n",
       "  </thead>\n",
       "  <tbody>\n",
       "    <tr>\n",
       "      <th>1</th>\n",
       "      <td>CARDINAL</td>\n",
       "      <td>one</td>\n",
       "    </tr>\n",
       "    <tr>\n",
       "      <th>2</th>\n",
       "      <td>CARDINAL</td>\n",
       "      <td>one</td>\n",
       "    </tr>\n",
       "    <tr>\n",
       "      <th>3</th>\n",
       "      <td>CARDINAL</td>\n",
       "      <td>three</td>\n",
       "    </tr>\n",
       "    <tr>\n",
       "      <th>5</th>\n",
       "      <td>CARDINAL</td>\n",
       "      <td>one</td>\n",
       "    </tr>\n",
       "    <tr>\n",
       "      <th>6</th>\n",
       "      <td>CARDINAL</td>\n",
       "      <td>two</td>\n",
       "    </tr>\n",
       "  </tbody>\n",
       "</table>\n",
       "</div>"
      ],
      "text/plain": [
       "  named entity output\n",
       "1     CARDINAL    one\n",
       "2     CARDINAL    one\n",
       "3     CARDINAL  three\n",
       "5     CARDINAL    one\n",
       "6     CARDINAL    two"
      ]
     },
     "execution_count": 146,
     "metadata": {},
     "output_type": "execute_result"
    }
   ],
   "source": [
    "df_entity.head()"
   ]
  },
  {
   "cell_type": "code",
   "execution_count": 147,
   "id": "2d31443d",
   "metadata": {},
   "outputs": [
    {
     "data": {
      "text/html": [
       "<div>\n",
       "<style scoped>\n",
       "    .dataframe tbody tr th:only-of-type {\n",
       "        vertical-align: middle;\n",
       "    }\n",
       "\n",
       "    .dataframe tbody tr th {\n",
       "        vertical-align: top;\n",
       "    }\n",
       "\n",
       "    .dataframe thead th {\n",
       "        text-align: right;\n",
       "    }\n",
       "</style>\n",
       "<table border=\"1\" class=\"dataframe\">\n",
       "  <thead>\n",
       "    <tr style=\"text-align: right;\">\n",
       "      <th></th>\n",
       "      <th>concept</th>\n",
       "    </tr>\n",
       "  </thead>\n",
       "  <tbody>\n",
       "    <tr>\n",
       "      <th>0</th>\n",
       "      <td>cardinal</td>\n",
       "    </tr>\n",
       "    <tr>\n",
       "      <th>1</th>\n",
       "      <td>ordinal</td>\n",
       "    </tr>\n",
       "    <tr>\n",
       "      <th>2</th>\n",
       "      <td>date</td>\n",
       "    </tr>\n",
       "    <tr>\n",
       "      <th>3</th>\n",
       "      <td>gpe</td>\n",
       "    </tr>\n",
       "    <tr>\n",
       "      <th>4</th>\n",
       "      <td>norp</td>\n",
       "    </tr>\n",
       "    <tr>\n",
       "      <th>5</th>\n",
       "      <td>loc</td>\n",
       "    </tr>\n",
       "    <tr>\n",
       "      <th>6</th>\n",
       "      <td>product</td>\n",
       "    </tr>\n",
       "    <tr>\n",
       "      <th>7</th>\n",
       "      <td>money</td>\n",
       "    </tr>\n",
       "  </tbody>\n",
       "</table>\n",
       "</div>"
      ],
      "text/plain": [
       "    concept\n",
       "0  cardinal\n",
       "1   ordinal\n",
       "2      date\n",
       "3       gpe\n",
       "4      norp\n",
       "5       loc\n",
       "6   product\n",
       "7     money"
      ]
     },
     "execution_count": 147,
     "metadata": {},
     "output_type": "execute_result"
    }
   ],
   "source": [
    "df_concept = df_entity[['named entity']].drop_duplicates().reset_index(drop=True)\n",
    "df_concept['concept'] = df_concept['named entity'].str.lower()\n",
    "df_concept = df_concept.drop(['named entity'], axis=1).drop_duplicates().reset_index(drop=True)\n",
    "df_concept"
   ]
  },
  {
   "cell_type": "code",
   "execution_count": 148,
   "id": "214601b7",
   "metadata": {},
   "outputs": [
    {
     "data": {
      "text/html": [
       "<div>\n",
       "<style scoped>\n",
       "    .dataframe tbody tr th:only-of-type {\n",
       "        vertical-align: middle;\n",
       "    }\n",
       "\n",
       "    .dataframe tbody tr th {\n",
       "        vertical-align: top;\n",
       "    }\n",
       "\n",
       "    .dataframe thead th {\n",
       "        text-align: right;\n",
       "    }\n",
       "</style>\n",
       "<table border=\"1\" class=\"dataframe\">\n",
       "  <thead>\n",
       "    <tr style=\"text-align: right;\">\n",
       "      <th></th>\n",
       "      <th>concept</th>\n",
       "      <th>individual</th>\n",
       "    </tr>\n",
       "  </thead>\n",
       "  <tbody>\n",
       "    <tr>\n",
       "      <th>0</th>\n",
       "      <td>cardinal</td>\n",
       "      <td>one</td>\n",
       "    </tr>\n",
       "    <tr>\n",
       "      <th>1</th>\n",
       "      <td>cardinal</td>\n",
       "      <td>three</td>\n",
       "    </tr>\n",
       "    <tr>\n",
       "      <th>2</th>\n",
       "      <td>cardinal</td>\n",
       "      <td>two</td>\n",
       "    </tr>\n",
       "    <tr>\n",
       "      <th>3</th>\n",
       "      <td>cardinal</td>\n",
       "      <td>four</td>\n",
       "    </tr>\n",
       "    <tr>\n",
       "      <th>4</th>\n",
       "      <td>cardinal</td>\n",
       "      <td>million</td>\n",
       "    </tr>\n",
       "  </tbody>\n",
       "</table>\n",
       "</div>"
      ],
      "text/plain": [
       "    concept individual\n",
       "0  cardinal        one\n",
       "1  cardinal      three\n",
       "2  cardinal        two\n",
       "3  cardinal       four\n",
       "4  cardinal    million"
      ]
     },
     "execution_count": 148,
     "metadata": {},
     "output_type": "execute_result"
    }
   ],
   "source": [
    "df_individual = df_entity.drop_duplicates().reset_index(drop=True)\n",
    "df_individual['concept'] = df_individual['named entity'].str.lower()\n",
    "df_individual['individual'] = df_individual['output'].str.lower()\n",
    "df_individual = df_individual.drop(['named entity','output'], axis=1).sort_values('concept').drop_duplicates().reset_index(drop=True)\n",
    "df_individual.head()"
   ]
  },
  {
   "cell_type": "markdown",
   "id": "8d521ee6",
   "metadata": {
    "id": "dDrO4whxVvOl"
   },
   "source": [
    "### Extract concepts and individuals from Spacy Matching"
   ]
  },
  {
   "cell_type": "code",
   "execution_count": 149,
   "id": "3bb1a441",
   "metadata": {
    "id": "bJF7jLkqVvOl"
   },
   "outputs": [],
   "source": [
    "df_ind2 = df_Y_X[['X','Y']].drop_duplicates().reset_index(drop=True).rename(columns={'X':'individual','Y':'concept'})\n",
    "df_con2 = df_ind2[['concept']].drop_duplicates().reset_index(drop=True)"
   ]
  },
  {
   "cell_type": "code",
   "execution_count": 150,
   "id": "b845bb8d",
   "metadata": {},
   "outputs": [
    {
     "data": {
      "text/html": [
       "<div>\n",
       "<style scoped>\n",
       "    .dataframe tbody tr th:only-of-type {\n",
       "        vertical-align: middle;\n",
       "    }\n",
       "\n",
       "    .dataframe tbody tr th {\n",
       "        vertical-align: top;\n",
       "    }\n",
       "\n",
       "    .dataframe thead th {\n",
       "        text-align: right;\n",
       "    }\n",
       "</style>\n",
       "<table border=\"1\" class=\"dataframe\">\n",
       "  <thead>\n",
       "    <tr style=\"text-align: right;\">\n",
       "      <th></th>\n",
       "      <th>individual</th>\n",
       "      <th>concept</th>\n",
       "    </tr>\n",
       "  </thead>\n",
       "  <tbody>\n",
       "    <tr>\n",
       "      <th>0</th>\n",
       "      <td>scope schedule cost</td>\n",
       "      <td>project objective</td>\n",
       "    </tr>\n",
       "    <tr>\n",
       "      <th>1</th>\n",
       "      <td>use</td>\n",
       "      <td>technique</td>\n",
       "    </tr>\n",
       "    <tr>\n",
       "      <th>2</th>\n",
       "      <td>level</td>\n",
       "      <td>term</td>\n",
       "    </tr>\n",
       "    <tr>\n",
       "      <th>3</th>\n",
       "      <td>time frame</td>\n",
       "      <td>factor</td>\n",
       "    </tr>\n",
       "    <tr>\n",
       "      <th>4</th>\n",
       "      <td>schedule</td>\n",
       "      <td>project objective</td>\n",
       "    </tr>\n",
       "  </tbody>\n",
       "</table>\n",
       "</div>"
      ],
      "text/plain": [
       "            individual            concept\n",
       "0  scope schedule cost  project objective\n",
       "1                  use          technique\n",
       "2                level               term\n",
       "3           time frame             factor\n",
       "4             schedule  project objective"
      ]
     },
     "execution_count": 150,
     "metadata": {},
     "output_type": "execute_result"
    }
   ],
   "source": [
    "df_ind2.head()"
   ]
  },
  {
   "cell_type": "code",
   "execution_count": 151,
   "id": "25b21fc6",
   "metadata": {},
   "outputs": [
    {
     "data": {
      "text/html": [
       "<div>\n",
       "<style scoped>\n",
       "    .dataframe tbody tr th:only-of-type {\n",
       "        vertical-align: middle;\n",
       "    }\n",
       "\n",
       "    .dataframe tbody tr th {\n",
       "        vertical-align: top;\n",
       "    }\n",
       "\n",
       "    .dataframe thead th {\n",
       "        text-align: right;\n",
       "    }\n",
       "</style>\n",
       "<table border=\"1\" class=\"dataframe\">\n",
       "  <thead>\n",
       "    <tr style=\"text-align: right;\">\n",
       "      <th></th>\n",
       "      <th>concept</th>\n",
       "    </tr>\n",
       "  </thead>\n",
       "  <tbody>\n",
       "    <tr>\n",
       "      <th>0</th>\n",
       "      <td>project objective</td>\n",
       "    </tr>\n",
       "    <tr>\n",
       "      <th>1</th>\n",
       "      <td>technique</td>\n",
       "    </tr>\n",
       "    <tr>\n",
       "      <th>2</th>\n",
       "      <td>term</td>\n",
       "    </tr>\n",
       "    <tr>\n",
       "      <th>3</th>\n",
       "      <td>factor</td>\n",
       "    </tr>\n",
       "    <tr>\n",
       "      <th>4</th>\n",
       "      <td>value</td>\n",
       "    </tr>\n",
       "  </tbody>\n",
       "</table>\n",
       "</div>"
      ],
      "text/plain": [
       "             concept\n",
       "0  project objective\n",
       "1          technique\n",
       "2               term\n",
       "3             factor\n",
       "4              value"
      ]
     },
     "execution_count": 151,
     "metadata": {},
     "output_type": "execute_result"
    }
   ],
   "source": [
    "df_con2.head()"
   ]
  },
  {
   "cell_type": "code",
   "execution_count": 152,
   "id": "bd937b95",
   "metadata": {},
   "outputs": [
    {
     "name": "stderr",
     "output_type": "stream",
     "text": [
      "FutureWarning: Sorting because non-concatenation axis is not aligned. A future version\n",
      "of pandas will change to not sort by default.\n",
      "\n",
      "To accept the future behavior, pass 'sort=False'.\n",
      "\n",
      "To retain the current behavior and silence the warning, pass 'sort=True'.\n",
      " [frame.py:7138]\n"
     ]
    }
   ],
   "source": [
    "df_concept = df_concept.append([df_con2]).drop_duplicates().reset_index(drop=True)\n",
    "df_individual = df_individual.append([df_ind2]).drop_duplicates().reset_index(drop=True)"
   ]
  },
  {
   "cell_type": "code",
   "execution_count": 153,
   "id": "bc992600",
   "metadata": {},
   "outputs": [
    {
     "data": {
      "text/html": [
       "<div>\n",
       "<style scoped>\n",
       "    .dataframe tbody tr th:only-of-type {\n",
       "        vertical-align: middle;\n",
       "    }\n",
       "\n",
       "    .dataframe tbody tr th {\n",
       "        vertical-align: top;\n",
       "    }\n",
       "\n",
       "    .dataframe thead th {\n",
       "        text-align: right;\n",
       "    }\n",
       "</style>\n",
       "<table border=\"1\" class=\"dataframe\">\n",
       "  <thead>\n",
       "    <tr style=\"text-align: right;\">\n",
       "      <th></th>\n",
       "      <th>concept</th>\n",
       "    </tr>\n",
       "  </thead>\n",
       "  <tbody>\n",
       "    <tr>\n",
       "      <th>0</th>\n",
       "      <td>cardinal</td>\n",
       "    </tr>\n",
       "    <tr>\n",
       "      <th>1</th>\n",
       "      <td>ordinal</td>\n",
       "    </tr>\n",
       "    <tr>\n",
       "      <th>2</th>\n",
       "      <td>date</td>\n",
       "    </tr>\n",
       "    <tr>\n",
       "      <th>3</th>\n",
       "      <td>gpe</td>\n",
       "    </tr>\n",
       "    <tr>\n",
       "      <th>4</th>\n",
       "      <td>norp</td>\n",
       "    </tr>\n",
       "  </tbody>\n",
       "</table>\n",
       "</div>"
      ],
      "text/plain": [
       "    concept\n",
       "0  cardinal\n",
       "1   ordinal\n",
       "2      date\n",
       "3       gpe\n",
       "4      norp"
      ]
     },
     "execution_count": 153,
     "metadata": {},
     "output_type": "execute_result"
    }
   ],
   "source": [
    "df_concept.head()"
   ]
  },
  {
   "cell_type": "code",
   "execution_count": 154,
   "id": "a7d9e3a6",
   "metadata": {},
   "outputs": [
    {
     "data": {
      "text/html": [
       "<div>\n",
       "<style scoped>\n",
       "    .dataframe tbody tr th:only-of-type {\n",
       "        vertical-align: middle;\n",
       "    }\n",
       "\n",
       "    .dataframe tbody tr th {\n",
       "        vertical-align: top;\n",
       "    }\n",
       "\n",
       "    .dataframe thead th {\n",
       "        text-align: right;\n",
       "    }\n",
       "</style>\n",
       "<table border=\"1\" class=\"dataframe\">\n",
       "  <thead>\n",
       "    <tr style=\"text-align: right;\">\n",
       "      <th></th>\n",
       "      <th>concept</th>\n",
       "      <th>individual</th>\n",
       "    </tr>\n",
       "  </thead>\n",
       "  <tbody>\n",
       "    <tr>\n",
       "      <th>0</th>\n",
       "      <td>cardinal</td>\n",
       "      <td>one</td>\n",
       "    </tr>\n",
       "    <tr>\n",
       "      <th>1</th>\n",
       "      <td>cardinal</td>\n",
       "      <td>three</td>\n",
       "    </tr>\n",
       "    <tr>\n",
       "      <th>2</th>\n",
       "      <td>cardinal</td>\n",
       "      <td>two</td>\n",
       "    </tr>\n",
       "    <tr>\n",
       "      <th>3</th>\n",
       "      <td>cardinal</td>\n",
       "      <td>four</td>\n",
       "    </tr>\n",
       "    <tr>\n",
       "      <th>4</th>\n",
       "      <td>cardinal</td>\n",
       "      <td>million</td>\n",
       "    </tr>\n",
       "  </tbody>\n",
       "</table>\n",
       "</div>"
      ],
      "text/plain": [
       "    concept individual\n",
       "0  cardinal        one\n",
       "1  cardinal      three\n",
       "2  cardinal        two\n",
       "3  cardinal       four\n",
       "4  cardinal    million"
      ]
     },
     "execution_count": 154,
     "metadata": {},
     "output_type": "execute_result"
    }
   ],
   "source": [
    "df_individual.head()"
   ]
  },
  {
   "cell_type": "markdown",
   "id": "31da8b1b",
   "metadata": {
    "id": "dsFzGNrfVvOm"
   },
   "source": [
    "### Extract concepts and sub-concepts from Rule \"is a\""
   ]
  },
  {
   "cell_type": "code",
   "execution_count": 155,
   "id": "f21aa166",
   "metadata": {
    "id": "ED9NZZsnVvOm"
   },
   "outputs": [],
   "source": [
    "df_csc = df_IsaHavea[df_IsaHavea['Is/Have']=='is a'][['Noun1','Noun2']].drop_duplicates().reset_index(drop=True).rename(columns={'Noun1':'concept','Noun2':'parent concept'})\n",
    "df_con3 = df_csc[['concept']].drop_duplicates().reset_index(drop=True)\n",
    "df_con32 = df_csc[['parent concept']].rename(columns={'parent concept':'concept'}).drop_duplicates().reset_index(drop=True)\n",
    "df_ind3 = df_csc[df_csc['concept'].isin(df_individual['individual'])].drop_duplicates().reset_index(drop=True).rename(columns={'concept':'individual','parent concept':'concept'})\n",
    "df_csc = df_csc[~df_csc['concept'].isin(df_individual['individual'])][['concept','parent concept']].drop_duplicates().reset_index(drop=True).append([df_Parent_Concept]).drop_duplicates().reset_index(drop=True)"
   ]
  },
  {
   "cell_type": "code",
   "execution_count": 156,
   "id": "d842767f",
   "metadata": {},
   "outputs": [
    {
     "data": {
      "text/html": [
       "<div>\n",
       "<style scoped>\n",
       "    .dataframe tbody tr th:only-of-type {\n",
       "        vertical-align: middle;\n",
       "    }\n",
       "\n",
       "    .dataframe tbody tr th {\n",
       "        vertical-align: top;\n",
       "    }\n",
       "\n",
       "    .dataframe thead th {\n",
       "        text-align: right;\n",
       "    }\n",
       "</style>\n",
       "<table border=\"1\" class=\"dataframe\">\n",
       "  <thead>\n",
       "    <tr style=\"text-align: right;\">\n",
       "      <th></th>\n",
       "      <th>concept</th>\n",
       "      <th>conceptualise</th>\n",
       "      <th>parent concept</th>\n",
       "    </tr>\n",
       "  </thead>\n",
       "  <tbody>\n",
       "    <tr>\n",
       "      <th>266</th>\n",
       "      <td>plan risk responses tools and techniques</td>\n",
       "      <td>conceptualise</td>\n",
       "      <td>plan risk responses</td>\n",
       "    </tr>\n",
       "    <tr>\n",
       "      <th>267</th>\n",
       "      <td>plan risk responses outputs</td>\n",
       "      <td>conceptualise</td>\n",
       "      <td>plan risk responses</td>\n",
       "    </tr>\n",
       "    <tr>\n",
       "      <th>268</th>\n",
       "      <td>control risks inputs</td>\n",
       "      <td>conceptualise</td>\n",
       "      <td>control risks</td>\n",
       "    </tr>\n",
       "    <tr>\n",
       "      <th>269</th>\n",
       "      <td>control risks tools and techniques</td>\n",
       "      <td>conceptualise</td>\n",
       "      <td>control risks</td>\n",
       "    </tr>\n",
       "    <tr>\n",
       "      <th>270</th>\n",
       "      <td>control risks outputs</td>\n",
       "      <td>conceptualise</td>\n",
       "      <td>control risks</td>\n",
       "    </tr>\n",
       "  </tbody>\n",
       "</table>\n",
       "</div>"
      ],
      "text/plain": [
       "                                      concept  conceptualise  \\\n",
       "266  plan risk responses tools and techniques  conceptualise   \n",
       "267               plan risk responses outputs  conceptualise   \n",
       "268                      control risks inputs  conceptualise   \n",
       "269        control risks tools and techniques  conceptualise   \n",
       "270                     control risks outputs  conceptualise   \n",
       "\n",
       "          parent concept  \n",
       "266  plan risk responses  \n",
       "267  plan risk responses  \n",
       "268        control risks  \n",
       "269        control risks  \n",
       "270        control risks  "
      ]
     },
     "execution_count": 156,
     "metadata": {},
     "output_type": "execute_result"
    }
   ],
   "source": [
    "df_csc.tail()"
   ]
  },
  {
   "cell_type": "code",
   "execution_count": 157,
   "id": "cbfc012c",
   "metadata": {},
   "outputs": [],
   "source": [
    "df_concept = df_concept.append([df_con3,df_con32]).drop_duplicates().reset_index(drop=True)\n",
    "df_individual = df_individual.append([df_ind3]).drop_duplicates().reset_index(drop=True)"
   ]
  },
  {
   "cell_type": "markdown",
   "id": "e565a2c5",
   "metadata": {
    "id": "XAYon4H2VvOo"
   },
   "source": [
    "### Extract data properties and object properties from Rule \"Subject Predicate Object\""
   ]
  },
  {
   "cell_type": "markdown",
   "id": "5962a90b",
   "metadata": {
    "id": "ykz8RSClVvOo"
   },
   "source": [
    "A Predicate B -> if A and B are individuals then Predicate is an object property\n",
    "\n",
    "A Predicate B -> if A is an individual and B is not then Predicate is a data property\n",
    "\n",
    "if A Predicate B, A Predicate C and B and C are Individuals then B et C have the same type(concept)"
   ]
  },
  {
   "cell_type": "code",
   "execution_count": 158,
   "id": "246dccf2",
   "metadata": {
    "id": "cMUyYC3oVvOo",
    "outputId": "a7465ee4-816a-4c30-b7f7-112b6d0b3087"
   },
   "outputs": [
    {
     "data": {
      "text/html": [
       "<div>\n",
       "<style scoped>\n",
       "    .dataframe tbody tr th:only-of-type {\n",
       "        vertical-align: middle;\n",
       "    }\n",
       "\n",
       "    .dataframe tbody tr th {\n",
       "        vertical-align: top;\n",
       "    }\n",
       "\n",
       "    .dataframe thead th {\n",
       "        text-align: right;\n",
       "    }\n",
       "</style>\n",
       "<table border=\"1\" class=\"dataframe\">\n",
       "  <thead>\n",
       "    <tr style=\"text-align: right;\">\n",
       "      <th></th>\n",
       "      <th>Sentence</th>\n",
       "      <th>Subject</th>\n",
       "      <th>Predicate</th>\n",
       "      <th>Object</th>\n",
       "    </tr>\n",
       "  </thead>\n",
       "  <tbody>\n",
       "    <tr>\n",
       "      <th>0</th>\n",
       "      <td>for example cause could include requirement of...</td>\n",
       "      <td>cause</td>\n",
       "      <td>include</td>\n",
       "      <td>requirement</td>\n",
       "    </tr>\n",
       "    <tr>\n",
       "      <th>1</th>\n",
       "      <td>continuous probability distribution which be u...</td>\n",
       "      <td>probability distribution</td>\n",
       "      <td>represent</td>\n",
       "      <td>uncertainty</td>\n",
       "    </tr>\n",
       "    <tr>\n",
       "      <th>2</th>\n",
       "      <td>these outcome may include identification of ne...</td>\n",
       "      <td>outcome</td>\n",
       "      <td>include</td>\n",
       "      <td>identification</td>\n",
       "    </tr>\n",
       "    <tr>\n",
       "      <th>3</th>\n",
       "      <td>outcome can include closing risk that be appli...</td>\n",
       "      <td>outcome</td>\n",
       "      <td>include</td>\n",
       "      <td>closing risk</td>\n",
       "    </tr>\n",
       "    <tr>\n",
       "      <th>4</th>\n",
       "      <td>over time level of project risk exposure chang...</td>\n",
       "      <td>level</td>\n",
       "      <td>take</td>\n",
       "      <td>project</td>\n",
       "    </tr>\n",
       "  </tbody>\n",
       "</table>\n",
       "</div>"
      ],
      "text/plain": [
       "                                            Sentence  \\\n",
       "0  for example cause could include requirement of...   \n",
       "1  continuous probability distribution which be u...   \n",
       "2  these outcome may include identification of ne...   \n",
       "3  outcome can include closing risk that be appli...   \n",
       "4  over time level of project risk exposure chang...   \n",
       "\n",
       "                    Subject  Predicate          Object  \n",
       "0                     cause    include     requirement  \n",
       "1  probability distribution  represent     uncertainty  \n",
       "2                   outcome    include  identification  \n",
       "3                   outcome    include    closing risk  \n",
       "4                     level       take         project  "
      ]
     },
     "execution_count": 158,
     "metadata": {},
     "output_type": "execute_result"
    }
   ],
   "source": [
    "df_have = df_IsaHavea[df_IsaHavea['Is/Have']=='has a'].drop_duplicates().reset_index(drop=True).rename(columns={'Noun1':'Subject','Noun2':'Object','Is/Have':'Predicate'})\n",
    "df_have['Predicate'] = 'have'\n",
    "df_sep = df_spo.append([df_have]).drop_duplicates().reset_index(drop=True)\n",
    "df_pred = df_sep[df_sep['Subject'].isin(df_individual['individual'])]\n",
    "df_pred = df_pred[df_pred['Subject'] != 'it'].drop_duplicates().reset_index(drop=True)\n",
    "df_pred.head()"
   ]
  },
  {
   "cell_type": "code",
   "execution_count": 159,
   "id": "c0134f95",
   "metadata": {
    "scrolled": true
   },
   "outputs": [],
   "source": [
    "df_objprop = df_pred[df_pred['Object'].isin(df_individual['individual'])].reset_index(drop=True)\n",
    "#df_objprop.head()"
   ]
  },
  {
   "cell_type": "code",
   "execution_count": 160,
   "id": "04234f5e",
   "metadata": {},
   "outputs": [
    {
     "data": {
      "text/html": [
       "<div>\n",
       "<style scoped>\n",
       "    .dataframe tbody tr th:only-of-type {\n",
       "        vertical-align: middle;\n",
       "    }\n",
       "\n",
       "    .dataframe tbody tr th {\n",
       "        vertical-align: top;\n",
       "    }\n",
       "\n",
       "    .dataframe thead th {\n",
       "        text-align: right;\n",
       "    }\n",
       "</style>\n",
       "<table border=\"1\" class=\"dataframe\">\n",
       "  <thead>\n",
       "    <tr style=\"text-align: right;\">\n",
       "      <th></th>\n",
       "      <th>Sentence</th>\n",
       "      <th>Subject</th>\n",
       "      <th>Predicate</th>\n",
       "      <th>Object</th>\n",
       "    </tr>\n",
       "  </thead>\n",
       "  <tbody>\n",
       "    <tr>\n",
       "      <th>0</th>\n",
       "      <td>for example cause could include requirement of...</td>\n",
       "      <td>cause</td>\n",
       "      <td>include</td>\n",
       "      <td>requirement</td>\n",
       "    </tr>\n",
       "    <tr>\n",
       "      <th>1</th>\n",
       "      <td>continuous probability distribution which be u...</td>\n",
       "      <td>probability distribution</td>\n",
       "      <td>represent</td>\n",
       "      <td>uncertainty</td>\n",
       "    </tr>\n",
       "    <tr>\n",
       "      <th>2</th>\n",
       "      <td>these outcome may include identification of ne...</td>\n",
       "      <td>outcome</td>\n",
       "      <td>include</td>\n",
       "      <td>identification</td>\n",
       "    </tr>\n",
       "    <tr>\n",
       "      <th>3</th>\n",
       "      <td>outcome can include closing risk that be appli...</td>\n",
       "      <td>outcome</td>\n",
       "      <td>include</td>\n",
       "      <td>closing risk</td>\n",
       "    </tr>\n",
       "    <tr>\n",
       "      <th>4</th>\n",
       "      <td>over time level of project risk exposure chang...</td>\n",
       "      <td>level</td>\n",
       "      <td>take</td>\n",
       "      <td>project</td>\n",
       "    </tr>\n",
       "  </tbody>\n",
       "</table>\n",
       "</div>"
      ],
      "text/plain": [
       "                                            Sentence  \\\n",
       "0  for example cause could include requirement of...   \n",
       "1  continuous probability distribution which be u...   \n",
       "2  these outcome may include identification of ne...   \n",
       "3  outcome can include closing risk that be appli...   \n",
       "4  over time level of project risk exposure chang...   \n",
       "\n",
       "                    Subject  Predicate          Object  \n",
       "0                     cause    include     requirement  \n",
       "1  probability distribution  represent     uncertainty  \n",
       "2                   outcome    include  identification  \n",
       "3                   outcome    include    closing risk  \n",
       "4                     level       take         project  "
      ]
     },
     "execution_count": 160,
     "metadata": {},
     "output_type": "execute_result"
    }
   ],
   "source": [
    "df_rest = df_pred[~df_pred['Object'].isin(df_individual['individual'])].reset_index(drop=True)\n",
    "df_rest.head()"
   ]
  },
  {
   "cell_type": "code",
   "execution_count": 161,
   "id": "948d922a",
   "metadata": {},
   "outputs": [],
   "source": [
    "df_newind= df_rest[df_rest['Subject'].isin(df_objprop['Subject']) & df_rest['Predicate'].isin(df_objprop['Predicate'])].reset_index(drop=True)"
   ]
  },
  {
   "cell_type": "code",
   "execution_count": 162,
   "id": "599b5fab",
   "metadata": {
    "id": "E4FjqlliVvOp"
   },
   "outputs": [],
   "source": [
    "row_list = []\n",
    "for i in range(len(df_newind)):\n",
    "    for j in range(len(df_objprop)):\n",
    "        if df_newind.loc[i,'Subject'] == df_objprop.loc[j,'Subject'] and df_newind.loc[i,'Predicate'] == df_objprop.loc[j,'Predicate']:\n",
    "            concept = df_objprop.loc[j,'Object']\n",
    "            row_list.append([df_newind.loc[i,'Object'],concept])\n",
    "\n",
    "df_temp = pd.DataFrame(row_list,columns=['individual','concept'])\n",
    "df_individual = df_individual.append([df_temp]).drop_duplicates(subset='individual',keep='last').reset_index(drop=True)"
   ]
  },
  {
   "cell_type": "code",
   "execution_count": 163,
   "id": "2e081b0c",
   "metadata": {
    "id": "rXDjDCRkVvOq",
    "outputId": "49aa5819-c50b-473e-b96c-6617c851d272"
   },
   "outputs": [
    {
     "data": {
      "text/html": [
       "<div>\n",
       "<style scoped>\n",
       "    .dataframe tbody tr th:only-of-type {\n",
       "        vertical-align: middle;\n",
       "    }\n",
       "\n",
       "    .dataframe tbody tr th {\n",
       "        vertical-align: top;\n",
       "    }\n",
       "\n",
       "    .dataframe thead th {\n",
       "        text-align: right;\n",
       "    }\n",
       "</style>\n",
       "<table border=\"1\" class=\"dataframe\">\n",
       "  <thead>\n",
       "    <tr style=\"text-align: right;\">\n",
       "      <th></th>\n",
       "      <th>concept</th>\n",
       "      <th>individual</th>\n",
       "    </tr>\n",
       "  </thead>\n",
       "  <tbody>\n",
       "    <tr>\n",
       "      <th>59</th>\n",
       "      <td>use</td>\n",
       "      <td>level</td>\n",
       "    </tr>\n",
       "    <tr>\n",
       "      <th>60</th>\n",
       "      <td>event</td>\n",
       "      <td>cause</td>\n",
       "    </tr>\n",
       "    <tr>\n",
       "      <th>61</th>\n",
       "      <td>list</td>\n",
       "      <td>use</td>\n",
       "    </tr>\n",
       "    <tr>\n",
       "      <th>62</th>\n",
       "      <td>ed</td>\n",
       "      <td>outcome</td>\n",
       "    </tr>\n",
       "    <tr>\n",
       "      <th>63</th>\n",
       "      <td>estimate</td>\n",
       "      <td>value</td>\n",
       "    </tr>\n",
       "  </tbody>\n",
       "</table>\n",
       "</div>"
      ],
      "text/plain": [
       "     concept individual\n",
       "59       use      level\n",
       "60     event      cause\n",
       "61      list        use\n",
       "62        ed    outcome\n",
       "63  estimate      value"
      ]
     },
     "execution_count": 163,
     "metadata": {},
     "output_type": "execute_result"
    }
   ],
   "source": [
    "df_individual.tail()"
   ]
  },
  {
   "cell_type": "code",
   "execution_count": 164,
   "id": "9237d4c5",
   "metadata": {},
   "outputs": [],
   "source": [
    "df_pred = df_sep[df_sep['Subject'].isin(df_individual['individual'])][['Subject','Predicate','Object']]\n",
    "df_pred = df_pred[df_pred['Subject'] != 'it'].drop_duplicates().reset_index(drop=True)\n",
    "df_objprop = df_pred[df_pred['Object'].isin(df_individual['individual'])].drop_duplicates().reset_index(drop=True)\n",
    "df_objprop = df_objprop.rename(columns={'Predicate':'Object Property'})"
   ]
  },
  {
   "cell_type": "code",
   "execution_count": 165,
   "id": "6430d834",
   "metadata": {},
   "outputs": [
    {
     "data": {
      "text/html": [
       "<div>\n",
       "<style scoped>\n",
       "    .dataframe tbody tr th:only-of-type {\n",
       "        vertical-align: middle;\n",
       "    }\n",
       "\n",
       "    .dataframe tbody tr th {\n",
       "        vertical-align: top;\n",
       "    }\n",
       "\n",
       "    .dataframe thead th {\n",
       "        text-align: right;\n",
       "    }\n",
       "</style>\n",
       "<table border=\"1\" class=\"dataframe\">\n",
       "  <thead>\n",
       "    <tr style=\"text-align: right;\">\n",
       "      <th></th>\n",
       "      <th>Subject</th>\n",
       "      <th>Data Property</th>\n",
       "      <th>Object</th>\n",
       "    </tr>\n",
       "  </thead>\n",
       "  <tbody>\n",
       "    <tr>\n",
       "      <th>0</th>\n",
       "      <td>cause</td>\n",
       "      <td>include</td>\n",
       "      <td>requirement</td>\n",
       "    </tr>\n",
       "    <tr>\n",
       "      <th>1</th>\n",
       "      <td>probability distribution</td>\n",
       "      <td>represent</td>\n",
       "      <td>uncertainty</td>\n",
       "    </tr>\n",
       "    <tr>\n",
       "      <th>2</th>\n",
       "      <td>outcome</td>\n",
       "      <td>include</td>\n",
       "      <td>identification</td>\n",
       "    </tr>\n",
       "    <tr>\n",
       "      <th>3</th>\n",
       "      <td>outcome</td>\n",
       "      <td>include</td>\n",
       "      <td>closing risk</td>\n",
       "    </tr>\n",
       "    <tr>\n",
       "      <th>4</th>\n",
       "      <td>level</td>\n",
       "      <td>take</td>\n",
       "      <td>project</td>\n",
       "    </tr>\n",
       "  </tbody>\n",
       "</table>\n",
       "</div>"
      ],
      "text/plain": [
       "                    Subject Data Property          Object\n",
       "0                     cause       include     requirement\n",
       "1  probability distribution     represent     uncertainty\n",
       "2                   outcome       include  identification\n",
       "3                   outcome       include    closing risk\n",
       "4                     level          take         project"
      ]
     },
     "execution_count": 165,
     "metadata": {},
     "output_type": "execute_result"
    }
   ],
   "source": [
    "df_dataprop = df_pred[~df_pred['Object'].isin(df_individual['individual'])].drop_duplicates().reset_index(drop=True)\n",
    "df_dataprop = df_dataprop.rename(columns={'Predicate':'Data Property'})\n",
    "df_dataprop.head()"
   ]
  },
  {
   "cell_type": "code",
   "execution_count": 166,
   "id": "ebd6f03c",
   "metadata": {},
   "outputs": [
    {
     "data": {
      "text/html": [
       "<div>\n",
       "<style scoped>\n",
       "    .dataframe tbody tr th:only-of-type {\n",
       "        vertical-align: middle;\n",
       "    }\n",
       "\n",
       "    .dataframe tbody tr th {\n",
       "        vertical-align: top;\n",
       "    }\n",
       "\n",
       "    .dataframe thead th {\n",
       "        text-align: right;\n",
       "    }\n",
       "</style>\n",
       "<table border=\"1\" class=\"dataframe\">\n",
       "  <thead>\n",
       "    <tr style=\"text-align: right;\">\n",
       "      <th></th>\n",
       "      <th>Domaine</th>\n",
       "      <th>Object Property</th>\n",
       "      <th>Range</th>\n",
       "    </tr>\n",
       "  </thead>\n",
       "  <tbody>\n",
       "    <tr>\n",
       "      <th>0</th>\n",
       "      <td>project risk management</td>\n",
       "      <td>include</td>\n",
       "      <td>process</td>\n",
       "    </tr>\n",
       "    <tr>\n",
       "      <th>1</th>\n",
       "      <td>risk</td>\n",
       "      <td>affect</td>\n",
       "      <td>project</td>\n",
       "    </tr>\n",
       "    <tr>\n",
       "      <th>2</th>\n",
       "      <td>risk</td>\n",
       "      <td>have</td>\n",
       "      <td>cause</td>\n",
       "    </tr>\n",
       "    <tr>\n",
       "      <th>3</th>\n",
       "      <td>project risk</td>\n",
       "      <td>represent</td>\n",
       "      <td>effect</td>\n",
       "    </tr>\n",
       "    <tr>\n",
       "      <th>4</th>\n",
       "      <td>management process</td>\n",
       "      <td>begin</td>\n",
       "      <td>project</td>\n",
       "    </tr>\n",
       "  </tbody>\n",
       "</table>\n",
       "</div>"
      ],
      "text/plain": [
       "                   Domaine Object Property    Range\n",
       "0  project risk management         include  process\n",
       "1                     risk          affect  project\n",
       "2                     risk            have    cause\n",
       "3             project risk       represent   effect\n",
       "4       management process           begin  project"
      ]
     },
     "execution_count": 166,
     "metadata": {},
     "output_type": "execute_result"
    }
   ],
   "source": [
    "df_pred = df_sep[df_sep['Subject'].isin(df_concept['concept'])][['Subject','Predicate','Object']]\n",
    "df_pred = df_pred[df_pred['Subject'] != 'it'].drop_duplicates().reset_index(drop=True)\n",
    "df_objprop_domaine1 = df_pred[df_pred['Object'].isin(df_concept['concept'])].drop_duplicates().reset_index(drop=True)\n",
    "df_objprop_domaine1 = df_objprop_domaine1.rename(columns={'Predicate':'Object Property', 'Subject':'Domaine','Object':'Range'})\n",
    "df_objprop_domaine1.head()"
   ]
  },
  {
   "cell_type": "code",
   "execution_count": 167,
   "id": "4d7c9150",
   "metadata": {},
   "outputs": [
    {
     "data": {
      "text/html": [
       "<div>\n",
       "<style scoped>\n",
       "    .dataframe tbody tr th:only-of-type {\n",
       "        vertical-align: middle;\n",
       "    }\n",
       "\n",
       "    .dataframe tbody tr th {\n",
       "        vertical-align: top;\n",
       "    }\n",
       "\n",
       "    .dataframe thead th {\n",
       "        text-align: right;\n",
       "    }\n",
       "</style>\n",
       "<table border=\"1\" class=\"dataframe\">\n",
       "  <thead>\n",
       "    <tr style=\"text-align: right;\">\n",
       "      <th></th>\n",
       "      <th>Domaine</th>\n",
       "      <th>Data Property</th>\n",
       "      <th>Range</th>\n",
       "    </tr>\n",
       "  </thead>\n",
       "  <tbody>\n",
       "    <tr>\n",
       "      <th>0</th>\n",
       "      <td>cause</td>\n",
       "      <td>include</td>\n",
       "      <td>string</td>\n",
       "    </tr>\n",
       "    <tr>\n",
       "      <th>1</th>\n",
       "      <td>risk response</td>\n",
       "      <td>reknect</td>\n",
       "      <td>string</td>\n",
       "    </tr>\n",
       "    <tr>\n",
       "      <th>2</th>\n",
       "      <td>project management plan</td>\n",
       "      <td>provide</td>\n",
       "      <td>string</td>\n",
       "    </tr>\n",
       "    <tr>\n",
       "      <th>3</th>\n",
       "      <td>who</td>\n",
       "      <td>have</td>\n",
       "      <td>string</td>\n",
       "    </tr>\n",
       "    <tr>\n",
       "      <th>4</th>\n",
       "      <td>management plan</td>\n",
       "      <td>provide</td>\n",
       "      <td>string</td>\n",
       "    </tr>\n",
       "  </tbody>\n",
       "</table>\n",
       "</div>"
      ],
      "text/plain": [
       "                   Domaine Data Property   Range\n",
       "0                    cause       include  string\n",
       "1            risk response       reknect  string\n",
       "2  project management plan       provide  string\n",
       "3                      who          have  string\n",
       "4          management plan       provide  string"
      ]
     },
     "execution_count": 167,
     "metadata": {},
     "output_type": "execute_result"
    }
   ],
   "source": [
    "df_dataprop_domaine1 = df_pred[~df_pred['Object'].isin(df_concept['concept'])].drop_duplicates().reset_index(drop=True)\n",
    "df_dataprop_domaine1 = df_dataprop_domaine1.rename(columns={'Predicate':'Data Property', 'Subject':'Domaine','Object':'Range'})\n",
    "df_dataprop_domaine1['Range'] = \"string\"\n",
    "df_dataprop_domaine1 = df_dataprop_domaine1.drop_duplicates().reset_index(drop=True)\n",
    "df_dataprop_domaine1.head()"
   ]
  },
  {
   "cell_type": "code",
   "execution_count": 168,
   "id": "55256b7c",
   "metadata": {},
   "outputs": [],
   "source": [
    "def get_concept(individual):\n",
    "    for i in range(len(df_individual)):\n",
    "        if df_individual.loc[i,'individual'] == individual:\n",
    "            return df_individual.loc[i,'concept']"
   ]
  },
  {
   "cell_type": "code",
   "execution_count": 169,
   "id": "7f04e90f",
   "metadata": {},
   "outputs": [],
   "source": [
    "df_objprop_domaine = df_objprop.copy()\n",
    "df_objprop_domaine['Domaine'] = df_objprop_domaine['Subject'].apply(get_concept)\n",
    "df_objprop_domaine['Range'] = df_objprop_domaine['Object'].apply(get_concept)\n",
    "df_objprop_domaine = df_objprop_domaine.drop(columns=['Subject','Object']).drop_duplicates().reset_index(drop=True)\n",
    "df_objprop_domaine = df_objprop_domaine.append([df_objprop_domaine1]).drop_duplicates().reset_index(drop=True)"
   ]
  },
  {
   "cell_type": "code",
   "execution_count": 170,
   "id": "b9f57c2c",
   "metadata": {},
   "outputs": [],
   "source": [
    "df_dataprop_domaine = df_dataprop.copy()\n",
    "df_dataprop_domaine['Domaine'] = df_dataprop_domaine['Subject'].apply(get_concept)\n",
    "df_dataprop_domaine['Range'] = \"string\"\n",
    "df_dataprop_domaine = df_dataprop_domaine.drop(columns=['Subject','Object']).drop_duplicates().reset_index(drop=True)\n",
    "df_dataprop_domaine = df_dataprop_domaine.append([df_dataprop_domaine1]).drop_duplicates().reset_index(drop=True)"
   ]
  },
  {
   "cell_type": "code",
   "execution_count": 171,
   "id": "4c93bdcf",
   "metadata": {},
   "outputs": [],
   "source": [
    "def change(w):\n",
    "    if(w == 'knowledge'):\n",
    "        return 'knowledge area'\n",
    "    return w"
   ]
  },
  {
   "cell_type": "code",
   "execution_count": 172,
   "id": "271d56f5",
   "metadata": {},
   "outputs": [],
   "source": [
    "df_concept = df_concept[df_concept['concept'] != 'there'].drop_duplicates().reset_index(drop=True)\n",
    "df_csc = df_csc[df_csc['concept'] != df_csc['parent concept']].drop_duplicates().reset_index(drop=True)\n",
    "\n",
    "df_concept['concept'] = df_concept['concept'].apply(change)\n",
    "df_individual['concept'] = df_individual['concept'].apply(change)\n",
    "df_csc['concept'] = df_csc['concept'].apply(change)\n",
    "df_csc['parent concept'] = df_csc['parent concept'].apply(change)\n",
    "df_dataprop_domaine['Domaine'] = df_dataprop_domaine['Domaine'].apply(change)\n",
    "df_objprop_domaine['Domaine'] = df_objprop_domaine['Domaine'].apply(change)\n",
    "df_objprop_domaine['Range'] = df_objprop_domaine['Range'].apply(change)"
   ]
  },
  {
   "cell_type": "code",
   "execution_count": 173,
   "id": "6d5ffbd7",
   "metadata": {},
   "outputs": [],
   "source": [
    "def prefix_ind(w):\n",
    "    for i in range(len(df_individual)):\n",
    "        if df_individual.loc[i,'individual'] == w:\n",
    "            return df_individual.loc[i,'concept']+'_'+w\n",
    "    return w\n",
    "\n",
    "df_dataprop['Subject'] = df_dataprop['Subject'].apply(prefix_ind)\n",
    "df_objprop['Subject'] = df_objprop['Subject'].apply(prefix_ind)\n",
    "df_objprop['Object'] = df_objprop['Object'].apply(prefix_ind)\n",
    "df_individual['individual'] = df_individual['individual'].apply(prefix_ind)"
   ]
  },
  {
   "cell_type": "code",
   "execution_count": 174,
   "id": "abac9465",
   "metadata": {},
   "outputs": [],
   "source": [
    "def prefix_prop(s,typ):\n",
    "    lst = []\n",
    "    if typ == 'Data Property':\n",
    "        df = df_dataprop_domaine\n",
    "    else:\n",
    "        df = df_objprop_domaine\n",
    "    for j in range(len(s)):\n",
    "        l = s.loc[j,typ]\n",
    "        for i in range(len(df)):\n",
    "            if df.loc[i,typ] == s.loc[j,typ] and df.loc[i,'Domaine'] == get_concept(s.loc[j,'Subject']):\n",
    "                l= df.loc[i,'Domaine'][0]+df.loc[i,'Range'][0]+'_'+s.loc[j,typ]\n",
    "        lst.append(l)\n",
    "    return lst\n",
    "\n",
    "def prefix_prop_domaine(s,typ):\n",
    "    lst = []\n",
    "    for j in range(len(s)):\n",
    "        l= s.loc[j,'Domaine'][0]+s.loc[j,'Range'][0]+'_'+s.loc[j,typ]\n",
    "        lst.append(l)\n",
    "    return lst\n",
    "\n",
    "df_dataprop['Data Property'] = prefix_prop(df_dataprop,'Data Property')\n",
    "df_objprop['Object Property'] = prefix_prop(df_objprop,'Object Property')\n",
    "df_dataprop_domaine['Data Property'] = prefix_prop_domaine(df_dataprop_domaine,'Data Property')\n",
    "df_objprop_domaine['Object Property'] = prefix_prop_domaine(df_objprop_domaine,'Object Property')"
   ]
  },
  {
   "cell_type": "code",
   "execution_count": 175,
   "id": "4594e41b",
   "metadata": {},
   "outputs": [],
   "source": [
    "df_know = pd.DataFrame([['project risk management','knowledge area']],columns=['concept','parent concept'])\n",
    "df_csc = df_csc.append(df_know).drop_duplicates().reset_index(drop = True)\n",
    "df_dataprop_domaine = df_dataprop_domaine.drop_duplicates().reset_index(drop = True)\n",
    "df_objprop_domaine = df_objprop_domaine.drop_duplicates().reset_index(drop = True)\n",
    "df_individual = df_individual.drop_duplicates().reset_index(drop = True)\n",
    "df_concept = df_concept.drop_duplicates().reset_index(drop = True)"
   ]
  },
  {
   "cell_type": "markdown",
   "id": "94dca5e7",
   "metadata": {
    "id": "uwbB88KyVvOy"
   },
   "source": [
    "## Transformer des entités en OWL"
   ]
  },
  {
   "cell_type": "code",
   "execution_count": 176,
   "id": "230cf540",
   "metadata": {
    "id": "13WPrGhuVvOy"
   },
   "outputs": [],
   "source": [
    "from rdflib.namespace import DC, DCTERMS, DOAP, FOAF, OWL, RDF, RDFS, SKOS, VOID, XMLNS, XSD\n",
    "from rdflib import URIRef, BNode, Literal, Namespace, Graph\n",
    "from rdflib.extras import describer"
   ]
  },
  {
   "cell_type": "code",
   "execution_count": 177,
   "id": "71916be1",
   "metadata": {
    "id": "cEfgD5pOVvOz"
   },
   "outputs": [],
   "source": [
    "g = Graph()\n",
    "g.bind(\"owl\",OWL)\n",
    "g.bind(\"pr\",\"http://example.org/projet#\")\n",
    "ns_url = \"http://example.org/projet#\"\n",
    "g.add((URIRef('http://example.org/projet'), RDF.type, OWL.Ontology ))"
   ]
  },
  {
   "cell_type": "markdown",
   "id": "89a41b14",
   "metadata": {
    "id": "C7gQaWe2VvO0"
   },
   "source": [
    "### Ajouter Classes et Sous-Classes"
   ]
  },
  {
   "cell_type": "code",
   "execution_count": 178,
   "id": "66534241",
   "metadata": {
    "id": "xt20QiboVvO1"
   },
   "outputs": [],
   "source": [
    "for c in df_concept['concept']:\n",
    "    cl = URIRef(ns_url+c.replace(\" \",\"_\"))\n",
    "    g.add((cl, RDF.type, OWL.Class))\n",
    "    for i in range(len(df_csc)):\n",
    "        if df_csc.loc[i,'concept'] == c:\n",
    "            clp = URIRef(ns_url+df_csc.loc[i,'parent concept'].replace(\" \",\"_\"))\n",
    "            g.add((cl, RDFS.subClassOf, clp))"
   ]
  },
  {
   "cell_type": "markdown",
   "id": "c655125f",
   "metadata": {
    "id": "aV4jAbmHVvO1"
   },
   "source": [
    "### Ajouter Data Proprietes"
   ]
  },
  {
   "cell_type": "code",
   "execution_count": 179,
   "id": "b53957bf",
   "metadata": {
    "id": "Rrbm_Gs0VvO1"
   },
   "outputs": [],
   "source": [
    "for i in range(len(df_dataprop_domaine)):\n",
    "    c = URIRef(ns_url+df_dataprop_domaine.loc[i,'Data Property'].replace(\" \",\"_\"))\n",
    "    domaine = URIRef(ns_url+df_dataprop_domaine.loc[i,'Domaine'].replace(\" \",\"_\"))\n",
    "    g.add((c,RDF.type,OWL.DatatypeProperty))\n",
    "    g.add((c,RDFS.domain,domaine))\n",
    "    g.add((c,RDFS.range,XSD.string))"
   ]
  },
  {
   "cell_type": "markdown",
   "id": "c6a2b23d",
   "metadata": {
    "id": "jccfK4b9VvO2"
   },
   "source": [
    "### Ajouter Object Proprietes"
   ]
  },
  {
   "cell_type": "code",
   "execution_count": 180,
   "id": "e7225725",
   "metadata": {
    "id": "Jo8cTxCWVvO2"
   },
   "outputs": [],
   "source": [
    "for i in range(len(df_objprop_domaine)):\n",
    "    c = URIRef(ns_url+df_objprop_domaine.loc[i,'Object Property'].replace(\" \",\"_\"))\n",
    "    domaine = URIRef(ns_url+df_objprop_domaine.loc[i,'Domaine'].replace(\" \",\"_\"))\n",
    "    rang = URIRef(ns_url+df_objprop_domaine.loc[i,'Range'].replace(\" \",\"_\"))\n",
    "    g.add((c,RDF.type,OWL.ObjectProperty))\n",
    "    g.add((c,RDFS.domain,domaine))\n",
    "    g.add((c,RDFS.range,rang))"
   ]
  },
  {
   "cell_type": "markdown",
   "id": "acec7662",
   "metadata": {
    "id": "lRvGCeh2VvO2"
   },
   "source": [
    "### Ajouter Individuals"
   ]
  },
  {
   "cell_type": "code",
   "execution_count": 181,
   "id": "3162c6a3",
   "metadata": {
    "id": "A9_WiFjmVvO2"
   },
   "outputs": [],
   "source": [
    "for i in range(len(df_individual)):\n",
    "    c = URIRef(ns_url+df_individual.loc[i,'concept'].replace(\" \",\"_\"))\n",
    "    ind = URIRef(ns_url+df_individual.loc[i,'individual'].replace(\" \",\"_\"))\n",
    "    g.add((ind,RDF.type,c))"
   ]
  },
  {
   "cell_type": "code",
   "execution_count": 182,
   "id": "e73408e2",
   "metadata": {
    "id": "GWuXNYniVvO2"
   },
   "outputs": [],
   "source": [
    "for i in range(len(df_individual)):\n",
    "    c = URIRef(ns_url+df_individual.loc[i,'concept'].replace(\" \",\"_\"))\n",
    "    ind = URIRef(ns_url+df_individual.loc[i,'individual'].replace(\" \",\"_\"))\n",
    "    g.add((ind,RDF.type,OWL.NamedIndividual))"
   ]
  },
  {
   "cell_type": "code",
   "execution_count": 183,
   "id": "a04a968d",
   "metadata": {
    "id": "hVMyaq9UVvO3"
   },
   "outputs": [],
   "source": [
    "for j in range(len(df_objprop)):\n",
    "    ind = URIRef(ns_url+df_objprop.loc[j,'Subject'].replace(\" \",\"_\"))\n",
    "    obj = URIRef(ns_url+df_objprop.loc[j,'Object'].replace(\" \",\"_\"))\n",
    "    objprop = URIRef(ns_url+df_objprop.loc[j,'Object Property'].replace(\" \",\"_\"))\n",
    "    g.add((ind,objprop,obj))"
   ]
  },
  {
   "cell_type": "code",
   "execution_count": 184,
   "id": "ad8f97be",
   "metadata": {
    "id": "uMrNa6oZVvO4"
   },
   "outputs": [],
   "source": [
    "for j in range(len(df_dataprop)):\n",
    "    ind = URIRef(ns_url+df_dataprop.loc[j,'Subject'].replace(\" \",\"_\"))\n",
    "    obj = Literal(df_dataprop.loc[j,'Object'])\n",
    "    dataprop = URIRef(ns_url+df_dataprop.loc[j,'Data Property'].replace(\" \",\"_\"))\n",
    "    g.add((ind,dataprop,obj))"
   ]
  },
  {
   "cell_type": "markdown",
   "id": "85afbb27",
   "metadata": {
    "id": "Za4FabtJVvO5"
   },
   "source": [
    "### Save"
   ]
  },
  {
   "cell_type": "code",
   "execution_count": 185,
   "id": "f325996d",
   "metadata": {
    "id": "drteGjU-VvO5"
   },
   "outputs": [],
   "source": [
    "with open('Ontology_PMBOKV2.0.owl', 'w', encoding='utf-8') as output:\n",
    "    output.write(g.serialize(format=\"pretty-xml\").decode(\"utf-8\"))"
   ]
  },
  {
   "cell_type": "markdown",
   "id": "0f4c63d5",
   "metadata": {},
   "source": [
    "# Annotations"
   ]
  },
  {
   "cell_type": "markdown",
   "id": "98c0fffc",
   "metadata": {},
   "source": [
    "### Project risk manamgment annotation"
   ]
  },
  {
   "cell_type": "code",
   "execution_count": 186,
   "id": "f1f7c810",
   "metadata": {},
   "outputs": [],
   "source": [
    "project_risk_manamgment_annotation=extract_text(text,\"11PROJECT RISK MANAGEMENT\",\"Figure 11\").replace('˜','fi')"
   ]
  },
  {
   "cell_type": "code",
   "execution_count": 187,
   "id": "b5b52cef",
   "metadata": {},
   "outputs": [
    {
     "data": {
      "text/plain": [
       "'Project Risk Management includes the processes of conducting risk management planning, identification, analysis, response planning, and controlling risk on a project. The objectives of project risk management are to increase the likelihood and impact of positive events, and decrease the likelihood and impact of negative events in the project.'"
      ]
     },
     "execution_count": 187,
     "metadata": {},
     "output_type": "execute_result"
    }
   ],
   "source": [
    "project_risk_manamgment_annotation"
   ]
  },
  {
   "cell_type": "markdown",
   "id": "ed813cb6",
   "metadata": {},
   "source": [
    "### Annotation de chaque processus"
   ]
  },
  {
   "cell_type": "code",
   "execution_count": 188,
   "id": "329cf1b2",
   "metadata": {},
   "outputs": [],
   "source": [
    "Processes_text=[PlanRiskManagement,IdentifyRisks,PerformQualitativeRiskAnalysis,PerformQuantitativeRisk,PlanRiskResponses,ControlRisks]"
   ]
  },
  {
   "cell_type": "code",
   "execution_count": 189,
   "id": "4daef10a",
   "metadata": {},
   "outputs": [],
   "source": [
    "annotation_processes=[]\n",
    "for p in range(0,6):\n",
    "    if p==0:\n",
    "        s=extract_text(Processes_text[p],\"1111.\"+str(p+1),\"11.\"+str(p+2)+\".1\")\n",
    "    else:\n",
    "        s=extract_text(Processes_text[p],\"11.\"+str(p+1),\"11.\"+str(p+2)+\".1\")\n",
    "    sep = 'depicts the data'\n",
    "    stripped = s.split(sep, 1)[0]\n",
    "    stripped=re.sub(r'.', '', stripped, count = len(extract_title(stripped))+1)\n",
    "    annotation_processes.append(stripped.replace('˜','fi'))\n",
    "    "
   ]
  },
  {
   "cell_type": "code",
   "execution_count": 190,
   "id": "29f350eb",
   "metadata": {},
   "outputs": [
    {
     "data": {
      "text/plain": [
       "'Plan Risk Management is the process of defining how to conduct risk management activities for a project. The key benefit of this process is it ensures that the degree, type, and visibility of risk management are commensurate with both the risks and the importance of the project to the organization. The risk management plan is vital to communicate with and obtain agreement and support from all stakeholders to ensure the risk management process is supported and performed effectively over the project life cycle. The inputs, tools and techniques, and outputs of this process are depicted in Figure 11-2. Figure 11-3 '"
      ]
     },
     "execution_count": 190,
     "metadata": {},
     "output_type": "execute_result"
    }
   ],
   "source": [
    "annotation_processes[0]"
   ]
  },
  {
   "cell_type": "markdown",
   "id": "4cfc1fc2",
   "metadata": {},
   "source": [
    "### Ajouter les annotation "
   ]
  },
  {
   "cell_type": "code",
   "execution_count": 191,
   "id": "c1ddab14",
   "metadata": {},
   "outputs": [
    {
     "name": "stderr",
     "output_type": "stream",
     "text": [
      "* Owlready2 * WARNING: ObjectProperty http://example.org/projet#es_include belongs to more than one entity types: [owl.DatatypeProperty, owl.ObjectProperty]; I'm trying to fix it...\n"
     ]
    }
   ],
   "source": [
    "from owlready2 import *\n",
    "onto_path.append(\"/home/ayadi/Documents/ProjectAi/\")\n",
    "onto = get_ontology(\"Ontology_PMBOKV2.0.owl\").load()"
   ]
  },
  {
   "cell_type": "code",
   "execution_count": 192,
   "id": "ad24dc82",
   "metadata": {
    "scrolled": true
   },
   "outputs": [
    {
     "data": {
      "text/plain": [
       "297"
      ]
     },
     "execution_count": 192,
     "metadata": {},
     "output_type": "execute_result"
    }
   ],
   "source": [
    "len(list(onto.classes()))"
   ]
  },
  {
   "cell_type": "markdown",
   "id": "7780f11e",
   "metadata": {},
   "source": [
    "### \" Ajouter les annotations\""
   ]
  },
  {
   "cell_type": "code",
   "execution_count": 193,
   "id": "f3c469eb",
   "metadata": {},
   "outputs": [],
   "source": [
    "onto.project_risk_management.comment = [project_risk_manamgment_annotation]\n",
    "onto.plan_risk_management.comment =annotation_processes[0]\n",
    "onto.identify_risks.comment =annotation_processes[1]\n",
    "onto.perform_qualitative__risk_analysis.comment =annotation_processes[2]\n",
    "onto.perform_quantitative__risk_analysis.comment =annotation_processes[3]\n",
    "onto.plan_risk_responses.comment =annotation_processes[4]\n",
    "onto.control_risks.comment =annotation_processes[5]"
   ]
  },
  {
   "cell_type": "markdown",
   "id": "8c66b6b5",
   "metadata": {},
   "source": [
    "### Inputus,Outputs,Tools and Techniques annotation"
   ]
  },
  {
   "cell_type": "code",
   "execution_count": 194,
   "id": "faed1667",
   "metadata": {},
   "outputs": [],
   "source": [
    "def reduce_text(test):\n",
    "    #test=cleanMaj(test)\n",
    "    test=test.replace('˚','fl').replace('˜','fi')\n",
    "    test=test.strip()\n",
    "    text=\"\"\n",
    "    sents=sent_tokenize(test)\n",
    "    if len(sents)<5 :\n",
    "        return test\n",
    "    for sent in sent_tokenize(test)[:4]:\n",
    "        text=text+\" \"+sent\n",
    "    return text\n",
    "    "
   ]
  },
  {
   "cell_type": "code",
   "execution_count": 195,
   "id": "481799cb",
   "metadata": {},
   "outputs": [],
   "source": [
    "def cleanMaj(text):\n",
    "    text=re.sub(r\"(\\w)([A-Z])\", r\"\\1 \\2\", text)\n",
    "    return text"
   ]
  },
  {
   "cell_type": "code",
   "execution_count": 196,
   "id": "6e4620e9",
   "metadata": {},
   "outputs": [],
   "source": [
    "def extract_process_annotation(p,Type):\n",
    "    if Type==\"inputs\":\n",
    "        t=1\n",
    "    elif Type==\"tools and techniques\":\n",
    "        t=2\n",
    "    elif Type==\"outputs\":\n",
    "        t=3\n",
    "    N=get_number(p,Type)\n",
    "    titles=[]\n",
    "    annotations=[]\n",
    "    for i in range(1,N):\n",
    "        start=\"11.\"+str(p)+\".\"+str(t)+\".\"+str(i)\n",
    "        end=\"11.\"+str(p)+\".\"+str(t)+\".\"+str(i+1)\n",
    "        annotation=extract_text(text2,start,end)\n",
    "        titles.append(extract_title(annotation))\n",
    "        if t==3:\n",
    "            annotations.append(reduce_text(annotation.strip()))\n",
    "        else:\n",
    "            annotations.append(annotation.strip())    \n",
    "    annotation=extract_text(text2,\"11.\"+str(p)+\".\"+str(t)+\".\"+str(N),\"11.\"+str(p)+\".\"+str(t+1))\n",
    "    if t==3:\n",
    "        annotation=reduce_text(annotation)\n",
    "    titles.append(extract_title(annotation))\n",
    "    annotations.append(annotation)\n",
    "    return titles,annotations"
   ]
  },
  {
   "cell_type": "code",
   "execution_count": 197,
   "id": "ebf42247",
   "metadata": {},
   "outputs": [
    {
     "data": {
      "text/plain": [
       "(['Project Management Plan',\n",
       "  'Project Charter',\n",
       "  'Stakeholder Register',\n",
       "  'Enterprise Environmental Factors',\n",
       "  'Organizational Process Assets'],\n",
       " ['Project Management PlanIn planning risk management, all approved subsidiary management plans and baselines should be taken into consideration in order to make the risk management plan consistent with them. The risk management plan is also a component of the project management plan. The project management plan provides baseline or current state of risk-affected areas including scope, schedule, and cost.',\n",
       "  'Project CharterDescribed in Section 4.1.3.1. The project charter can provide various inputs such as high-level risks, high-level project descriptions, and high-level requirements.',\n",
       "  'Stakeholder RegisterDescribed in Section 13.1.3.1. The stakeholder register, which contains all details related to the project™s stakeholders, provides an overview of their roles.',\n",
       "  'Enterprise Environmental FactorsDescribed in Section 2.1.5. The enterprise environmental factors that can in˚uence the Plan Risk Management process include, but are not limited to, risk attitudes, thresholds, and tolerances that describe the degree of risk that an organization will withstand.',\n",
       "  ' Organizational Process AssetsDescribed in Section 2.1.4. The organizational process assets that can in˚uence the Plan Risk Management process include, but are not limited to:315©2013 Project Management Institute. 11Risk categories,Common de˜nitions of concepts and terms,Risk statement formats,Standard templates,Roles and responsibilities,Authority levels for decision making, andLessons learned.'])"
      ]
     },
     "execution_count": 197,
     "metadata": {},
     "output_type": "execute_result"
    }
   ],
   "source": [
    "extract_process_annotation(1,\"inputs\")"
   ]
  },
  {
   "cell_type": "code",
   "execution_count": 198,
   "id": "202f09bc",
   "metadata": {},
   "outputs": [
    {
     "data": {
      "text/plain": [
       "[Ontology_PMBOKV2.0.date,\n",
       " Ontology_PMBOKV2.0.data,\n",
       " Ontology_PMBOKV2.0.cardinal,\n",
       " Ontology_PMBOKV2.0.information,\n",
       " Ontology_PMBOKV2.0.type,\n",
       " Ontology_PMBOKV2.0.approach,\n",
       " Ontology_PMBOKV2.0.variance_and_trend_analysis,\n",
       " Ontology_PMBOKV2.0.control_risks_tools_and_techniques,\n",
       " Ontology_PMBOKV2.0.objective,\n",
       " Ontology_PMBOKV2.0.sensitivity_analysis]"
      ]
     },
     "execution_count": 198,
     "metadata": {},
     "output_type": "execute_result"
    }
   ],
   "source": [
    "list_classes=list(onto.classes())\n",
    "list_classes[:10]"
   ]
  },
  {
   "cell_type": "code",
   "execution_count": 199,
   "id": "ae043f4b",
   "metadata": {},
   "outputs": [],
   "source": [
    "def annotation_ITTO(p,process,Type):\n",
    "    for element in list(process.subclasses()):\n",
    "        li=extract_process_annotation(p,Type)\n",
    "        for Input in li[0]:\n",
    "            if Input.lower().replace(' ','_') in str(element):\n",
    "                #print(str(element))\n",
    "                index=li[0].index(Input)\n",
    "                element.comment.append(cleanMaj(li[1][index].replace('˚','fl').replace('˜','fi')) +\" &P\"+str(p))\n",
    "                #element.comment=[]\n",
    "                #print(\"*\"*100)\n",
    "                "
   ]
  },
  {
   "cell_type": "markdown",
   "id": "bf8790c5",
   "metadata": {},
   "source": [
    "### plan_risk_management"
   ]
  },
  {
   "cell_type": "code",
   "execution_count": 200,
   "id": "df94d983",
   "metadata": {},
   "outputs": [],
   "source": [
    "annotation_ITTO(1,onto.plan_risk_management_inputs,\"inputs\")\n",
    "annotation_ITTO(1,onto.plan_risk_management_tools_and_techniques,\"tools and techniques\")\n",
    "annotation_ITTO(1,onto.plan_risk_management_outputs,\"outputs\")"
   ]
  },
  {
   "cell_type": "markdown",
   "id": "ffbe1634",
   "metadata": {},
   "source": [
    "### identify_risks"
   ]
  },
  {
   "cell_type": "code",
   "execution_count": 201,
   "id": "fc323cac",
   "metadata": {},
   "outputs": [],
   "source": [
    "annotation_ITTO(2,onto.identify_risks_inputs,\"inputs\")\n",
    "annotation_ITTO(2,onto.identify_risks_tools_and_techniques,\"tools and techniques\")\n",
    "annotation_ITTO(2,onto.identify_risks_outputs,\"outputs\")"
   ]
  },
  {
   "cell_type": "markdown",
   "id": "82826a63",
   "metadata": {},
   "source": [
    "### PerformQualitativeRiskAnalysis"
   ]
  },
  {
   "cell_type": "code",
   "execution_count": 202,
   "id": "b5a5ac65",
   "metadata": {},
   "outputs": [],
   "source": [
    "annotation_ITTO(3,onto.perform_qualitative__risk_analysis_inputs,\"inputs\")\n",
    "annotation_ITTO(3,onto.perform_qualitative__risk_analysis_tools_and_techniques,\"tools and techniques\")\n",
    "annotation_ITTO(3,onto.perform_qualitative__risk_analysis_outputs,\"outputs\")"
   ]
  },
  {
   "cell_type": "markdown",
   "id": "c8612cb7",
   "metadata": {},
   "source": [
    "### perform_quantitative__risk_analysis"
   ]
  },
  {
   "cell_type": "code",
   "execution_count": 203,
   "id": "510cfb56",
   "metadata": {},
   "outputs": [],
   "source": [
    "annotation_ITTO(4,onto.perform_quantitative__risk_analysis_inputs,\"inputs\")\n",
    "annotation_ITTO(4,onto.perform_quantitative__risk_analysis_tools_and_techniques,\"tools and techniques\")\n",
    "annotation_ITTO(4,onto.perform_quantitative__risk_analysis_outputs,\"outputs\")"
   ]
  },
  {
   "cell_type": "markdown",
   "id": "c54389da",
   "metadata": {},
   "source": [
    "### plan_risk_responses"
   ]
  },
  {
   "cell_type": "code",
   "execution_count": 204,
   "id": "22042b93",
   "metadata": {},
   "outputs": [],
   "source": [
    "annotation_ITTO(5,onto.plan_risk_responses_inputs,\"inputs\")\n",
    "annotation_ITTO(5,onto.plan_risk_responses_tools_and_techniques,\"tools and techniques\")\n",
    "annotation_ITTO(5,onto.plan_risk_responses_outputs,\"outputs\")"
   ]
  },
  {
   "cell_type": "markdown",
   "id": "f2909178",
   "metadata": {},
   "source": [
    "### control_risks"
   ]
  },
  {
   "cell_type": "code",
   "execution_count": 205,
   "id": "27762e50",
   "metadata": {},
   "outputs": [],
   "source": [
    "annotation_ITTO(6,onto.control_risks_inputs,\"inputs\")\n",
    "annotation_ITTO(6,onto.control_risks_tools_and_techniques,\"tools and techniques\")\n",
    "annotation_ITTO(6,onto.control_risks_outputs,\"outputs\")"
   ]
  },
  {
   "cell_type": "code",
   "execution_count": 206,
   "id": "4b08e247",
   "metadata": {},
   "outputs": [],
   "source": [
    "onto.save()"
   ]
  },
  {
   "cell_type": "markdown",
   "id": "b314392e",
   "metadata": {},
   "source": [
    "# Recommandation system"
   ]
  },
  {
   "cell_type": "markdown",
   "id": "9541261f",
   "metadata": {},
   "source": [
    "### Extraction des Mots clé"
   ]
  },
  {
   "cell_type": "code",
   "execution_count": 207,
   "id": "5353aca2",
   "metadata": {},
   "outputs": [],
   "source": [
    "from rake_nltk import Rake"
   ]
  },
  {
   "cell_type": "code",
   "execution_count": 208,
   "id": "225efbb0",
   "metadata": {},
   "outputs": [],
   "source": [
    "# Uses stopwords for english from NLTK, and all puntuation characters by\n",
    "# default\n",
    "r = Rake()\n",
    "\n",
    "# Extraction given the text.\n",
    "r.extract_keywords_from_text(\"what is the inputs of process risk managment plan\")\n",
    "\n"
   ]
  },
  {
   "cell_type": "code",
   "execution_count": 209,
   "id": "d66a5e9f",
   "metadata": {},
   "outputs": [
    {
     "data": {
      "text/plain": [
       "['process risk managment plan', 'inputs']"
      ]
     },
     "execution_count": 209,
     "metadata": {},
     "output_type": "execute_result"
    }
   ],
   "source": [
    "# To get keyword phrases ranked highest to lowest.\n",
    "r.get_ranked_phrases()"
   ]
  },
  {
   "cell_type": "code",
   "execution_count": 210,
   "id": "f53bf1c4",
   "metadata": {
    "scrolled": false
   },
   "outputs": [
    {
     "data": {
      "text/plain": [
       "[(16.0, 'process risk managment plan'), (1.0, 'inputs')]"
      ]
     },
     "execution_count": 210,
     "metadata": {},
     "output_type": "execute_result"
    }
   ],
   "source": [
    "# To get keyword phrases ranked highest to lowest with scores.\n",
    "r.get_ranked_phrases_with_scores()"
   ]
  },
  {
   "cell_type": "code",
   "execution_count": 211,
   "id": "d7f03c6c",
   "metadata": {},
   "outputs": [
    {
     "data": {
      "text/plain": [
       "[Ontology_PMBOKV2.0.date,\n",
       " Ontology_PMBOKV2.0.data,\n",
       " Ontology_PMBOKV2.0.cardinal,\n",
       " Ontology_PMBOKV2.0.information,\n",
       " Ontology_PMBOKV2.0.type,\n",
       " Ontology_PMBOKV2.0.approach,\n",
       " Ontology_PMBOKV2.0.variance_and_trend_analysis,\n",
       " Ontology_PMBOKV2.0.control_risks_tools_and_techniques,\n",
       " Ontology_PMBOKV2.0.objective,\n",
       " Ontology_PMBOKV2.0.sensitivity_analysis]"
      ]
     },
     "execution_count": 211,
     "metadata": {},
     "output_type": "execute_result"
    }
   ],
   "source": [
    "list_classes=list(onto.classes())\n",
    "list_classes[:10]"
   ]
  },
  {
   "cell_type": "code",
   "execution_count": 212,
   "id": "d919635b",
   "metadata": {},
   "outputs": [],
   "source": [
    "def change(w):\n",
    "    w=str(w).replace('Ontology_PMBOKV2.0.','').replace('_',' ')\n",
    "    return w"
   ]
  },
  {
   "cell_type": "code",
   "execution_count": 213,
   "id": "b19c779b",
   "metadata": {},
   "outputs": [
    {
     "data": {
      "text/plain": [
       "['date',\n",
       " 'data',\n",
       " 'cardinal',\n",
       " 'information',\n",
       " 'type',\n",
       " 'approach',\n",
       " 'variance and trend analysis',\n",
       " 'control risks tools and techniques',\n",
       " 'objective',\n",
       " 'sensitivity analysis']"
      ]
     },
     "execution_count": 213,
     "metadata": {},
     "output_type": "execute_result"
    }
   ],
   "source": [
    "list_classes_new=[change(classe) for classe in list_classes]\n",
    "list_classes_new[:10]"
   ]
  },
  {
   "cell_type": "code",
   "execution_count": 214,
   "id": "e5c8ba14",
   "metadata": {},
   "outputs": [
    {
     "data": {
      "text/plain": [
       "(297, 249)"
      ]
     },
     "execution_count": 214,
     "metadata": {},
     "output_type": "execute_result"
    }
   ],
   "source": [
    "from sklearn.feature_extraction.text import TfidfVectorizer\n",
    "\n",
    "docs = [(classe) for classe in list_classes_new ]\n",
    "        \n",
    "       \n",
    "\n",
    "# TfidfVectorizer can be instanced with many useful parameters, e.g.,\n",
    "# ngram_range (for ngram instead of 1-gram/word features), lowercase,\n",
    "# min_df and max_df (for feature min/max document frequency filtering)\n",
    "# strip_accents, tokenizer, norm (l1, l2 normalization), smooth_idf\n",
    "# (on by default, additive smoothing), analyzer (which allows extracting\n",
    "# character-level features, useful as morphological features).\n",
    "tfidf_vectorizer = TfidfVectorizer(stop_words='english')\n",
    "tfidf_matrix = tfidf_vectorizer.fit_transform(docs)\n",
    "\n",
    "tfidf_matrix.shape"
   ]
  },
  {
   "cell_type": "code",
   "execution_count": 215,
   "id": "40bdd147",
   "metadata": {},
   "outputs": [],
   "source": [
    "\n",
    "# Lets compare the last document to all the other documents.\n",
    "# As expected, the most similar document is 8, which shares\n",
    "# since it's part of Sklearn's English stopwords. The other\n",
    "# documents that have some similarity are 2 (shares 'war')\n",
    "\n",
    "\n",
    "from sklearn.metrics.pairwise import cosine_similarity"
   ]
  },
  {
   "cell_type": "code",
   "execution_count": 216,
   "id": "913705f9",
   "metadata": {},
   "outputs": [],
   "source": [
    "from copy import copy\n",
    "\n",
    "# Now lets try making a query with a new document. As\n",
    "\n",
    "query = \"what is identify risks\"\n",
    "query_vector = tfidf_vectorizer.transform([query])\n",
    "list_sim=cosine_similarity(query_vector, tfidf_matrix)[0].tolist()"
   ]
  },
  {
   "cell_type": "code",
   "execution_count": 217,
   "id": "f21c3b6c",
   "metadata": {},
   "outputs": [
    {
     "data": {
      "text/plain": [
       "1.0000000000000002"
      ]
     },
     "execution_count": 217,
     "metadata": {},
     "output_type": "execute_result"
    }
   ],
   "source": [
    "max(list_sim)"
   ]
  },
  {
   "cell_type": "code",
   "execution_count": 218,
   "id": "1245bd00",
   "metadata": {},
   "outputs": [],
   "source": [
    "list_sim_tri=sorted(list_sim,reverse=True)"
   ]
  },
  {
   "cell_type": "code",
   "execution_count": 219,
   "id": "4eb6d7a4",
   "metadata": {},
   "outputs": [
    {
     "data": {
      "text/plain": [
       "[1.0000000000000002,\n",
       " 0.81411421123281,\n",
       " 0.81411421123281,\n",
       " 0.7266938518383439,\n",
       " 0.41659255202760864,\n",
       " 0.3391539168994199,\n",
       " 0.3391539168994199,\n",
       " 0.3027352462801085,\n",
       " 0.2546051048707153,\n",
       " 0.2546051048707153,\n",
       " 0.0,\n",
       " 0.0,\n",
       " 0.0,\n",
       " 0.0,\n",
       " 0.0,\n",
       " 0.0,\n",
       " 0.0,\n",
       " 0.0,\n",
       " 0.0,\n",
       " 0.0,\n",
       " 0.0,\n",
       " 0.0,\n",
       " 0.0,\n",
       " 0.0,\n",
       " 0.0,\n",
       " 0.0,\n",
       " 0.0,\n",
       " 0.0,\n",
       " 0.0,\n",
       " 0.0,\n",
       " 0.0,\n",
       " 0.0,\n",
       " 0.0,\n",
       " 0.0,\n",
       " 0.0,\n",
       " 0.0,\n",
       " 0.0,\n",
       " 0.0,\n",
       " 0.0,\n",
       " 0.0,\n",
       " 0.0,\n",
       " 0.0,\n",
       " 0.0,\n",
       " 0.0,\n",
       " 0.0,\n",
       " 0.0,\n",
       " 0.0,\n",
       " 0.0,\n",
       " 0.0,\n",
       " 0.0,\n",
       " 0.0,\n",
       " 0.0,\n",
       " 0.0,\n",
       " 0.0,\n",
       " 0.0,\n",
       " 0.0,\n",
       " 0.0,\n",
       " 0.0,\n",
       " 0.0,\n",
       " 0.0,\n",
       " 0.0,\n",
       " 0.0,\n",
       " 0.0,\n",
       " 0.0,\n",
       " 0.0,\n",
       " 0.0,\n",
       " 0.0,\n",
       " 0.0,\n",
       " 0.0,\n",
       " 0.0,\n",
       " 0.0,\n",
       " 0.0,\n",
       " 0.0,\n",
       " 0.0,\n",
       " 0.0,\n",
       " 0.0,\n",
       " 0.0,\n",
       " 0.0,\n",
       " 0.0,\n",
       " 0.0,\n",
       " 0.0,\n",
       " 0.0,\n",
       " 0.0,\n",
       " 0.0,\n",
       " 0.0,\n",
       " 0.0,\n",
       " 0.0,\n",
       " 0.0,\n",
       " 0.0,\n",
       " 0.0,\n",
       " 0.0,\n",
       " 0.0,\n",
       " 0.0,\n",
       " 0.0,\n",
       " 0.0,\n",
       " 0.0,\n",
       " 0.0,\n",
       " 0.0,\n",
       " 0.0,\n",
       " 0.0,\n",
       " 0.0,\n",
       " 0.0,\n",
       " 0.0,\n",
       " 0.0,\n",
       " 0.0,\n",
       " 0.0,\n",
       " 0.0,\n",
       " 0.0,\n",
       " 0.0,\n",
       " 0.0,\n",
       " 0.0,\n",
       " 0.0,\n",
       " 0.0,\n",
       " 0.0,\n",
       " 0.0,\n",
       " 0.0,\n",
       " 0.0,\n",
       " 0.0,\n",
       " 0.0,\n",
       " 0.0,\n",
       " 0.0,\n",
       " 0.0,\n",
       " 0.0,\n",
       " 0.0,\n",
       " 0.0,\n",
       " 0.0,\n",
       " 0.0,\n",
       " 0.0,\n",
       " 0.0,\n",
       " 0.0,\n",
       " 0.0,\n",
       " 0.0,\n",
       " 0.0,\n",
       " 0.0,\n",
       " 0.0,\n",
       " 0.0,\n",
       " 0.0,\n",
       " 0.0,\n",
       " 0.0,\n",
       " 0.0,\n",
       " 0.0,\n",
       " 0.0,\n",
       " 0.0,\n",
       " 0.0,\n",
       " 0.0,\n",
       " 0.0,\n",
       " 0.0,\n",
       " 0.0,\n",
       " 0.0,\n",
       " 0.0,\n",
       " 0.0,\n",
       " 0.0,\n",
       " 0.0,\n",
       " 0.0,\n",
       " 0.0,\n",
       " 0.0,\n",
       " 0.0,\n",
       " 0.0,\n",
       " 0.0,\n",
       " 0.0,\n",
       " 0.0,\n",
       " 0.0,\n",
       " 0.0,\n",
       " 0.0,\n",
       " 0.0,\n",
       " 0.0,\n",
       " 0.0,\n",
       " 0.0,\n",
       " 0.0,\n",
       " 0.0,\n",
       " 0.0,\n",
       " 0.0,\n",
       " 0.0,\n",
       " 0.0,\n",
       " 0.0,\n",
       " 0.0,\n",
       " 0.0,\n",
       " 0.0,\n",
       " 0.0,\n",
       " 0.0,\n",
       " 0.0,\n",
       " 0.0,\n",
       " 0.0,\n",
       " 0.0,\n",
       " 0.0,\n",
       " 0.0,\n",
       " 0.0,\n",
       " 0.0,\n",
       " 0.0,\n",
       " 0.0,\n",
       " 0.0,\n",
       " 0.0,\n",
       " 0.0,\n",
       " 0.0,\n",
       " 0.0,\n",
       " 0.0,\n",
       " 0.0,\n",
       " 0.0,\n",
       " 0.0,\n",
       " 0.0,\n",
       " 0.0,\n",
       " 0.0,\n",
       " 0.0,\n",
       " 0.0,\n",
       " 0.0,\n",
       " 0.0,\n",
       " 0.0,\n",
       " 0.0,\n",
       " 0.0,\n",
       " 0.0,\n",
       " 0.0,\n",
       " 0.0,\n",
       " 0.0,\n",
       " 0.0,\n",
       " 0.0,\n",
       " 0.0,\n",
       " 0.0,\n",
       " 0.0,\n",
       " 0.0,\n",
       " 0.0,\n",
       " 0.0,\n",
       " 0.0,\n",
       " 0.0,\n",
       " 0.0,\n",
       " 0.0,\n",
       " 0.0,\n",
       " 0.0,\n",
       " 0.0,\n",
       " 0.0,\n",
       " 0.0,\n",
       " 0.0,\n",
       " 0.0,\n",
       " 0.0,\n",
       " 0.0,\n",
       " 0.0,\n",
       " 0.0,\n",
       " 0.0,\n",
       " 0.0,\n",
       " 0.0,\n",
       " 0.0,\n",
       " 0.0,\n",
       " 0.0,\n",
       " 0.0,\n",
       " 0.0,\n",
       " 0.0,\n",
       " 0.0,\n",
       " 0.0,\n",
       " 0.0,\n",
       " 0.0,\n",
       " 0.0,\n",
       " 0.0,\n",
       " 0.0,\n",
       " 0.0,\n",
       " 0.0,\n",
       " 0.0,\n",
       " 0.0,\n",
       " 0.0,\n",
       " 0.0,\n",
       " 0.0,\n",
       " 0.0,\n",
       " 0.0,\n",
       " 0.0,\n",
       " 0.0,\n",
       " 0.0,\n",
       " 0.0,\n",
       " 0.0,\n",
       " 0.0,\n",
       " 0.0,\n",
       " 0.0,\n",
       " 0.0,\n",
       " 0.0,\n",
       " 0.0,\n",
       " 0.0,\n",
       " 0.0,\n",
       " 0.0,\n",
       " 0.0,\n",
       " 0.0,\n",
       " 0.0,\n",
       " 0.0,\n",
       " 0.0,\n",
       " 0.0,\n",
       " 0.0,\n",
       " 0.0,\n",
       " 0.0,\n",
       " 0.0,\n",
       " 0.0,\n",
       " 0.0,\n",
       " 0.0,\n",
       " 0.0,\n",
       " 0.0,\n",
       " 0.0,\n",
       " 0.0,\n",
       " 0.0,\n",
       " 0.0,\n",
       " 0.0,\n",
       " 0.0,\n",
       " 0.0]"
      ]
     },
     "execution_count": 219,
     "metadata": {},
     "output_type": "execute_result"
    }
   ],
   "source": [
    "list_sim_tri"
   ]
  },
  {
   "cell_type": "code",
   "execution_count": 220,
   "id": "5c88d05d",
   "metadata": {},
   "outputs": [
    {
     "data": {
      "text/plain": [
       "271"
      ]
     },
     "execution_count": 220,
     "metadata": {},
     "output_type": "execute_result"
    }
   ],
   "source": [
    "list_sim.index(list_sim_tri[0])"
   ]
  },
  {
   "cell_type": "code",
   "execution_count": 221,
   "id": "82d5294a",
   "metadata": {},
   "outputs": [
    {
     "data": {
      "text/plain": [
       "'report'"
      ]
     },
     "execution_count": 221,
     "metadata": {},
     "output_type": "execute_result"
    }
   ],
   "source": [
    "list_classes_new[276]"
   ]
  },
  {
   "cell_type": "code",
   "execution_count": 222,
   "id": "24b5c8a0",
   "metadata": {},
   "outputs": [
    {
     "data": {
      "text/plain": [
       "['Identify Risks is the process of determining which risks may affect the project and documenting their characteristics. The key benefit of this process is the documentation of existing risks and the knowledge and ability it provides to the project team to anticipate events. The inputs, tools and techniques, and outputs of this process are depicted in Figure 11-5. Figure 11-6 ']"
      ]
     },
     "execution_count": 222,
     "metadata": {},
     "output_type": "execute_result"
    }
   ],
   "source": [
    "onto.identify_risks.comment"
   ]
  },
  {
   "cell_type": "code",
   "execution_count": 223,
   "id": "d75c5174",
   "metadata": {
    "scrolled": true
   },
   "outputs": [
    {
     "data": {
      "text/plain": [
       "[Ontology_PMBOKV2.0.identify_risks_inputs,\n",
       " Ontology_PMBOKV2.0.identify_risks_tools_and_techniques,\n",
       " Ontology_PMBOKV2.0.identify_risks_outputs]"
      ]
     },
     "execution_count": 223,
     "metadata": {},
     "output_type": "execute_result"
    }
   ],
   "source": [
    "list(onto.identify_risks.subclasses())"
   ]
  },
  {
   "cell_type": "code",
   "execution_count": 224,
   "id": "12977715",
   "metadata": {},
   "outputs": [
    {
     "name": "stdout",
     "output_type": "stream",
     "text": [
      "[' Risk Register The primary output from Identify Risks is the initial entry into the risk register. The risk register is a document in which the results of risk analysis and risk response planning are recorded. It contains the outcomes of the other risk management processes as they are conducted, resulting in an increase in the level and type of information contained in the risk register over time. The preparation of the risk register begins in the Identify Risks process with the following information, and then becomes available to other project management and risk management processes: List of identified risks. &P2', 'Risk Register Described in Section 11.2.3.1. The risk register contains the information that will be used to assess and prioritize risks. &P3', 'Risk Register Described in Section 11.2.3.1. The risk register is used as a reference point for performing quantitative risk analysis. &P4', ' Risk Register The risk register refers to identified risks, root causes of risks, lists of potential responses, risk owners, symptoms and warning signs, the relative rating or priority list of project risks, risks requiring responses in the near term, risks for additional analysis and response, trends in qualitative analysis results, and a watch list, which is a list of low-priority risks within the risk register. &P5', 'Risk Register The risk register has key inputs that include identified risks and risk owners, agreed-upon risk responses, control actions for assessing the effectiveness of response plans, risk responses, specific implementation actions, symptoms and warning signs of risk, residual and secondary risks, a watch list of low-priority risks, and the time and cost contingency reserves. The watch list is within the risk register and provides a list of low-priority risks.351©2013 Project Management Institute. 11 &P6']\n"
     ]
    }
   ],
   "source": [
    "for classe in onto.identify_risks_outputs.subclasses():\n",
    "    print(classe.comment)"
   ]
  },
  {
   "cell_type": "code",
   "execution_count": 225,
   "id": "48114371",
   "metadata": {},
   "outputs": [],
   "source": [
    "def isSubOfProcess(classe):\n",
    "    if ('inputs' in classe or ('outputs' in classe) or ('tools' in classe )):\n",
    "        return True\n",
    "    else :\n",
    "        return False"
   ]
  },
  {
   "cell_type": "code",
   "execution_count": 226,
   "id": "c6d8c81e",
   "metadata": {},
   "outputs": [
    {
     "data": {
      "text/plain": [
       "True"
      ]
     },
     "execution_count": 226,
     "metadata": {},
     "output_type": "execute_result"
    }
   ],
   "source": [
    "isSubOfProcess(\"plan risk inputs\")"
   ]
  },
  {
   "cell_type": "code",
   "execution_count": 227,
   "id": "3b3d7764",
   "metadata": {},
   "outputs": [],
   "source": [
    "def isProcess(classe):\n",
    "    if classe in processes:\n",
    "        return True\n",
    "    else : \n",
    "        return False"
   ]
  },
  {
   "cell_type": "code",
   "execution_count": 228,
   "id": "fd15e367",
   "metadata": {},
   "outputs": [],
   "source": [
    "def get_process_name(classe):\n",
    "    return classe.replace('tools and techniques','').replace('inputs','').replace('outputs','').strip()"
   ]
  },
  {
   "cell_type": "code",
   "execution_count": 229,
   "id": "9941276b",
   "metadata": {},
   "outputs": [],
   "source": [
    "def list_Instance(instance):\n",
    "    list_ancestors=instance.ancestors()\n",
    "    list_ancestors=[change(value) for value in list_ancestors]\n",
    "    list_ancestors =[ classe for classe in list_ancestors if ('inputs' in classe or ('outputs' in classe) or ('tools' in classe ) )]\n",
    "    return list_ancestors\n",
    "    "
   ]
  },
  {
   "cell_type": "code",
   "execution_count": 230,
   "id": "4c8b15d6",
   "metadata": {},
   "outputs": [
    {
     "data": {
      "text/plain": [
       "'plan tt management'"
      ]
     },
     "execution_count": 230,
     "metadata": {},
     "output_type": "execute_result"
    }
   ],
   "source": [
    "spell(\"plen tt mangagment\")"
   ]
  },
  {
   "cell_type": "code",
   "execution_count": 231,
   "id": "3b215146",
   "metadata": {},
   "outputs": [],
   "source": [
    "def Recommande(query):\n",
    "    query=spell(query)\n",
    "    isSubProcess,isaProcess,is_instance,is_found=False,False,False,True\n",
    "    concept=np.nan        \n",
    "    query_vector = tfidf_vectorizer.transform([query])\n",
    "    list_sim=cosine_similarity(query_vector, tfidf_matrix)[0].tolist()\n",
    "    max_sim_term=max(list_sim)\n",
    "    index= list_sim.index(max_sim_term) \n",
    "    keyword=list_classes_new[index]\n",
    "    if(max_sim_term<0.2):\n",
    "        is_found=False\n",
    "    #print(keyword)\n",
    "    #concept=RechercheOntology(keyword)\n",
    "    concept=list_classes[index]\n",
    "    if len(list_Instance(concept))>0 :\n",
    "        is_instance=True\n",
    "    if (concept!=np.nan):\n",
    "        keyword=change(concept)\n",
    "    if (isSubOfProcess(keyword)):\n",
    "        isSubProcess=True\n",
    "        is_instance=False\n",
    "    if (isProcess(keyword)):\n",
    "        isaProcess=True \n",
    "    \n",
    "    return keyword,concept,[isaProcess,isSubProcess,is_instance],list_Instance(concept),is_found"
   ]
  },
  {
   "cell_type": "code",
   "execution_count": 232,
   "id": "aa60befd",
   "metadata": {},
   "outputs": [
    {
     "data": {
      "text/plain": [
       "('risk register',\n",
       " Ontology_PMBOKV2.0.risk_register,\n",
       " [False, False, True],\n",
       " ['identify risks outputs',\n",
       "  'perform quantitative  risk analysis inputs',\n",
       "  'perform qualitative  risk analysis inputs',\n",
       "  'control risks inputs',\n",
       "  'plan risk responses inputs'],\n",
       " True)"
      ]
     },
     "execution_count": 232,
     "metadata": {},
     "output_type": "execute_result"
    }
   ],
   "source": [
    "Recommande(\" whats risk register\")"
   ]
  },
  {
   "cell_type": "code",
   "execution_count": 233,
   "id": "ea67abb7",
   "metadata": {},
   "outputs": [
    {
     "data": {
      "text/plain": [
       "'control risks'"
      ]
     },
     "execution_count": 233,
     "metadata": {},
     "output_type": "execute_result"
    }
   ],
   "source": [
    "get_process_name(list(Recommande(\"control risks inputs\"))[0])"
   ]
  },
  {
   "cell_type": "code",
   "execution_count": 234,
   "id": "cab531db",
   "metadata": {
    "scrolled": true
   },
   "outputs": [],
   "source": [
    "#onto.enterprise_environmental_factors.comment"
   ]
  },
  {
   "cell_type": "code",
   "execution_count": 235,
   "id": "397724cb",
   "metadata": {},
   "outputs": [
    {
     "data": {
      "text/plain": [
       "['perform quantitative  risk analysis inputs',\n",
       " 'identify risks inputs',\n",
       " 'knowledge area',\n",
       " 'project risk management',\n",
       " 'enterprise environmental factors',\n",
       " 'perform quantitative  risk analysis',\n",
       " 'plan risk management inputs',\n",
       " 'identify risks',\n",
       " 'plan risk management',\n",
       " 'perform qualitative  risk analysis inputs',\n",
       " 'perform qualitative  risk analysis',\n",
       " 'owl.Thing']"
      ]
     },
     "execution_count": 235,
     "metadata": {},
     "output_type": "execute_result"
    }
   ],
   "source": [
    "list_ancestors= list(onto.enterprise_environmental_factors.ancestors())\n",
    "list_ancestors= [ change(classe) for classe in list_ancestors]\n",
    "list_ancestors"
   ]
  },
  {
   "cell_type": "code",
   "execution_count": 236,
   "id": "53dd8f5b",
   "metadata": {},
   "outputs": [],
   "source": [
    "list_ancestors =[ classe for classe in list_ancestors if ('inputs' in classe or ('outputs' in classe) or ('tools' in classe ) )]\n",
    "#list_ancestors = [ classe.replace('tools and techniques','').replace('inputs','').replace('outputs','').strip() for classe in list_ancestors]"
   ]
  },
  {
   "cell_type": "code",
   "execution_count": 237,
   "id": "047e442f",
   "metadata": {},
   "outputs": [
    {
     "data": {
      "text/plain": [
       "['perform quantitative  risk analysis inputs',\n",
       " 'identify risks inputs',\n",
       " 'plan risk management inputs',\n",
       " 'perform qualitative  risk analysis inputs']"
      ]
     },
     "execution_count": 237,
     "metadata": {},
     "output_type": "execute_result"
    }
   ],
   "source": [
    "list_ancestors"
   ]
  },
  {
   "cell_type": "code",
   "execution_count": 238,
   "id": "ece4be9a",
   "metadata": {},
   "outputs": [],
   "source": [
    "dict_processes={'plan risk management':'&P1',\n",
    " 'identify risks':'&P2',\n",
    " 'perform qualitative  risk analysis':'&P3',\n",
    " 'perform quantitative  risk analysis':'&P4',\n",
    " 'plan risk responses':'&P5',\n",
    " 'control risks':'&P6'}"
   ]
  },
  {
   "cell_type": "code",
   "execution_count": 239,
   "id": "b537e2a9",
   "metadata": {},
   "outputs": [
    {
     "data": {
      "text/plain": [
       "'&P4'"
      ]
     },
     "execution_count": 239,
     "metadata": {},
     "output_type": "execute_result"
    }
   ],
   "source": [
    "dict_processes.get('perform quantitative  risk analysis')"
   ]
  },
  {
   "cell_type": "code",
   "execution_count": 240,
   "id": "3ec3c4b8",
   "metadata": {
    "scrolled": false
   },
   "outputs": [
    {
     "data": {
      "text/plain": [
       "'Enterprise Environmental Factors Described in Section 2.1.5. The enterprise environmental factors that can influence the Plan Risk Management process include, but are not limited to, risk attitudes, thresholds, and tolerances that describe the degree of risk that an organization will withstand. &P1'"
      ]
     },
     "execution_count": 240,
     "metadata": {},
     "output_type": "execute_result"
    }
   ],
   "source": [
    "onto.enterprise_environmental_factors.comment[0]"
   ]
  },
  {
   "cell_type": "code",
   "execution_count": 241,
   "id": "94c35e98",
   "metadata": {
    "scrolled": true
   },
   "outputs": [
    {
     "data": {
      "text/plain": [
       "['project documents updates',\n",
       " Ontology_PMBOKV2.0.project_documents_updates,\n",
       " [False, False, True],\n",
       " ['control risks outputs',\n",
       "  'plan risk responses outputs',\n",
       "  'perform qualitative  risk analysis outputs',\n",
       "  'perform quantitative  risk analysis outputs'],\n",
       " True]"
      ]
     },
     "execution_count": 241,
     "metadata": {},
     "output_type": "execute_result"
    }
   ],
   "source": [
    "list(Recommande(\"project documents updates\"))"
   ]
  },
  {
   "cell_type": "code",
   "execution_count": 242,
   "id": "27e003b3",
   "metadata": {},
   "outputs": [],
   "source": [
    "def get_subclasses(Type,classe):\n",
    "    list_subclasses=[]\n",
    "    for element in classe.subclasses():\n",
    "        if Type in change(str(element)):\n",
    "            for value in element.subclasses():\n",
    "                list_subclasses.append(change(str(value)))\n",
    "    return list_subclasses                       "
   ]
  },
  {
   "cell_type": "code",
   "execution_count": 243,
   "id": "199e583f",
   "metadata": {},
   "outputs": [],
   "source": [
    "def get_annotation(process,list_annotation):\n",
    "    for annotation in list_annotation:\n",
    "        if (dict_processes.get(process) in  annotation):\n",
    "            return annotation\n",
    "    return \"\""
   ]
  },
  {
   "cell_type": "code",
   "execution_count": 244,
   "id": "0518eb8b",
   "metadata": {},
   "outputs": [],
   "source": [
    "def get_list_annotation(process,process_sub):\n",
    "    list_annotations=[]\n",
    "    for element in process_sub.subclasses():\n",
    "        list_annotations.append(get_annotation(process,element.comment))\n",
    "    return list_annotations    "
   ]
  },
  {
   "cell_type": "code",
   "execution_count": 245,
   "id": "341e4e9f",
   "metadata": {
    "scrolled": true
   },
   "outputs": [
    {
     "data": {
      "text/plain": [
       "['variance and trend analysis',\n",
       " 'reserve analysis',\n",
       " 'technical performance measurement',\n",
       " 'risk audits',\n",
       " 'meetings',\n",
       " 'risk reassessment']"
      ]
     },
     "execution_count": 245,
     "metadata": {},
     "output_type": "execute_result"
    }
   ],
   "source": [
    "get_subclasses(\"tools and techniques\",onto.control_risks)"
   ]
  },
  {
   "cell_type": "code",
   "execution_count": 246,
   "id": "d9d7c21f",
   "metadata": {},
   "outputs": [
    {
     "name": "stdout",
     "output_type": "stream",
     "text": [
      "Ontology_PMBOKV2.0.work_performance_data\n",
      "Work Performance Data Described in Section 4.3.3.2. Work performance data related to various performance results possibly impacted by risks includes, but is not limited to:Deliverable status,Schedule progress, and Costs incurred. &P6\n",
      "Ontology_PMBOKV2.0.project_management_plan\n",
      "Project Management Plan Described in Section 4.2.3.1. The project management plan, which includes the risk management plan, provides guidance for risk monitoring and controlling. &P6\n",
      "Ontology_PMBOKV2.0.risk_register\n",
      "Risk Register The risk register has key inputs that include identified risks and risk owners, agreed-upon risk responses, control actions for assessing the effectiveness of response plans, risk responses, specific implementation actions, symptoms and warning signs of risk, residual and secondary risks, a watch list of low-priority risks, and the time and cost contingency reserves. The watch list is within the risk register and provides a list of low-priority risks.351©2013 Project Management Institute. 11 &P6\n",
      "Ontology_PMBOKV2.0.work_performance_reports\n",
      " Work Performance Reports Described in Section 4.4.3.2. Work performance reports take information from performance measurements and analyze it to provide project work performance information including variance analysis, earned value data, and forecasting data. These data points could be impactful in controlling performance related risks. &P6\n"
     ]
    }
   ],
   "source": [
    "for element in onto.control_risks_inputs.subclasses():\n",
    "    process=get_process_name('control risks inputs')\n",
    "    print(element)\n",
    "    annotation=get_annotation(process,element.comment)\n",
    "    print(annotation)"
   ]
  },
  {
   "cell_type": "code",
   "execution_count": 247,
   "id": "d2a6ed4c",
   "metadata": {},
   "outputs": [
    {
     "data": {
      "text/plain": [
       "['Work Performance Data Described in Section 4.3.3.2. Work performance data related to various performance results possibly impacted by risks includes, but is not limited to:Deliverable status,Schedule progress, and Costs incurred. &P6',\n",
       " 'Project Management Plan Described in Section 4.2.3.1. The project management plan, which includes the risk management plan, provides guidance for risk monitoring and controlling. &P6',\n",
       " 'Risk Register The risk register has key inputs that include identified risks and risk owners, agreed-upon risk responses, control actions for assessing the effectiveness of response plans, risk responses, specific implementation actions, symptoms and warning signs of risk, residual and secondary risks, a watch list of low-priority risks, and the time and cost contingency reserves. The watch list is within the risk register and provides a list of low-priority risks.351©2013 Project Management Institute. 11 &P6',\n",
       " ' Work Performance Reports Described in Section 4.4.3.2. Work performance reports take information from performance measurements and analyze it to provide project work performance information including variance analysis, earned value data, and forecasting data. These data points could be impactful in controlling performance related risks. &P6']"
      ]
     },
     "execution_count": 247,
     "metadata": {},
     "output_type": "execute_result"
    }
   ],
   "source": [
    "get_list_annotation('control risks',onto.control_risks_inputs)"
   ]
  },
  {
   "cell_type": "code",
   "execution_count": 248,
   "id": "6808daf2",
   "metadata": {},
   "outputs": [
    {
     "data": {
      "text/plain": [
       "'Enterprise Environmental Factors Described in Section 2.1.5. Enterprise environmental factors may provide insight and context to the risk analysis, such as:Industry studies of similar projects by risk specialists, and Risk databases that may be available from industry or proprietary sources.336©2013 Project Management Institute. &P4'"
      ]
     },
     "execution_count": 248,
     "metadata": {},
     "output_type": "execute_result"
    }
   ],
   "source": [
    "get_annotation('perform quantitative  risk analysis',onto.enterprise_environmental_factors.comment)"
   ]
  },
  {
   "cell_type": "code",
   "execution_count": 249,
   "id": "9400a2c6",
   "metadata": {},
   "outputs": [
    {
     "data": {
      "text/plain": [
       "{Ontology_PMBOKV2.0.control_risks,\n",
       " Ontology_PMBOKV2.0.control_risks_outputs,\n",
       " Ontology_PMBOKV2.0.knowledge_area,\n",
       " Ontology_PMBOKV2.0.perform_qualitative__risk_analysis,\n",
       " Ontology_PMBOKV2.0.perform_qualitative__risk_analysis_outputs,\n",
       " Ontology_PMBOKV2.0.perform_quantitative__risk_analysis,\n",
       " Ontology_PMBOKV2.0.perform_quantitative__risk_analysis_outputs,\n",
       " Ontology_PMBOKV2.0.plan_risk_responses,\n",
       " Ontology_PMBOKV2.0.plan_risk_responses_outputs,\n",
       " Ontology_PMBOKV2.0.project_documents_updates,\n",
       " Ontology_PMBOKV2.0.project_risk_management,\n",
       " owl.Thing}"
      ]
     },
     "execution_count": 249,
     "metadata": {},
     "output_type": "execute_result"
    }
   ],
   "source": [
    "onto.project_documents_updates.ancestors()"
   ]
  },
  {
   "cell_type": "code",
   "execution_count": 250,
   "id": "b50b16d8",
   "metadata": {
    "scrolled": true
   },
   "outputs": [
    {
     "data": {
      "text/plain": [
       "['control risks outputs',\n",
       " 'plan risk responses outputs',\n",
       " 'perform qualitative  risk analysis outputs',\n",
       " 'perform quantitative  risk analysis outputs']"
      ]
     },
     "execution_count": 250,
     "metadata": {},
     "output_type": "execute_result"
    }
   ],
   "source": [
    "list_Instance(onto.project_documents_updates)"
   ]
  },
  {
   "cell_type": "code",
   "execution_count": 251,
   "id": "de1dafa1",
   "metadata": {},
   "outputs": [
    {
     "data": {
      "text/plain": [
       "'Enterprise Environmental Factors Described in Section 2.1.5. The enterprise environmental factors that can influence the Plan Risk Management process include, but are not limited to, risk attitudes, thresholds, and tolerances that describe the degree of risk that an organization will withstand. &P1'"
      ]
     },
     "execution_count": 251,
     "metadata": {},
     "output_type": "execute_result"
    }
   ],
   "source": [
    "comment=onto.enterprise_environmental_factors.comment[0]\n",
    "comment"
   ]
  },
  {
   "cell_type": "code",
   "execution_count": 252,
   "id": "0dbfd1a1",
   "metadata": {},
   "outputs": [
    {
     "data": {
      "text/plain": [
       "'Identify Risks is the process of determining which risks may affect the project and documenting their characteristics. The key benefit of this process is the documentation of existing risks and the knowledge and ability it provides to the project team to anticipate events. The inputs, tools and techniques, and outputs of this process are depicted in Figure 11-5. Figure 11-6 '"
      ]
     },
     "execution_count": 252,
     "metadata": {},
     "output_type": "execute_result"
    }
   ],
   "source": [
    "comment2=onto.identify_risks.comment[0]\n",
    "comment2"
   ]
  },
  {
   "cell_type": "code",
   "execution_count": 253,
   "id": "923e4b69",
   "metadata": {},
   "outputs": [],
   "source": [
    "table_figures=\"\"\n",
    "for i in range(15,26):\n",
    "    my_page = pdfReader.getPage(i)\n",
    "    table_figures=table_figures+my_page.extractText()\n",
    "table_figures=table_figures.replace(\"\\n\",\" \").replace(\"..\",\"\")"
   ]
  },
  {
   "cell_type": "code",
   "execution_count": 254,
   "id": "bf260cf2",
   "metadata": {},
   "outputs": [],
   "source": [
    "def to_int(text):\n",
    "    page=\"\"\n",
    "    i=0\n",
    "    for s in text:\n",
    "        if(s.isdigit()):\n",
    "            page=page+s\n",
    "            i=i+1\n",
    "            if(i==3):\n",
    "                break;\n",
    "    page=int(page)\n",
    "    return page"
   ]
  },
  {
   "cell_type": "code",
   "execution_count": 255,
   "id": "10adb795",
   "metadata": {},
   "outputs": [],
   "source": [
    "#extraction de la num page figure\n",
    "def extracy_figure_page(annotation,table_figures):\n",
    "    dict_Figure={}\n",
    "    listF=re.findall(r'Figure +.[0-9]+-[0-9].', annotation)\n",
    "    for figure in listF:\n",
    "        figure=figure.replace('.','').strip()\n",
    "        last_number=int(figure[-1])\n",
    "        page=extract_text(table_figures,figure,figure[:-1]+str(last_number+ 1))\n",
    "        dict_Figure[figure]=to_int(page)+26\n",
    "    return dict_Figure    "
   ]
  },
  {
   "cell_type": "code",
   "execution_count": 256,
   "id": "eb8d06a3",
   "metadata": {},
   "outputs": [
    {
     "data": {
      "text/plain": [
       "'Identify Risks is the process of determining which risks may affect the project and documenting their characteristics. The key benefit of this process is the documentation of existing risks and the knowledge and ability it provides to the project team to anticipate events. The inputs, tools and techniques, and outputs of this process are depicted in Figure 11-5. Figure 11-6 '"
      ]
     },
     "execution_count": 256,
     "metadata": {},
     "output_type": "execute_result"
    }
   ],
   "source": [
    "annotation_processes[1]"
   ]
  },
  {
   "cell_type": "code",
   "execution_count": 257,
   "id": "7ab55b3b",
   "metadata": {},
   "outputs": [
    {
     "data": {
      "text/plain": [
       "{'Figure 11-5': 345, 'Figure 11-6': 346}"
      ]
     },
     "execution_count": 257,
     "metadata": {},
     "output_type": "execute_result"
    }
   ],
   "source": [
    "extracy_figure_page(annotation_processes[1],table_figures)\n"
   ]
  },
  {
   "cell_type": "code",
   "execution_count": 258,
   "id": "d5069687",
   "metadata": {},
   "outputs": [],
   "source": [
    "writer = PyPDF2.PdfFileWriter()\n",
    "Context=\"\"\n",
    "for i in range(4,25):\n",
    "    my_page = pdfReader.getPage(i)\n",
    "    Context=Context+my_page.extractText()\n",
    "Context=Context.replace(\"\\n\",\" \").replace(\"..\",\"\")"
   ]
  },
  {
   "cell_type": "code",
   "execution_count": 259,
   "id": "457f1433",
   "metadata": {},
   "outputs": [],
   "source": [
    "#extraction de la num page pour le section\n",
    "def get_section_page(comment):\n",
    "    if \"Section\" in comment:\n",
    "        section=extract_text(comment,\"Section\",\". \").strip()+\" \"\n",
    "        index=0\n",
    "        n=int((section).split('.')[0])\n",
    "        l=[]\n",
    "        if n in range(1,5):\n",
    "            l=[27,130]\n",
    "        elif n in range(5,8):\n",
    "            l=[130,252]\n",
    "        elif n in range(8,12):\n",
    "            l=[253,380]\n",
    "        else :\n",
    "            l=[381,500]\n",
    "        for i in range(l[0],l[1]):        \n",
    "            page=pdfReader.getPage(i)\n",
    "            if (section in page.extractText()):\n",
    "                index=i\n",
    "                return index+1\n",
    "\n",
    "    return "
   ]
  },
  {
   "cell_type": "code",
   "execution_count": 260,
   "id": "017d0191",
   "metadata": {},
   "outputs": [],
   "source": [
    "comments=get_list_annotation(get_process_name(Recommande(\"control risks inputs\")[0]),Recommande(\"control risks inputs\")[1])"
   ]
  },
  {
   "cell_type": "code",
   "execution_count": 261,
   "id": "ec89d059",
   "metadata": {
    "scrolled": true
   },
   "outputs": [
    {
     "data": {
      "text/plain": [
       "'Project Management Plan Described in Section 4.2.3.1. The project management plan, which includes the risk management plan, provides guidance for risk monitoring and controlling. &P6'"
      ]
     },
     "execution_count": 261,
     "metadata": {},
     "output_type": "execute_result"
    }
   ],
   "source": [
    "comments[1]"
   ]
  },
  {
   "cell_type": "code",
   "execution_count": 262,
   "id": "2cb71eb8",
   "metadata": {},
   "outputs": [
    {
     "data": {
      "text/plain": [
       "102"
      ]
     },
     "execution_count": 262,
     "metadata": {},
     "output_type": "execute_result"
    }
   ],
   "source": [
    "get_section_page(comments[1])"
   ]
  },
  {
   "cell_type": "code",
   "execution_count": null,
   "id": "f23a8d7c",
   "metadata": {},
   "outputs": [],
   "source": []
  }
 ],
 "metadata": {
  "kernelspec": {
   "display_name": "Python 3",
   "language": "python",
   "name": "python3"
  },
  "language_info": {
   "codemirror_mode": {
    "name": "ipython",
    "version": 3
   },
   "file_extension": ".py",
   "mimetype": "text/x-python",
   "name": "python",
   "nbconvert_exporter": "python",
   "pygments_lexer": "ipython3",
   "version": "3.6.5"
  }
 },
 "nbformat": 4,
 "nbformat_minor": 5
}
